{
 "cells": [
  {
   "cell_type": "markdown",
   "metadata": {},
   "source": [
    "## [Machine Bias](https://www.propublica.org/article/machine-bias-risk-assessments-in-criminal-sentencing): ProPublica's Analysis of the COMPAS Tool"
   ]
  },
  {
   "cell_type": "markdown",
   "metadata": {},
   "source": [
    "This workbook restates the initial data analysis tasks, per ProPublica's [methodology description](https://www.propublica.org/article/how-we-analyzed-the-compas-recidivism-algorithm) and [code](https://github.com/propublica/compas-analysis/blob/master/Compas%20Analysis.ipynb)"
   ]
  },
  {
   "cell_type": "markdown",
   "metadata": {},
   "source": [
    "ProPublica's analysis was done in R, but we will do our same analysis in Python for the Lab"
   ]
  },
  {
   "cell_type": "markdown",
   "metadata": {},
   "source": [
    "## Description"
   ]
  },
  {
   "cell_type": "markdown",
   "metadata": {},
   "source": [
    "ProPublica analyzed 18,610 criminal defendants in Broward County, Florida and compared their predicted recidivism rates with the rate that actually occurred over a two-year period to determine if there was any bias."
   ]
  },
  {
   "cell_type": "markdown",
   "metadata": {},
   "source": [
    "## Importing Relevant Packages"
   ]
  },
  {
   "cell_type": "code",
   "execution_count": 1,
   "metadata": {},
   "outputs": [],
   "source": [
    "import math\n",
    "import pandas as pd\n",
    "import numpy as np\n",
    "import statsmodels.api as sm\n",
    "\n",
    "import matplotlib\n",
    "import matplotlib.pyplot as plt\n",
    "%matplotlib inline\n",
    "\n",
    "import seaborn as sns"
   ]
  },
  {
   "cell_type": "markdown",
   "metadata": {},
   "source": [
    "### Acquiring the dataset, and understanding the data collection methodology."
   ]
  },
  {
   "cell_type": "markdown",
   "metadata": {},
   "source": [
    "Read the description of the [data collection methodology](https://www.propublica.org/article/how-we-analyzed-the-compas-recidivism-algorithm).  Salient points are highlighted below; see full description from ProPublica for additional details.  \n",
    "\n",
    ">**Goal**: We looked at more than 10,000 criminal defendants in Broward County, Florida, and compared their predicted recidivism rates with the rate that actually occurred over a two-year period.\n",
    "\n",
    ">**COMPAS tool input (data subjects)**: When most defendants are booked in jail, they respond to a COMPAS questionnaire. Their answers are fed into the COMPAS software to generate several scores including predictions of *Risk of Recidivism* and *Risk of Violent Recidivism*\n",
    "\n",
    ">**How COMPAS input was acquired by ProPublica**: Through a public records request, ProPublica obtained two years worth of COMPAS scores from the Broward County Sheriff’s Office in Florida. We received data for all 18,610 people who were scored in 2013 and 2014.\n",
    "\n",
    ">**COMPAS tool output**: Each pretrial defendant received at least three COMPAS scores: “Risk of Recidivism,” “Risk of Violence” and “Risk of Failure to Appear. ... COMPAS scores for each defendant ranged from 1 to 10, with ten being the highest risk. Scores 1 to 4 were labeled by COMPAS as “Low”; 5 to 7 were labeled “Medium”; and 8 to 10 were labeled “High.”\n",
    "\n",
    ">**Data integration (record linkage) to matching COMPAS input and output with an individual's criminal history** Starting with the database of COMPAS scores, we built a profile of each person’s criminal history, both before and after they were scored. We collected public criminal records from the Broward County Clerk’s Office website through April 1, 2016. On average, defendants in our dataset were not incarcerated for 622.87 days (sd: 329.19).\n",
    "\n",
    ">**Data integration (record linkage) details**: We matched the criminal records to the COMPAS records using a person’s first and last names and date of birth. This is the same technique used in the Broward County COMPAS validation study conducted by researchers at Florida State University in 2010. We downloaded around 80,000 criminal records from the Broward County Clerk’s Office website.\n",
    "\n",
    ">**What is recidivism?**: Northpointe defined recidivism as “a finger-printable arrest involving a charge and a filing for any uniform crime reporting (UCR) code.” We interpreted that to mean a criminal offense that resulted in a jail booking and took place after the crime for which the person was COMPAS scored. ... **For most of our analysis, we defined recidivism as a new arrest within two years. **"
   ]
  },
  {
   "cell_type": "markdown",
   "metadata": {},
   "source": [
    "# Part-1"
   ]
  },
  {
   "cell_type": "markdown",
   "metadata": {},
   "source": [
    "# Risk of Recidivism"
   ]
  },
  {
   "cell_type": "code",
   "execution_count": 2,
   "metadata": {},
   "outputs": [
    {
     "name": "stdout",
     "output_type": "stream",
     "text": [
      "Shape:  (7214, 53)\n"
     ]
    },
    {
     "data": {
      "text/html": [
       "<div>\n",
       "<style scoped>\n",
       "    .dataframe tbody tr th:only-of-type {\n",
       "        vertical-align: middle;\n",
       "    }\n",
       "\n",
       "    .dataframe tbody tr th {\n",
       "        vertical-align: top;\n",
       "    }\n",
       "\n",
       "    .dataframe thead th {\n",
       "        text-align: right;\n",
       "    }\n",
       "</style>\n",
       "<table border=\"1\" class=\"dataframe\">\n",
       "  <thead>\n",
       "    <tr style=\"text-align: right;\">\n",
       "      <th></th>\n",
       "      <th>id</th>\n",
       "      <th>name</th>\n",
       "      <th>first</th>\n",
       "      <th>last</th>\n",
       "      <th>compas_screening_date</th>\n",
       "      <th>sex</th>\n",
       "      <th>dob</th>\n",
       "      <th>age</th>\n",
       "      <th>age_cat</th>\n",
       "      <th>race</th>\n",
       "      <th>...</th>\n",
       "      <th>v_decile_score</th>\n",
       "      <th>v_score_text</th>\n",
       "      <th>v_screening_date</th>\n",
       "      <th>in_custody</th>\n",
       "      <th>out_custody</th>\n",
       "      <th>priors_count.1</th>\n",
       "      <th>start</th>\n",
       "      <th>end</th>\n",
       "      <th>event</th>\n",
       "      <th>two_year_recid</th>\n",
       "    </tr>\n",
       "  </thead>\n",
       "  <tbody>\n",
       "    <tr>\n",
       "      <th>0</th>\n",
       "      <td>1</td>\n",
       "      <td>miguel hernandez</td>\n",
       "      <td>miguel</td>\n",
       "      <td>hernandez</td>\n",
       "      <td>2013-08-14</td>\n",
       "      <td>Male</td>\n",
       "      <td>1947-04-18</td>\n",
       "      <td>69</td>\n",
       "      <td>Greater than 45</td>\n",
       "      <td>Other</td>\n",
       "      <td>...</td>\n",
       "      <td>1</td>\n",
       "      <td>Low</td>\n",
       "      <td>2013-08-14</td>\n",
       "      <td>2014-07-07</td>\n",
       "      <td>2014-07-14</td>\n",
       "      <td>0</td>\n",
       "      <td>0</td>\n",
       "      <td>327</td>\n",
       "      <td>0</td>\n",
       "      <td>0</td>\n",
       "    </tr>\n",
       "    <tr>\n",
       "      <th>1</th>\n",
       "      <td>3</td>\n",
       "      <td>kevon dixon</td>\n",
       "      <td>kevon</td>\n",
       "      <td>dixon</td>\n",
       "      <td>2013-01-27</td>\n",
       "      <td>Male</td>\n",
       "      <td>1982-01-22</td>\n",
       "      <td>34</td>\n",
       "      <td>25 - 45</td>\n",
       "      <td>African-American</td>\n",
       "      <td>...</td>\n",
       "      <td>1</td>\n",
       "      <td>Low</td>\n",
       "      <td>2013-01-27</td>\n",
       "      <td>2013-01-26</td>\n",
       "      <td>2013-02-05</td>\n",
       "      <td>0</td>\n",
       "      <td>9</td>\n",
       "      <td>159</td>\n",
       "      <td>1</td>\n",
       "      <td>1</td>\n",
       "    </tr>\n",
       "    <tr>\n",
       "      <th>2</th>\n",
       "      <td>4</td>\n",
       "      <td>ed philo</td>\n",
       "      <td>ed</td>\n",
       "      <td>philo</td>\n",
       "      <td>2013-04-14</td>\n",
       "      <td>Male</td>\n",
       "      <td>1991-05-14</td>\n",
       "      <td>24</td>\n",
       "      <td>Less than 25</td>\n",
       "      <td>African-American</td>\n",
       "      <td>...</td>\n",
       "      <td>3</td>\n",
       "      <td>Low</td>\n",
       "      <td>2013-04-14</td>\n",
       "      <td>2013-06-16</td>\n",
       "      <td>2013-06-16</td>\n",
       "      <td>4</td>\n",
       "      <td>0</td>\n",
       "      <td>63</td>\n",
       "      <td>0</td>\n",
       "      <td>1</td>\n",
       "    </tr>\n",
       "    <tr>\n",
       "      <th>3</th>\n",
       "      <td>5</td>\n",
       "      <td>marcu brown</td>\n",
       "      <td>marcu</td>\n",
       "      <td>brown</td>\n",
       "      <td>2013-01-13</td>\n",
       "      <td>Male</td>\n",
       "      <td>1993-01-21</td>\n",
       "      <td>23</td>\n",
       "      <td>Less than 25</td>\n",
       "      <td>African-American</td>\n",
       "      <td>...</td>\n",
       "      <td>6</td>\n",
       "      <td>Medium</td>\n",
       "      <td>2013-01-13</td>\n",
       "      <td>NaN</td>\n",
       "      <td>NaN</td>\n",
       "      <td>1</td>\n",
       "      <td>0</td>\n",
       "      <td>1174</td>\n",
       "      <td>0</td>\n",
       "      <td>0</td>\n",
       "    </tr>\n",
       "    <tr>\n",
       "      <th>4</th>\n",
       "      <td>6</td>\n",
       "      <td>bouthy pierrelouis</td>\n",
       "      <td>bouthy</td>\n",
       "      <td>pierrelouis</td>\n",
       "      <td>2013-03-26</td>\n",
       "      <td>Male</td>\n",
       "      <td>1973-01-22</td>\n",
       "      <td>43</td>\n",
       "      <td>25 - 45</td>\n",
       "      <td>Other</td>\n",
       "      <td>...</td>\n",
       "      <td>1</td>\n",
       "      <td>Low</td>\n",
       "      <td>2013-03-26</td>\n",
       "      <td>NaN</td>\n",
       "      <td>NaN</td>\n",
       "      <td>2</td>\n",
       "      <td>0</td>\n",
       "      <td>1102</td>\n",
       "      <td>0</td>\n",
       "      <td>0</td>\n",
       "    </tr>\n",
       "  </tbody>\n",
       "</table>\n",
       "<p>5 rows × 53 columns</p>\n",
       "</div>"
      ],
      "text/plain": [
       "   id                name   first         last compas_screening_date   sex  \\\n",
       "0   1    miguel hernandez  miguel    hernandez            2013-08-14  Male   \n",
       "1   3         kevon dixon   kevon        dixon            2013-01-27  Male   \n",
       "2   4            ed philo      ed        philo            2013-04-14  Male   \n",
       "3   5         marcu brown   marcu        brown            2013-01-13  Male   \n",
       "4   6  bouthy pierrelouis  bouthy  pierrelouis            2013-03-26  Male   \n",
       "\n",
       "          dob  age          age_cat              race  ...  v_decile_score  \\\n",
       "0  1947-04-18   69  Greater than 45             Other  ...               1   \n",
       "1  1982-01-22   34          25 - 45  African-American  ...               1   \n",
       "2  1991-05-14   24     Less than 25  African-American  ...               3   \n",
       "3  1993-01-21   23     Less than 25  African-American  ...               6   \n",
       "4  1973-01-22   43          25 - 45             Other  ...               1   \n",
       "\n",
       "   v_score_text  v_screening_date  in_custody  out_custody  priors_count.1  \\\n",
       "0           Low        2013-08-14  2014-07-07   2014-07-14               0   \n",
       "1           Low        2013-01-27  2013-01-26   2013-02-05               0   \n",
       "2           Low        2013-04-14  2013-06-16   2013-06-16               4   \n",
       "3        Medium        2013-01-13         NaN          NaN               1   \n",
       "4           Low        2013-03-26         NaN          NaN               2   \n",
       "\n",
       "  start   end event two_year_recid  \n",
       "0     0   327     0              0  \n",
       "1     9   159     1              1  \n",
       "2     0    63     0              1  \n",
       "3     0  1174     0              0  \n",
       "4     0  1102     0              0  \n",
       "\n",
       "[5 rows x 53 columns]"
      ]
     },
     "execution_count": 2,
     "metadata": {},
     "output_type": "execute_result"
    }
   ],
   "source": [
    "instructor_path = \"../../shared/Lab 1/compas-scores-two-years.csv\"\n",
    "student_path = \"../shared/Lab 1/compas-scores-two-years.csv\"\n",
    "df_raw_data = pd.read_csv(student_path)\n",
    "print(\"Shape: \", df_raw_data.shape)\n",
    "df_raw_data.head(5)"
   ]
  },
  {
   "cell_type": "markdown",
   "metadata": {},
   "source": [
    "### Exploratory data analysis\n",
    "\n",
    "Here, we inspect the basic properties of the dataset: break-down by age, gender and race."
   ]
  },
  {
   "cell_type": "code",
   "execution_count": 3,
   "metadata": {},
   "outputs": [
    {
     "data": {
      "text/plain": [
       "Text(0, 0.5, 'Frequency')"
      ]
     },
     "execution_count": 3,
     "metadata": {},
     "output_type": "execute_result"
    },
    {
     "data": {
      "image/png": "[encoded data removed]",
      "text/plain": [
       "<Figure size 432x288 with 1 Axes>"
      ]
     },
     "metadata": {
      "needs_background": "light"
     },
     "output_type": "display_data"
    }
   ],
   "source": [
    "df_raw_data[\"age\"].hist()\n",
    "plt.xlabel(\"Age\")\n",
    "plt.ylabel(\"Frequency\")"
   ]
  },
  {
   "cell_type": "code",
   "execution_count": 4,
   "metadata": {},
   "outputs": [
    {
     "data": {
      "text/plain": [
       "Text(0, 0.5, 'Frequency')"
      ]
     },
     "execution_count": 4,
     "metadata": {},
     "output_type": "execute_result"
    },
    {
     "data": {
      "image/png": "[encoded data removed]",
      "text/plain": [
       "<Figure size 432x288 with 1 Axes>"
      ]
     },
     "metadata": {
      "needs_background": "light"
     },
     "output_type": "display_data"
    }
   ],
   "source": [
    "df_raw_data[\"race\"].value_counts().plot(kind='bar')\n",
    "plt.xlabel(\"Race\")\n",
    "plt.ylabel(\"Frequency\")"
   ]
  },
  {
   "cell_type": "code",
   "execution_count": 5,
   "metadata": {},
   "outputs": [
    {
     "data": {
      "text/plain": [
       "Text(0, 0.5, 'Frequency')"
      ]
     },
     "execution_count": 5,
     "metadata": {},
     "output_type": "execute_result"
    },
    {
     "data": {
      "image/png": "[encoded data removed]",
      "text/plain": [
       "<Figure size 432x288 with 1 Axes>"
      ]
     },
     "metadata": {
      "needs_background": "light"
     },
     "output_type": "display_data"
    }
   ],
   "source": [
    "df_raw_data[\"sex\"].value_counts().plot(kind='bar')\n",
    "plt.xlabel(\"Sex\")\n",
    "plt.ylabel(\"Frequency\")"
   ]
  },
  {
   "cell_type": "markdown",
   "metadata": {},
   "source": [
    "### Columns of Interest:\n",
    "\n",
    "1. `age` - Age of the defendant. It is numeric.\n",
    "2. `age_cat` - Category of Age. It can be < 25, 25-45, >45.\n",
    "3. `sex` - Sex of the defendant. It is either 'Male' or 'Female' \n",
    "4. `race` - Race of the defendant. It can be 'African-American', 'Caucasian', 'Hispanic', 'Asian', or 'Other'.\n",
    "5. `c_charge_degree` - Degree of the crime. It is either M (Misdemeanor), F (Felony), or O (not causing jail time).\n",
    "6. `priors_count` - Count of prior crimes committed by the defendant. It is numeric.\n",
    "7. `days_b_screening_arrest` - Days between the arrest and COMPAS screening.\n",
    "8. `decile_score` - The COMPAS score predicted by the system. It is between 0-10.\n",
    "9. `score_text` - Category of decile score. It can be Low (1-4), Medium (5-7), and High (8-10).\n",
    "10. `is_recid` - A variable to indicate if recidivism was done by the defendant. It can be 0, 1, -1.\n",
    "11. `two_year_recid` - A variable to indicate if recidivism was done by the defendant within two years.\n",
    "12. `c_jail_in` - Time when the defendant was jailed.\n",
    "13. `c_jail_out` - Time when the defendant was released from the jail."
   ]
  },
  {
   "cell_type": "code",
   "execution_count": 6,
   "metadata": {},
   "outputs": [
    {
     "name": "stdout",
     "output_type": "stream",
     "text": [
      "Shape:  (7214, 13)\n"
     ]
    },
    {
     "data": {
      "text/html": [
       "<div>\n",
       "<style scoped>\n",
       "    .dataframe tbody tr th:only-of-type {\n",
       "        vertical-align: middle;\n",
       "    }\n",
       "\n",
       "    .dataframe tbody tr th {\n",
       "        vertical-align: top;\n",
       "    }\n",
       "\n",
       "    .dataframe thead th {\n",
       "        text-align: right;\n",
       "    }\n",
       "</style>\n",
       "<table border=\"1\" class=\"dataframe\">\n",
       "  <thead>\n",
       "    <tr style=\"text-align: right;\">\n",
       "      <th></th>\n",
       "      <th>age</th>\n",
       "      <th>c_charge_degree</th>\n",
       "      <th>race</th>\n",
       "      <th>age_cat</th>\n",
       "      <th>score_text</th>\n",
       "      <th>sex</th>\n",
       "      <th>priors_count</th>\n",
       "      <th>days_b_screening_arrest</th>\n",
       "      <th>decile_score</th>\n",
       "      <th>is_recid</th>\n",
       "      <th>two_year_recid</th>\n",
       "      <th>c_jail_in</th>\n",
       "      <th>c_jail_out</th>\n",
       "    </tr>\n",
       "  </thead>\n",
       "  <tbody>\n",
       "    <tr>\n",
       "      <th>0</th>\n",
       "      <td>69</td>\n",
       "      <td>F</td>\n",
       "      <td>Other</td>\n",
       "      <td>Greater than 45</td>\n",
       "      <td>Low</td>\n",
       "      <td>Male</td>\n",
       "      <td>0</td>\n",
       "      <td>-1.0</td>\n",
       "      <td>1</td>\n",
       "      <td>0</td>\n",
       "      <td>0</td>\n",
       "      <td>2013-08-13 06:03:42</td>\n",
       "      <td>2013-08-14 05:41:20</td>\n",
       "    </tr>\n",
       "    <tr>\n",
       "      <th>1</th>\n",
       "      <td>34</td>\n",
       "      <td>F</td>\n",
       "      <td>African-American</td>\n",
       "      <td>25 - 45</td>\n",
       "      <td>Low</td>\n",
       "      <td>Male</td>\n",
       "      <td>0</td>\n",
       "      <td>-1.0</td>\n",
       "      <td>3</td>\n",
       "      <td>1</td>\n",
       "      <td>1</td>\n",
       "      <td>2013-01-26 03:45:27</td>\n",
       "      <td>2013-02-05 05:36:53</td>\n",
       "    </tr>\n",
       "    <tr>\n",
       "      <th>2</th>\n",
       "      <td>24</td>\n",
       "      <td>F</td>\n",
       "      <td>African-American</td>\n",
       "      <td>Less than 25</td>\n",
       "      <td>Low</td>\n",
       "      <td>Male</td>\n",
       "      <td>4</td>\n",
       "      <td>-1.0</td>\n",
       "      <td>4</td>\n",
       "      <td>1</td>\n",
       "      <td>1</td>\n",
       "      <td>2013-04-13 04:58:34</td>\n",
       "      <td>2013-04-14 07:02:04</td>\n",
       "    </tr>\n",
       "    <tr>\n",
       "      <th>3</th>\n",
       "      <td>23</td>\n",
       "      <td>F</td>\n",
       "      <td>African-American</td>\n",
       "      <td>Less than 25</td>\n",
       "      <td>High</td>\n",
       "      <td>Male</td>\n",
       "      <td>1</td>\n",
       "      <td>NaN</td>\n",
       "      <td>8</td>\n",
       "      <td>0</td>\n",
       "      <td>0</td>\n",
       "      <td>NaN</td>\n",
       "      <td>NaN</td>\n",
       "    </tr>\n",
       "    <tr>\n",
       "      <th>4</th>\n",
       "      <td>43</td>\n",
       "      <td>F</td>\n",
       "      <td>Other</td>\n",
       "      <td>25 - 45</td>\n",
       "      <td>Low</td>\n",
       "      <td>Male</td>\n",
       "      <td>2</td>\n",
       "      <td>NaN</td>\n",
       "      <td>1</td>\n",
       "      <td>0</td>\n",
       "      <td>0</td>\n",
       "      <td>NaN</td>\n",
       "      <td>NaN</td>\n",
       "    </tr>\n",
       "  </tbody>\n",
       "</table>\n",
       "</div>"
      ],
      "text/plain": [
       "   age c_charge_degree              race          age_cat score_text   sex  \\\n",
       "0   69               F             Other  Greater than 45        Low  Male   \n",
       "1   34               F  African-American          25 - 45        Low  Male   \n",
       "2   24               F  African-American     Less than 25        Low  Male   \n",
       "3   23               F  African-American     Less than 25       High  Male   \n",
       "4   43               F             Other          25 - 45        Low  Male   \n",
       "\n",
       "   priors_count  days_b_screening_arrest  decile_score  is_recid  \\\n",
       "0             0                     -1.0             1         0   \n",
       "1             0                     -1.0             3         1   \n",
       "2             4                     -1.0             4         1   \n",
       "3             1                      NaN             8         0   \n",
       "4             2                      NaN             1         0   \n",
       "\n",
       "   two_year_recid            c_jail_in           c_jail_out  \n",
       "0               0  2013-08-13 06:03:42  2013-08-14 05:41:20  \n",
       "1               1  2013-01-26 03:45:27  2013-02-05 05:36:53  \n",
       "2               1  2013-04-13 04:58:34  2013-04-14 07:02:04  \n",
       "3               0                  NaN                  NaN  \n",
       "4               0                  NaN                  NaN  "
      ]
     },
     "execution_count": 6,
     "metadata": {},
     "output_type": "execute_result"
    }
   ],
   "source": [
    "# Keep a subset of the columns in the original dataset\n",
    "cols_to_keep = ['age', 'c_charge_degree', 'race', 'age_cat', 'score_text', 'sex', 'priors_count',\n",
    "               'days_b_screening_arrest', 'decile_score', 'is_recid', 'two_year_recid', 'c_jail_in',\n",
    "               'c_jail_out']\n",
    "\n",
    "df1 = df_raw_data[cols_to_keep].copy()\n",
    "\n",
    "print(\"Shape: \", df1.shape)\n",
    "df1.head()"
   ]
  },
  {
   "cell_type": "markdown",
   "metadata": {},
   "source": [
    "### Data cleaning\n",
    "\n",
    "Not all of the rows are useable for the first round of analysis. There are a number of reasons remove rows because of missing data:\n",
    "* If the charge date of a defendants Compas scored crime was not within 30 days from when the person was arrested, we assume that because of data quality reasons, that we do not have the right offense.\n",
    "* We coded the recidivist flag -- `is_recid` -- to be -1 if we could not find a compas case at all.\n",
    "* In a similar vein, we remove ordinary traffic offenses -- those with a `c_charge_degree` of 'O' -- that do not result in jail time (there are only two such cases).\n",
    "* We filtered the underlying data from Broward county to include only those rows representing people who had either recidivated in two years, or had at least two years outside of a correctional facility.\n"
   ]
  },
  {
   "cell_type": "code",
   "execution_count": 7,
   "metadata": {},
   "outputs": [
    {
     "name": "stdout",
     "output_type": "stream",
     "text": [
      "Shape:  (6172, 13)\n"
     ]
    }
   ],
   "source": [
    "# Condition 1 - remove petty traffic offenses that do not cause jail time\n",
    "cond_1 = (df1.c_charge_degree != 'O')\n",
    "\n",
    "# Condition 2 - remove rows which do not have a compas score\n",
    "cond_2 = (df1.score_text != 'N/A') & (df1.is_recid != -1)\n",
    "\n",
    "# Condition 3 - remove cases in which charge date is more than 30 days\n",
    "cond_3 = (df1.days_b_screening_arrest <= 30) & (df1.days_b_screening_arrest >= -30)\n",
    "\n",
    "df2 = df1[(cond_1 & cond_2 & cond_3)].copy()\n",
    "\n",
    "print(\"Shape: \", df2.shape)"
   ]
  },
  {
   "cell_type": "code",
   "execution_count": 8,
   "metadata": {},
   "outputs": [
    {
     "name": "stdout",
     "output_type": "stream",
     "text": [
      "Original  (7214, 53)\n",
      "Projected  (7214, 13)\n",
      "Cleaned  (6172, 13)\n"
     ]
    },
    {
     "data": {
      "text/html": [
       "<div>\n",
       "<style scoped>\n",
       "    .dataframe tbody tr th:only-of-type {\n",
       "        vertical-align: middle;\n",
       "    }\n",
       "\n",
       "    .dataframe tbody tr th {\n",
       "        vertical-align: top;\n",
       "    }\n",
       "\n",
       "    .dataframe thead th {\n",
       "        text-align: right;\n",
       "    }\n",
       "</style>\n",
       "<table border=\"1\" class=\"dataframe\">\n",
       "  <thead>\n",
       "    <tr style=\"text-align: right;\">\n",
       "      <th></th>\n",
       "      <th>age</th>\n",
       "      <th>c_charge_degree</th>\n",
       "      <th>race</th>\n",
       "      <th>age_cat</th>\n",
       "      <th>score_text</th>\n",
       "      <th>sex</th>\n",
       "      <th>priors_count</th>\n",
       "      <th>days_b_screening_arrest</th>\n",
       "      <th>decile_score</th>\n",
       "      <th>is_recid</th>\n",
       "      <th>two_year_recid</th>\n",
       "      <th>c_jail_in</th>\n",
       "      <th>c_jail_out</th>\n",
       "    </tr>\n",
       "  </thead>\n",
       "  <tbody>\n",
       "    <tr>\n",
       "      <th>0</th>\n",
       "      <td>69</td>\n",
       "      <td>F</td>\n",
       "      <td>Other</td>\n",
       "      <td>Greater than 45</td>\n",
       "      <td>Low</td>\n",
       "      <td>Male</td>\n",
       "      <td>0</td>\n",
       "      <td>-1.0</td>\n",
       "      <td>1</td>\n",
       "      <td>0</td>\n",
       "      <td>0</td>\n",
       "      <td>2013-08-13 06:03:42</td>\n",
       "      <td>2013-08-14 05:41:20</td>\n",
       "    </tr>\n",
       "    <tr>\n",
       "      <th>1</th>\n",
       "      <td>34</td>\n",
       "      <td>F</td>\n",
       "      <td>African-American</td>\n",
       "      <td>25 - 45</td>\n",
       "      <td>Low</td>\n",
       "      <td>Male</td>\n",
       "      <td>0</td>\n",
       "      <td>-1.0</td>\n",
       "      <td>3</td>\n",
       "      <td>1</td>\n",
       "      <td>1</td>\n",
       "      <td>2013-01-26 03:45:27</td>\n",
       "      <td>2013-02-05 05:36:53</td>\n",
       "    </tr>\n",
       "    <tr>\n",
       "      <th>2</th>\n",
       "      <td>24</td>\n",
       "      <td>F</td>\n",
       "      <td>African-American</td>\n",
       "      <td>Less than 25</td>\n",
       "      <td>Low</td>\n",
       "      <td>Male</td>\n",
       "      <td>4</td>\n",
       "      <td>-1.0</td>\n",
       "      <td>4</td>\n",
       "      <td>1</td>\n",
       "      <td>1</td>\n",
       "      <td>2013-04-13 04:58:34</td>\n",
       "      <td>2013-04-14 07:02:04</td>\n",
       "    </tr>\n",
       "    <tr>\n",
       "      <th>5</th>\n",
       "      <td>44</td>\n",
       "      <td>M</td>\n",
       "      <td>Other</td>\n",
       "      <td>25 - 45</td>\n",
       "      <td>Low</td>\n",
       "      <td>Male</td>\n",
       "      <td>0</td>\n",
       "      <td>0.0</td>\n",
       "      <td>1</td>\n",
       "      <td>0</td>\n",
       "      <td>0</td>\n",
       "      <td>2013-11-30 04:50:18</td>\n",
       "      <td>2013-12-01 12:28:56</td>\n",
       "    </tr>\n",
       "    <tr>\n",
       "      <th>6</th>\n",
       "      <td>41</td>\n",
       "      <td>F</td>\n",
       "      <td>Caucasian</td>\n",
       "      <td>25 - 45</td>\n",
       "      <td>Medium</td>\n",
       "      <td>Male</td>\n",
       "      <td>14</td>\n",
       "      <td>-1.0</td>\n",
       "      <td>6</td>\n",
       "      <td>1</td>\n",
       "      <td>1</td>\n",
       "      <td>2014-02-18 05:08:24</td>\n",
       "      <td>2014-02-24 12:18:30</td>\n",
       "    </tr>\n",
       "  </tbody>\n",
       "</table>\n",
       "</div>"
      ],
      "text/plain": [
       "   age c_charge_degree              race          age_cat score_text   sex  \\\n",
       "0   69               F             Other  Greater than 45        Low  Male   \n",
       "1   34               F  African-American          25 - 45        Low  Male   \n",
       "2   24               F  African-American     Less than 25        Low  Male   \n",
       "5   44               M             Other          25 - 45        Low  Male   \n",
       "6   41               F         Caucasian          25 - 45     Medium  Male   \n",
       "\n",
       "   priors_count  days_b_screening_arrest  decile_score  is_recid  \\\n",
       "0             0                     -1.0             1         0   \n",
       "1             0                     -1.0             3         1   \n",
       "2             4                     -1.0             4         1   \n",
       "5             0                      0.0             1         0   \n",
       "6            14                     -1.0             6         1   \n",
       "\n",
       "   two_year_recid            c_jail_in           c_jail_out  \n",
       "0               0  2013-08-13 06:03:42  2013-08-14 05:41:20  \n",
       "1               1  2013-01-26 03:45:27  2013-02-05 05:36:53  \n",
       "2               1  2013-04-13 04:58:34  2013-04-14 07:02:04  \n",
       "5               0  2013-11-30 04:50:18  2013-12-01 12:28:56  \n",
       "6               1  2014-02-18 05:08:24  2014-02-24 12:18:30  "
      ]
     },
     "execution_count": 8,
     "metadata": {},
     "output_type": "execute_result"
    }
   ],
   "source": [
    "print('Original ', df_raw_data.shape)\n",
    "print('Projected ', df1.shape)\n",
    "print ('Cleaned ', df2.shape)\n",
    "\n",
    "df2.head()"
   ]
  },
  {
   "cell_type": "markdown",
   "metadata": {},
   "source": [
    "### Exploratory data analysis, after data cleaning \n",
    "\n",
    "Look at basic properties of the dataset: break-down by age, gender and race.  Compare histograms before and after data cleaning.\n",
    "\n",
    "Observe that we are going through the lifecycle **iteratively**: profile, clean, profile again.  "
   ]
  },
  {
   "cell_type": "code",
   "execution_count": 9,
   "metadata": {},
   "outputs": [
    {
     "data": {
      "image/png": "[encoded data removed]",
      "text/plain": [
       "<Figure size 432x288 with 1 Axes>"
      ]
     },
     "metadata": {
      "needs_background": "light"
     },
     "output_type": "display_data"
    },
    {
     "data": {
      "image/png": "[encoded data removed]",
      "text/plain": [
       "<Figure size 432x288 with 1 Axes>"
      ]
     },
     "metadata": {
      "needs_background": "light"
     },
     "output_type": "display_data"
    },
    {
     "data": {
      "image/png": "[encoded data removed]",
      "text/plain": [
       "<Figure size 432x288 with 1 Axes>"
      ]
     },
     "metadata": {
      "needs_background": "light"
     },
     "output_type": "display_data"
    }
   ],
   "source": [
    "# Age\n",
    "df_raw_data[\"age\"].hist()\n",
    "plt.xlabel(\"Age\")\n",
    "plt.ylabel(\"Frequency\")\n",
    "plt.show()\n",
    "\n",
    "# Race\n",
    "df_raw_data[\"race\"].value_counts().plot(kind='bar')\n",
    "plt.xlabel(\"Race\")\n",
    "plt.ylabel(\"Frequency\")\n",
    "plt.show()\n",
    "\n",
    "# Sex\n",
    "df_raw_data[\"sex\"].value_counts().plot(kind='bar')\n",
    "plt.xlabel(\"Sex\")\n",
    "plt.ylabel(\"Frequency\")\n",
    "plt.show()"
   ]
  },
  {
   "cell_type": "code",
   "execution_count": 10,
   "metadata": {},
   "outputs": [
    {
     "data": {
      "text/html": [
       "<div>\n",
       "<style scoped>\n",
       "    .dataframe tbody tr th:only-of-type {\n",
       "        vertical-align: middle;\n",
       "    }\n",
       "\n",
       "    .dataframe tbody tr th {\n",
       "        vertical-align: top;\n",
       "    }\n",
       "\n",
       "    .dataframe thead tr th {\n",
       "        text-align: left;\n",
       "    }\n",
       "\n",
       "    .dataframe thead tr:last-of-type th {\n",
       "        text-align: right;\n",
       "    }\n",
       "</style>\n",
       "<table border=\"1\" class=\"dataframe\">\n",
       "  <thead>\n",
       "    <tr>\n",
       "      <th></th>\n",
       "      <th colspan=\"6\" halign=\"left\">score_text</th>\n",
       "    </tr>\n",
       "    <tr>\n",
       "      <th>race</th>\n",
       "      <th>African-American</th>\n",
       "      <th>Asian</th>\n",
       "      <th>Caucasian</th>\n",
       "      <th>Hispanic</th>\n",
       "      <th>Native American</th>\n",
       "      <th>Other</th>\n",
       "    </tr>\n",
       "    <tr>\n",
       "      <th>sex</th>\n",
       "      <th></th>\n",
       "      <th></th>\n",
       "      <th></th>\n",
       "      <th></th>\n",
       "      <th></th>\n",
       "      <th></th>\n",
       "    </tr>\n",
       "  </thead>\n",
       "  <tbody>\n",
       "    <tr>\n",
       "      <th>Female</th>\n",
       "      <td>549</td>\n",
       "      <td>2</td>\n",
       "      <td>482</td>\n",
       "      <td>82</td>\n",
       "      <td>2</td>\n",
       "      <td>58</td>\n",
       "    </tr>\n",
       "    <tr>\n",
       "      <th>Male</th>\n",
       "      <td>2626</td>\n",
       "      <td>29</td>\n",
       "      <td>1621</td>\n",
       "      <td>427</td>\n",
       "      <td>9</td>\n",
       "      <td>285</td>\n",
       "    </tr>\n",
       "  </tbody>\n",
       "</table>\n",
       "</div>"
      ],
      "text/plain": [
       "             score_text                                               \n",
       "race   African-American Asian Caucasian Hispanic Native American Other\n",
       "sex                                                                   \n",
       "Female              549     2       482       82               2    58\n",
       "Male               2626    29      1621      427               9   285"
      ]
     },
     "execution_count": 10,
     "metadata": {},
     "output_type": "execute_result"
    }
   ],
   "source": [
    "df2.pivot_table(values=['score_text'], columns=['race'], index=['sex'],aggfunc=lambda x: len(x))"
   ]
  },
  {
   "cell_type": "markdown",
   "metadata": {},
   "source": [
    "### Exploring the variable of interest\n",
    "\n",
    "Judges are often presented with two sets of scores from the Compas system -- one that classifies people into High, Medium and Low risk, and a corresponding decile score. There is a clear downward trend in the decile scores as those scores increase for white defendants.\n",
    "\n",
    "Are there differences in the distribution of risk scores by gender or race?"
   ]
  },
  {
   "cell_type": "code",
   "execution_count": 11,
   "metadata": {},
   "outputs": [
    {
     "data": {
      "image/png": "[encoded data removed]",
      "text/plain": [
       "<Figure size 864x432 with 2 Axes>"
      ]
     },
     "metadata": {
      "needs_background": "light"
     },
     "output_type": "display_data"
    }
   ],
   "source": [
    "# compute score histograms by race and by gender \n",
    "fig = plt.figure(figsize=(12,6))\n",
    "fig.add_subplot(121)\n",
    "(df2.loc[(df2.sex == 'Female'), \"decile_score\"].value_counts()/len(df2.loc[(df2.sex == 'Female')])).plot(kind='bar')\n",
    "plt.xlabel(\"Decile Score (0-10)\")\n",
    "plt.ylabel(\"Percent of Female Cases\")\n",
    "plt.title(\"Distribution of Decile Score for Female Criminal Cases\")\n",
    "plt.ylim([0, .25])\n",
    "\n",
    "fig.add_subplot(122)\n",
    "(df2.loc[(df2.sex == 'Male'), \"decile_score\"].value_counts()/len(df2.loc[(df2.sex == 'Male')])).plot(kind='bar')\n",
    "plt.xlabel(\"Decile Score (0-10)\")\n",
    "plt.ylabel(\"Percent of Male Cases\")\n",
    "plt.title(\"Distribution of Decile Score for Male Criminal Cases\")\n",
    "plt.ylim([0, .25])\n",
    "\n",
    "\n",
    "plt.show()"
   ]
  },
  {
   "cell_type": "code",
   "execution_count": 12,
   "metadata": {},
   "outputs": [
    {
     "data": {
      "image/png": "[encoded data removed]",
      "text/plain": [
       "<Figure size 864x432 with 2 Axes>"
      ]
     },
     "metadata": {
      "needs_background": "light"
     },
     "output_type": "display_data"
    }
   ],
   "source": [
    "# compute score histograms by race and by gender \n",
    "fig = plt.figure(figsize=(12,6))\n",
    "fig.add_subplot(121)\n",
    "\n",
    "(df2.loc[(df2.race == 'African-American'), \"decile_score\"].value_counts()/len(df2.loc[(df2.race == 'African-American')])).plot(kind='bar')\n",
    "plt.xlabel(\"Decile Score (0-10)\")\n",
    "plt.ylabel(\"Percent of African-American Cases\")\n",
    "plt.title(\"Distribution of Decile Score for African-American Criminal Cases\")\n",
    "plt.ylim([0, .3])\n",
    "\n",
    "fig.add_subplot(122)\n",
    "(df2.loc[(df2.race == 'Caucasian'), \"decile_score\"].value_counts()/len(df2.loc[(df2.race == 'Caucasian')])).plot(kind='bar')\n",
    "plt.xlabel(\"Decile Score (0-10)\")\n",
    "plt.ylabel(\"Percent of White Cases\")\n",
    "plt.title(\"Distribution of Decile Score for White Criminal Cases\")\n",
    "plt.ylim([0, .3])\n",
    "\n",
    "\n",
    "plt.show()"
   ]
  },
  {
   "cell_type": "code",
   "execution_count": 13,
   "metadata": {},
   "outputs": [
    {
     "data": {
      "image/png": "[encoded data removed]",
      "text/plain": [
       "<Figure size 864x432 with 2 Axes>"
      ]
     },
     "metadata": {
      "needs_background": "light"
     },
     "output_type": "display_data"
    }
   ],
   "source": [
    "# compute score histograms by race and by gender \n",
    "fig = plt.figure(figsize=(12,6))\n",
    "fig.add_subplot(121)\n",
    "(df2.loc[(df2.race == 'African-American'), \"score_text\"].value_counts().reindex(['Low', 'Medium', 'High'])/len(df2.loc[(df2.race == 'African-American')])).plot(kind='bar')\n",
    "plt.xlabel(\"Decile Score (0-10)\")\n",
    "plt.ylabel(\"Percent of African-American Cases\")\n",
    "plt.title(\"Score Split for African-American Criminal Cases\")\n",
    "plt.ylim([0, .7])\n",
    "\n",
    "fig.add_subplot(122)\n",
    "(df2.loc[(df2.race == 'Caucasian'), \"score_text\"].value_counts().reindex(['Low', 'Medium', 'High'])/len(df2.loc[(df2.race == 'Caucasian')])).plot(kind='bar')\n",
    "plt.xlabel(\"Decile Score (0-10)\")\n",
    "plt.ylabel(\"Percent of White Cases\")\n",
    "plt.title(\"Score Split for White Criminal Cases\")\n",
    "plt.ylim([0, .7])\n",
    "\n",
    "\n",
    "plt.show()"
   ]
  },
  {
   "cell_type": "code",
   "execution_count": 14,
   "metadata": {},
   "outputs": [
    {
     "data": {
      "text/html": [
       "<div>\n",
       "<style scoped>\n",
       "    .dataframe tbody tr th:only-of-type {\n",
       "        vertical-align: middle;\n",
       "    }\n",
       "\n",
       "    .dataframe tbody tr th {\n",
       "        vertical-align: top;\n",
       "    }\n",
       "\n",
       "    .dataframe thead tr th {\n",
       "        text-align: left;\n",
       "    }\n",
       "\n",
       "    .dataframe thead tr:last-of-type th {\n",
       "        text-align: right;\n",
       "    }\n",
       "</style>\n",
       "<table border=\"1\" class=\"dataframe\">\n",
       "  <thead>\n",
       "    <tr>\n",
       "      <th></th>\n",
       "      <th colspan=\"6\" halign=\"left\">score_text</th>\n",
       "    </tr>\n",
       "    <tr>\n",
       "      <th>race</th>\n",
       "      <th>African-American</th>\n",
       "      <th>Asian</th>\n",
       "      <th>Caucasian</th>\n",
       "      <th>Hispanic</th>\n",
       "      <th>Native American</th>\n",
       "      <th>Other</th>\n",
       "    </tr>\n",
       "    <tr>\n",
       "      <th>decile_score</th>\n",
       "      <th></th>\n",
       "      <th></th>\n",
       "      <th></th>\n",
       "      <th></th>\n",
       "      <th></th>\n",
       "      <th></th>\n",
       "    </tr>\n",
       "  </thead>\n",
       "  <tbody>\n",
       "    <tr>\n",
       "      <th>1</th>\n",
       "      <td>365.0</td>\n",
       "      <td>15.0</td>\n",
       "      <td>605.0</td>\n",
       "      <td>159.0</td>\n",
       "      <td>NaN</td>\n",
       "      <td>142.0</td>\n",
       "    </tr>\n",
       "    <tr>\n",
       "      <th>2</th>\n",
       "      <td>346.0</td>\n",
       "      <td>4.0</td>\n",
       "      <td>321.0</td>\n",
       "      <td>89.0</td>\n",
       "      <td>2.0</td>\n",
       "      <td>60.0</td>\n",
       "    </tr>\n",
       "    <tr>\n",
       "      <th>3</th>\n",
       "      <td>298.0</td>\n",
       "      <td>5.0</td>\n",
       "      <td>238.0</td>\n",
       "      <td>73.0</td>\n",
       "      <td>1.0</td>\n",
       "      <td>32.0</td>\n",
       "    </tr>\n",
       "    <tr>\n",
       "      <th>4</th>\n",
       "      <td>337.0</td>\n",
       "      <td>NaN</td>\n",
       "      <td>243.0</td>\n",
       "      <td>47.0</td>\n",
       "      <td>NaN</td>\n",
       "      <td>39.0</td>\n",
       "    </tr>\n",
       "    <tr>\n",
       "      <th>5</th>\n",
       "      <td>323.0</td>\n",
       "      <td>1.0</td>\n",
       "      <td>200.0</td>\n",
       "      <td>39.0</td>\n",
       "      <td>NaN</td>\n",
       "      <td>19.0</td>\n",
       "    </tr>\n",
       "    <tr>\n",
       "      <th>6</th>\n",
       "      <td>318.0</td>\n",
       "      <td>2.0</td>\n",
       "      <td>160.0</td>\n",
       "      <td>27.0</td>\n",
       "      <td>2.0</td>\n",
       "      <td>20.0</td>\n",
       "    </tr>\n",
       "    <tr>\n",
       "      <th>7</th>\n",
       "      <td>343.0</td>\n",
       "      <td>1.0</td>\n",
       "      <td>113.0</td>\n",
       "      <td>28.0</td>\n",
       "      <td>2.0</td>\n",
       "      <td>9.0</td>\n",
       "    </tr>\n",
       "    <tr>\n",
       "      <th>8</th>\n",
       "      <td>301.0</td>\n",
       "      <td>2.0</td>\n",
       "      <td>96.0</td>\n",
       "      <td>14.0</td>\n",
       "      <td>NaN</td>\n",
       "      <td>7.0</td>\n",
       "    </tr>\n",
       "    <tr>\n",
       "      <th>9</th>\n",
       "      <td>317.0</td>\n",
       "      <td>NaN</td>\n",
       "      <td>77.0</td>\n",
       "      <td>17.0</td>\n",
       "      <td>2.0</td>\n",
       "      <td>7.0</td>\n",
       "    </tr>\n",
       "    <tr>\n",
       "      <th>10</th>\n",
       "      <td>227.0</td>\n",
       "      <td>1.0</td>\n",
       "      <td>50.0</td>\n",
       "      <td>16.0</td>\n",
       "      <td>2.0</td>\n",
       "      <td>8.0</td>\n",
       "    </tr>\n",
       "  </tbody>\n",
       "</table>\n",
       "</div>"
      ],
      "text/plain": [
       "                   score_text                                                \n",
       "race         African-American Asian Caucasian Hispanic Native American  Other\n",
       "decile_score                                                                 \n",
       "1                       365.0  15.0     605.0    159.0             NaN  142.0\n",
       "2                       346.0   4.0     321.0     89.0             2.0   60.0\n",
       "3                       298.0   5.0     238.0     73.0             1.0   32.0\n",
       "4                       337.0   NaN     243.0     47.0             NaN   39.0\n",
       "5                       323.0   1.0     200.0     39.0             NaN   19.0\n",
       "6                       318.0   2.0     160.0     27.0             2.0   20.0\n",
       "7                       343.0   1.0     113.0     28.0             2.0    9.0\n",
       "8                       301.0   2.0      96.0     14.0             NaN    7.0\n",
       "9                       317.0   NaN      77.0     17.0             2.0    7.0\n",
       "10                      227.0   1.0      50.0     16.0             2.0    8.0"
      ]
     },
     "execution_count": 14,
     "metadata": {},
     "output_type": "execute_result"
    }
   ],
   "source": [
    "# Show ths information as a table\n",
    "df2.pivot_table(values=['score_text'], columns=['race'], index=['decile_score'],aggfunc=lambda x: len(x))"
   ]
  },
  {
   "cell_type": "markdown",
   "metadata": {},
   "source": [
    "## Racial Bias in Compas\n",
    "\n",
    "Now, we can more rigorously derermine if there are significant difference in Compas scores between races. To do so we need to change some variables into categorical variables and explode them using pandas dummies function, and run a logistic regression, comparing low scores to high scores.\n",
    "\n",
    "Note: This is equivalent to applying factor to variables in R and then running a logistic regression."
   ]
  },
  {
   "cell_type": "markdown",
   "metadata": {},
   "source": [
    "The aim is to create a logistic regression model that predicts whether a defendant is of low risk vs high risk of recdivism, given attributes of the defendant.\n",
    "\n",
    "After creating the model, we will look at the effects of the race, gender, and age variables while reducing the effect of confounding variables.  It means that when looking at the effect of one variable, the effects of all other variable predictors are taken into account by making the other variables take on a fixed value."
   ]
  },
  {
   "cell_type": "markdown",
   "metadata": {},
   "source": [
    "To recall, the logistic regression formula is given by:"
   ]
  },
  {
   "cell_type": "markdown",
   "metadata": {},
   "source": [
    "$$y = \\frac{e^{z}}{1+e^{z}}$$"
   ]
  },
  {
   "cell_type": "markdown",
   "metadata": {},
   "source": [
    "where:\n",
    "\n",
    "$y = $ probability of a defendant having a high risk of recidivism, <br />\n",
    "\n",
    "$z = w^{T}X + w_0$ where: <br />\n",
    "$w^{T}$ is the transposed matrix of the weights (co-efficients), <br />\n",
    "$X$ is the matrix of the attributes, and <br />\n",
    "$w_0$ is the intercept."
   ]
  },
  {
   "cell_type": "markdown",
   "metadata": {},
   "source": [
    "Alternatively, the formula can also be written as:\n",
    "\n",
    "$$y = \\frac{1}{1 + e^{-z}}$$ "
   ]
  },
  {
   "cell_type": "markdown",
   "metadata": {},
   "source": [
    "Before we proceed further, we will need to convert all our attributes to numeric as logistic regression takes only numeric attributes."
   ]
  },
  {
   "cell_type": "code",
   "execution_count": 15,
   "metadata": {},
   "outputs": [
    {
     "name": "stdout",
     "output_type": "stream",
     "text": [
      "age                          int64\n",
      "c_charge_degree             object\n",
      "race                        object\n",
      "age_cat                     object\n",
      "score_text                  object\n",
      "sex                         object\n",
      "priors_count                 int64\n",
      "days_b_screening_arrest    float64\n",
      "decile_score                 int64\n",
      "is_recid                     int64\n",
      "two_year_recid               int64\n",
      "c_jail_in                   object\n",
      "c_jail_out                  object\n",
      "dtype: object\n"
     ]
    }
   ],
   "source": [
    "# Show the current data types.\n",
    "print(df2.dtypes)"
   ]
  },
  {
   "cell_type": "markdown",
   "metadata": {},
   "source": [
    "The attributes which are of dtype object are not numeric. Let us inspect what values they take."
   ]
  },
  {
   "cell_type": "code",
   "execution_count": 16,
   "metadata": {},
   "outputs": [
    {
     "name": "stdout",
     "output_type": "stream",
     "text": [
      "\n",
      "Column c_charge_degree takes the following values: ['F' 'M']\n",
      "\n",
      "Column race takes the following values: ['Other' 'African-American' 'Caucasian' 'Hispanic' 'Asian'\n",
      " 'Native American']\n",
      "\n",
      "Column age_cat takes the following values: ['Greater than 45' '25 - 45' 'Less than 25']\n",
      "\n",
      "Column score_text takes the following values: ['Low' 'Medium' 'High']\n",
      "\n",
      "Column sex takes the following values: ['Male' 'Female']\n",
      "\n",
      "Column c_jail_in takes the following values: ['2013-08-13 06:03:42' '2013-01-26 03:45:27' '2013-04-13 04:58:34' ...\n",
      " '2014-01-13 05:48:01' '2014-03-08 08:06:02' '2014-06-28 12:16:41']\n",
      "\n",
      "Column c_jail_out takes the following values: ['2013-08-14 05:41:20' '2013-02-05 05:36:53' '2013-04-14 07:02:04' ...\n",
      " '2014-01-14 07:49:46' '2014-03-09 12:18:04' '2014-06-30 11:19:23']\n"
     ]
    }
   ],
   "source": [
    "for i, col_type in enumerate(df2.dtypes):\n",
    "    if col_type == \"object\":\n",
    "        print(\"\\nColumn {} takes the following values: {}\".format(df2.columns[i], df2[df2.columns[i]].unique()))"
   ]
  },
  {
   "cell_type": "markdown",
   "metadata": {},
   "source": [
    "All of the above variables except for c_jail_in and c_jail_out are categorical variables. So, let's convert the dtype of the above columns to category and then create dummy variables for each value of the variables. Recall that we have to drop one of the dummies created from eah categorical variable to avoid multicollinearity."
   ]
  },
  {
   "cell_type": "code",
   "execution_count": 17,
   "metadata": {},
   "outputs": [
    {
     "name": "stdout",
     "output_type": "stream",
     "text": [
      "Index(['age', 'score_text', 'priors_count', 'days_b_screening_arrest',\n",
      "       'decile_score', 'is_recid', 'two_year_recid', 'c_jail_in', 'c_jail_out',\n",
      "       'Felony', 'Misdemeanor', 'Greater_than_45', 'Less_than_25',\n",
      "       'African_American', 'Asian', 'Hispanic', 'Native_American', 'Other',\n",
      "       'Female'],\n",
      "      dtype='object')\n"
     ]
    },
    {
     "data": {
      "text/html": [
       "<div>\n",
       "<style scoped>\n",
       "    .dataframe tbody tr th:only-of-type {\n",
       "        vertical-align: middle;\n",
       "    }\n",
       "\n",
       "    .dataframe tbody tr th {\n",
       "        vertical-align: top;\n",
       "    }\n",
       "\n",
       "    .dataframe thead th {\n",
       "        text-align: right;\n",
       "    }\n",
       "</style>\n",
       "<table border=\"1\" class=\"dataframe\">\n",
       "  <thead>\n",
       "    <tr style=\"text-align: right;\">\n",
       "      <th></th>\n",
       "      <th>age</th>\n",
       "      <th>score_text</th>\n",
       "      <th>priors_count</th>\n",
       "      <th>days_b_screening_arrest</th>\n",
       "      <th>decile_score</th>\n",
       "      <th>is_recid</th>\n",
       "      <th>two_year_recid</th>\n",
       "      <th>c_jail_in</th>\n",
       "      <th>c_jail_out</th>\n",
       "      <th>Felony</th>\n",
       "      <th>Misdemeanor</th>\n",
       "      <th>Greater_than_45</th>\n",
       "      <th>Less_than_25</th>\n",
       "      <th>African_American</th>\n",
       "      <th>Asian</th>\n",
       "      <th>Hispanic</th>\n",
       "      <th>Native_American</th>\n",
       "      <th>Other</th>\n",
       "      <th>Female</th>\n",
       "    </tr>\n",
       "  </thead>\n",
       "  <tbody>\n",
       "    <tr>\n",
       "      <th>0</th>\n",
       "      <td>69</td>\n",
       "      <td>LowScore</td>\n",
       "      <td>0</td>\n",
       "      <td>-1.0</td>\n",
       "      <td>1</td>\n",
       "      <td>0</td>\n",
       "      <td>0</td>\n",
       "      <td>2013-08-13 06:03:42</td>\n",
       "      <td>2013-08-14 05:41:20</td>\n",
       "      <td>1</td>\n",
       "      <td>0</td>\n",
       "      <td>1</td>\n",
       "      <td>0</td>\n",
       "      <td>0</td>\n",
       "      <td>0</td>\n",
       "      <td>0</td>\n",
       "      <td>0</td>\n",
       "      <td>1</td>\n",
       "      <td>0</td>\n",
       "    </tr>\n",
       "    <tr>\n",
       "      <th>1</th>\n",
       "      <td>34</td>\n",
       "      <td>LowScore</td>\n",
       "      <td>0</td>\n",
       "      <td>-1.0</td>\n",
       "      <td>3</td>\n",
       "      <td>1</td>\n",
       "      <td>1</td>\n",
       "      <td>2013-01-26 03:45:27</td>\n",
       "      <td>2013-02-05 05:36:53</td>\n",
       "      <td>1</td>\n",
       "      <td>0</td>\n",
       "      <td>0</td>\n",
       "      <td>0</td>\n",
       "      <td>1</td>\n",
       "      <td>0</td>\n",
       "      <td>0</td>\n",
       "      <td>0</td>\n",
       "      <td>0</td>\n",
       "      <td>0</td>\n",
       "    </tr>\n",
       "    <tr>\n",
       "      <th>2</th>\n",
       "      <td>24</td>\n",
       "      <td>LowScore</td>\n",
       "      <td>4</td>\n",
       "      <td>-1.0</td>\n",
       "      <td>4</td>\n",
       "      <td>1</td>\n",
       "      <td>1</td>\n",
       "      <td>2013-04-13 04:58:34</td>\n",
       "      <td>2013-04-14 07:02:04</td>\n",
       "      <td>1</td>\n",
       "      <td>0</td>\n",
       "      <td>0</td>\n",
       "      <td>1</td>\n",
       "      <td>1</td>\n",
       "      <td>0</td>\n",
       "      <td>0</td>\n",
       "      <td>0</td>\n",
       "      <td>0</td>\n",
       "      <td>0</td>\n",
       "    </tr>\n",
       "    <tr>\n",
       "      <th>5</th>\n",
       "      <td>44</td>\n",
       "      <td>LowScore</td>\n",
       "      <td>0</td>\n",
       "      <td>0.0</td>\n",
       "      <td>1</td>\n",
       "      <td>0</td>\n",
       "      <td>0</td>\n",
       "      <td>2013-11-30 04:50:18</td>\n",
       "      <td>2013-12-01 12:28:56</td>\n",
       "      <td>0</td>\n",
       "      <td>1</td>\n",
       "      <td>0</td>\n",
       "      <td>0</td>\n",
       "      <td>0</td>\n",
       "      <td>0</td>\n",
       "      <td>0</td>\n",
       "      <td>0</td>\n",
       "      <td>1</td>\n",
       "      <td>0</td>\n",
       "    </tr>\n",
       "    <tr>\n",
       "      <th>6</th>\n",
       "      <td>41</td>\n",
       "      <td>HighScore</td>\n",
       "      <td>14</td>\n",
       "      <td>-1.0</td>\n",
       "      <td>6</td>\n",
       "      <td>1</td>\n",
       "      <td>1</td>\n",
       "      <td>2014-02-18 05:08:24</td>\n",
       "      <td>2014-02-24 12:18:30</td>\n",
       "      <td>1</td>\n",
       "      <td>0</td>\n",
       "      <td>0</td>\n",
       "      <td>0</td>\n",
       "      <td>0</td>\n",
       "      <td>0</td>\n",
       "      <td>0</td>\n",
       "      <td>0</td>\n",
       "      <td>0</td>\n",
       "      <td>0</td>\n",
       "    </tr>\n",
       "  </tbody>\n",
       "</table>\n",
       "</div>"
      ],
      "text/plain": [
       "   age score_text  priors_count  days_b_screening_arrest  decile_score  \\\n",
       "0   69   LowScore             0                     -1.0             1   \n",
       "1   34   LowScore             0                     -1.0             3   \n",
       "2   24   LowScore             4                     -1.0             4   \n",
       "5   44   LowScore             0                      0.0             1   \n",
       "6   41  HighScore            14                     -1.0             6   \n",
       "\n",
       "   is_recid  two_year_recid            c_jail_in           c_jail_out  Felony  \\\n",
       "0         0               0  2013-08-13 06:03:42  2013-08-14 05:41:20       1   \n",
       "1         1               1  2013-01-26 03:45:27  2013-02-05 05:36:53       1   \n",
       "2         1               1  2013-04-13 04:58:34  2013-04-14 07:02:04       1   \n",
       "5         0               0  2013-11-30 04:50:18  2013-12-01 12:28:56       0   \n",
       "6         1               1  2014-02-18 05:08:24  2014-02-24 12:18:30       1   \n",
       "\n",
       "   Misdemeanor  Greater_than_45  Less_than_25  African_American  Asian  \\\n",
       "0            0                1             0                 0      0   \n",
       "1            0                0             0                 1      0   \n",
       "2            0                0             1                 1      0   \n",
       "5            1                0             0                 0      0   \n",
       "6            0                0             0                 0      0   \n",
       "\n",
       "   Hispanic  Native_American  Other  Female  \n",
       "0         0                0      1       0  \n",
       "1         0                0      0       0  \n",
       "2         0                0      0       0  \n",
       "5         0                0      1       0  \n",
       "6         0                0      0       0  "
      ]
     },
     "execution_count": 17,
     "metadata": {},
     "output_type": "execute_result"
    }
   ],
   "source": [
    "df3 = df2.copy(deep=True)\n",
    "\n",
    "# Change variable types\n",
    "df3['c_charge_degree'] = df3['c_charge_degree'].astype('category')\n",
    "df3['age_cat'] = df3['age_cat'].astype('category')\n",
    "df3['race'] = df3['race'].astype('category')\n",
    "df3['sex'] = df3['sex'].astype('category')\n",
    "df3['score_text'] = df3['score_text'].astype('category')\n",
    "\n",
    "# Explode c_charge_degree using get_dummies\n",
    "dummies_c_charge_degree = pd.get_dummies(df3['c_charge_degree'])\n",
    "df3 = pd.concat([df3, dummies_c_charge_degree], axis=1)\n",
    "df3 = df3.drop(['c_charge_degree'], axis=1)\n",
    "\n",
    "# Explode age_cat using get_dummies\n",
    "dummies_age_cat = pd.get_dummies(df3['age_cat'])\n",
    "df3 = pd.concat([df3, dummies_age_cat], axis=1)\n",
    "df3 = df3.drop(['age_cat', '25 - 45'], axis=1)\n",
    "\n",
    "# Explode race using get_dummies\n",
    "dummies_race = pd.get_dummies(df3['race'])\n",
    "df3 = pd.concat([df3, dummies_race], axis=1)\n",
    "df3 = df3.drop(['race', 'Caucasian'], axis=1)\n",
    "\n",
    "# Explode sex using get_dummies\n",
    "dummies_sex = pd.get_dummies(df3['sex'])\n",
    "df3 = pd.concat([df3, dummies_sex], axis=1)\n",
    "df3 = df3.drop(['sex', 'Male'], axis=1)\n",
    "\n",
    "# Converting score_text to take binary values \n",
    "# Low = LowScore, Medium and High = HighScore\n",
    "df3['score_text']= np.where(df3['score_text'] == \"Low\", \"LowScore\", df3['score_text'])\n",
    "df3['score_text']= np.where(df3['score_text'] != \"LowScore\", \"HighScore\", df3['score_text'])\n",
    "df3['score_text'] = df3['score_text'].astype('category')\n",
    "\n",
    "# We rename the columns because the statsmodel does not like spaces in the variable names.\n",
    "renamed_cols = {'African-American':'African_American', 'Greater than 45':'Greater_than_45', \n",
    "                'Less than 25':'Less_than_25', 'Native American':'Native_American', 'F': 'Felony',\n",
    "               'M': 'Misdemeanor'}\n",
    "\n",
    "df3 = df3.rename(columns=renamed_cols)\n",
    "\n",
    "print(df3.columns)\n",
    "df3.head()"
   ]
  },
  {
   "cell_type": "markdown",
   "metadata": {},
   "source": [
    "Now, we will set up the formula for the logistic regression, and fit the model. \n",
    "\n",
    "(Note that if our end goal was to actually develop a model with good predictive capability, we would not fit the model on the entire dataset as we are doing here. Instead, we would divide out dataset into training and testing and run cross-validation to get the best hyperparameters for that model.)"
   ]
  },
  {
   "cell_type": "code",
   "execution_count": 18,
   "metadata": {},
   "outputs": [
    {
     "name": "stdout",
     "output_type": "stream",
     "text": [
      "score_text ~ priors_count + two_year_recid + Misdemeanor + Greater_than_45 + Less_than_25 + African_American + Asian + Hispanic + Native_American + Other + Female\n"
     ]
    }
   ],
   "source": [
    "# Explanatory variables\n",
    "attributes = 'priors_count + two_year_recid + Misdemeanor + Greater_than_45 + Less_than_25 + \\\n",
    "African_American + Asian + Hispanic + Native_American + Other + Female'\n",
    "\n",
    "# Target variable\n",
    "target = 'score_text'\n",
    "\n",
    "# Formula\n",
    "formula = target + ' ~ ' + attributes\n",
    "print(formula)"
   ]
  },
  {
   "cell_type": "code",
   "execution_count": 19,
   "metadata": {},
   "outputs": [
    {
     "name": "stdout",
     "output_type": "stream",
     "text": [
      "                                 Generalized Linear Model Regression Results                                 \n",
      "=============================================================================================================\n",
      "Dep. Variable:     ['score_text[HighScore]', 'score_text[LowScore]']   No. Observations:                 6172\n",
      "Model:                                                           GLM   Df Residuals:                     6160\n",
      "Model Family:                                               Binomial   Df Model:                           11\n",
      "Link Function:                                                 logit   Scale:                          1.0000\n",
      "Method:                                                         IRLS   Log-Likelihood:                -3084.2\n",
      "Date:                                               Tue, 21 Jan 2020   Deviance:                       6168.4\n",
      "Time:                                                       11:41:43   Pearson chi2:                 6.07e+03\n",
      "No. Iterations:                                                    6                                         \n",
      "Covariance Type:                                           nonrobust                                         \n",
      "====================================================================================\n",
      "                       coef    std err          z      P>|z|      [0.025      0.975]\n",
      "------------------------------------------------------------------------------------\n",
      "Intercept           -1.5255      0.079    -19.430      0.000      -1.679      -1.372\n",
      "priors_count         0.2689      0.011     24.221      0.000       0.247       0.291\n",
      "two_year_recid       0.6859      0.064     10.713      0.000       0.560       0.811\n",
      "Misdemeanor         -0.3112      0.067     -4.677      0.000      -0.442      -0.181\n",
      "Greater_than_45     -1.3556      0.099    -13.682      0.000      -1.550      -1.161\n",
      "Less_than_25         1.3084      0.076     17.232      0.000       1.160       1.457\n",
      "African_American     0.4772      0.069      6.881      0.000       0.341       0.613\n",
      "Asian               -0.2544      0.478     -0.532      0.595      -1.192       0.683\n",
      "Hispanic            -0.4284      0.128     -3.344      0.001      -0.680      -0.177\n",
      "Native_American      1.3942      0.766      1.820      0.069      -0.107       2.896\n",
      "Other               -0.8263      0.162     -5.098      0.000      -1.144      -0.509\n",
      "Female               0.2213      0.080      2.783      0.005       0.065       0.377\n",
      "====================================================================================\n"
     ]
    }
   ],
   "source": [
    "# Fit the model \n",
    "# Note: using family=sm.families.Binomial() tells statsmodel to fit a logistic regression\n",
    "model = sm.formula.glm(formula=formula, family=sm.families.Binomial(), data = df3).fit()\n",
    "\n",
    "print(model.summary())"
   ]
  },
  {
   "cell_type": "markdown",
   "metadata": {},
   "source": [
    "From the above table, we see a great overview of the coefficients of the model, how well those coefficients fit, the overall fit quality, and several other statistical measures."
   ]
  },
  {
   "cell_type": "markdown",
   "metadata": {},
   "source": [
    "To compare the odds of two variables happening, we get the odds ratio of those two variables.\n",
    "\n",
    "Mathematically, this would be:\n",
    "\n",
    "$$\\ln{(\\frac{y}{1-y})} = w_0 + w_1 x_1$$\n",
    "\n",
    "where: <br />\n",
    "$x_1$ = Female (say), then -> when $x_1 = 1$, it's Female, when $x_1 = 0$, it's Male <br />\n",
    "\n",
    "Therefore,\n",
    "\n",
    "$w_0 + w_1$ = **log odds** of high recividism for Female defendants, <br />\n",
    "$w_0$ = **log odds** of high recividism for Male defendants\n"
   ]
  },
  {
   "cell_type": "markdown",
   "metadata": {},
   "source": [
    "To get the odds (and not the log odds), we transform the above equation to get:\n",
    "\n",
    "$e^{w_0 + w_1}$ = **odds** of high recividism for Female defendants, <br />\n",
    "$e^{w_0}$ = **odds** of high recividism for Male defendants, <br />"
   ]
  },
  {
   "cell_type": "markdown",
   "metadata": {},
   "source": [
    "To get the odd ratio, we divide the two odds to compare them."
   ]
  },
  {
   "cell_type": "markdown",
   "metadata": {},
   "source": [
    "To compare age and race variables, it is the same procedure. <br />\n",
    "\n",
    "**In the case of age** <br />\n",
    "$x_1$ = Less_than_25 <br />\n",
    "then -> when $x_1 = 1$, the age is less than 25, when $x_1 = 0$, the age is between 25 - 45 <br />\n",
    "\n",
    "Therefore, <br />\n",
    "$e^{w_0 + w_1}$ = **odds** of high recividism for defendants whose age is less than 25, <br />\n",
    "$e^{w_0}$ = **odds** of high recividism for defendants whose age is between 25 - 45 <br />\n",
    "\n",
    "**In the case of race**  <br />\n",
    "$x_1$ = African-American <br />\n",
    "then -> when $x_1 = 1$, the defendant is an African-American, when $x_1 = 0$, the defendant is a Caucasian <br />\n",
    "\n",
    "Therefore, <br />\n",
    "$e^{w_0 + w_1}$ = **odds** of high recividism for an African-American defendant, <br />\n",
    "$e^{w_0}$ = **odds** of high recividism for a Caucasian defendant <br />"
   ]
  },
  {
   "cell_type": "markdown",
   "metadata": {},
   "source": [
    "## Comparing the odds"
   ]
  },
  {
   "cell_type": "markdown",
   "metadata": {},
   "source": [
    "## African-American vs Caucasian"
   ]
  },
  {
   "cell_type": "code",
   "execution_count": 20,
   "metadata": {},
   "outputs": [
    {
     "name": "stdout",
     "output_type": "stream",
     "text": [
      "Odd Ratio: 1.611555722969869\n"
     ]
    }
   ],
   "source": [
    "af_am_odds = np.exp(-1.5255+0.4772)\n",
    "cau_odds = np.exp(-1.5255)\n",
    "\n",
    "race_odd_ratio = af_am_odds / cau_odds\n",
    "\n",
    "print(\"Odd Ratio:\", race_odd_ratio)"
   ]
  },
  {
   "cell_type": "markdown",
   "metadata": {},
   "source": [
    "This means that the **odds of high recividism** is about **`1.6 times greater`** for an **African-American** defendant than a **Caucasian** defendant (when all the other variables are controlled for). "
   ]
  },
  {
   "cell_type": "markdown",
   "metadata": {},
   "source": [
    "## Women vs Men"
   ]
  },
  {
   "cell_type": "code",
   "execution_count": 21,
   "metadata": {},
   "outputs": [
    {
     "name": "stdout",
     "output_type": "stream",
     "text": [
      "Odd Ratio: 1.2476602533593484\n"
     ]
    }
   ],
   "source": [
    "women_odds = np.exp(-1.5255+0.22127)\n",
    "men_odds = np.exp(-1.5255)\n",
    "\n",
    "sex_odd_ratio = women_odds / men_odds\n",
    "\n",
    "print(\"Odd Ratio:\", sex_odd_ratio)"
   ]
  },
  {
   "cell_type": "markdown",
   "metadata": {},
   "source": [
    "This means that the **odds of high recividism** is about **`1.25 times greater`** for a **Female** defendant than a **Male** defendant (when all the other variables are controlled for)."
   ]
  },
  {
   "cell_type": "markdown",
   "metadata": {},
   "source": [
    "## Young vs Middle-Aged"
   ]
  },
  {
   "cell_type": "code",
   "execution_count": 22,
   "metadata": {},
   "outputs": [
    {
     "name": "stdout",
     "output_type": "stream",
     "text": [
      "Odd Ratio: 3.7002115733431995\n"
     ]
    }
   ],
   "source": [
    "young_odds = np.exp(-1.5255+1.30839)\n",
    "middle_odds = np.exp(-1.5255)\n",
    "\n",
    "age_odd_ratio = young_odds / middle_odds\n",
    "\n",
    "print(\"Odd Ratio:\", age_odd_ratio)"
   ]
  },
  {
   "cell_type": "markdown",
   "metadata": {},
   "source": [
    "This means that the **odds of high recividism** is about **`3.7 times greater`** for a **Young** defendant than a **Middle-Aged** defendant (when all the other variables are controlled for)."
   ]
  },
  {
   "cell_type": "markdown",
   "metadata": {},
   "source": [
    "## Comparing the Relative Risks (RR)"
   ]
  },
  {
   "cell_type": "markdown",
   "metadata": {},
   "source": [
    "Odd ratios are useful to compare events with nonevents (Cancer or No Cancer). It also has a tendency to over-estimate. Looking at the relative-risk (RR) of probabilities would be more helpful in our case as it compares the likelihood of an event in relation to all possible events (High Risk, Low Risk)."
   ]
  },
  {
   "cell_type": "markdown",
   "metadata": {},
   "source": [
    "Relative Risk is a ratio of probabilities. The formula is given by:\n",
    "\n",
    "\n",
    "$A = P(C= 1 | x_1 = 1) = \\frac{e^{w_0 + w_1}}{1 + e^{w_0 + w_1}}$ <br />\n",
    "\n",
    "where: <br />\n",
    "$C$ = 1 (High Recividism) <br />\n",
    "$x_1$ = 1 (Female, for example) <br />\n",
    "\n",
    "and <br />\n",
    "\n",
    "$B = P(C= 1 | x_1 = 0) = \\frac{e^{w_0}}{1 + e^{w_0}}$ <br />\n",
    "\n",
    "where: <br />\n",
    "$C$ = 1 (High Recividism) <br />\n",
    "$x_1$ = 0 (Male) (say) <br />\n",
    "\n",
    "Then, <br />\n",
    "Relative Risk for a given variable (say Female) = $\\frac{A}{B}$"
   ]
  },
  {
   "cell_type": "markdown",
   "metadata": {},
   "source": [
    "We call B the control variable. It is the same for all the three variables, age, gender, and race. So let us define it here."
   ]
  },
  {
   "cell_type": "code",
   "execution_count": 23,
   "metadata": {},
   "outputs": [],
   "source": [
    "control_prob = math.exp(-1.52554) / (1 + math.exp(-1.52554))"
   ]
  },
  {
   "cell_type": "markdown",
   "metadata": {},
   "source": [
    "## African-American vs Caucasian"
   ]
  },
  {
   "cell_type": "code",
   "execution_count": 24,
   "metadata": {},
   "outputs": [
    {
     "name": "stdout",
     "output_type": "stream",
     "text": [
      "Relative Risk: 1.4528731389052896\n"
     ]
    }
   ],
   "source": [
    "af_am_prob = (np.exp(-1.5255+0.4772)/(1+np.exp(-1.5255+0.4772)))\n",
    "\n",
    "race_rr = af_am_prob/control_prob\n",
    "\n",
    "print(\"Relative Risk:\", race_rr)"
   ]
  },
  {
   "cell_type": "markdown",
   "metadata": {},
   "source": [
    "Since the relative risk (the ratio of probabilities) is greater than 1, this indicates that if the defendant is Black, he is **`45% more likely`** to receive a higher score than a defendant who is White, when other variables such as seriousness of their crime, previous arrests, and future criminal behavior is corrected (or controlled)."
   ]
  },
  {
   "cell_type": "markdown",
   "metadata": {},
   "source": [
    "Black defendants are 45% more likely than white defendants to receive a higher score correcting for the seriousness of their crime, previous arrests, and future criminal behavior."
   ]
  },
  {
   "cell_type": "markdown",
   "metadata": {},
   "source": [
    "## Women vs Men"
   ]
  },
  {
   "cell_type": "code",
   "execution_count": 25,
   "metadata": {},
   "outputs": [
    {
     "name": "stdout",
     "output_type": "stream",
     "text": [
      "Relative Risk: 1.1948354421424674\n"
     ]
    }
   ],
   "source": [
    "women_prob = ( np.exp(-1.5255+0.22127) / (1 + np.exp(-1.5255+0.22127) ) ) \n",
    "\n",
    "sex_rr = women_prob / control_prob\n",
    "\n",
    "print(\"Relative Risk:\", sex_rr)"
   ]
  },
  {
   "cell_type": "markdown",
   "metadata": {},
   "source": [
    "Since the relative risk (the ratio of probabilities) is greater than 1, this indicates that if the defendant is a **woman**, she is **`19.4% more likely`** to receive a higher score than a defendant who is a **man**, when other variables such as seriousness of their crime, previous arrests, and future criminal behavior is corrected (or controlled)."
   ]
  },
  {
   "cell_type": "markdown",
   "metadata": {},
   "source": [
    "## Young vs Middle-Aged"
   ]
  },
  {
   "cell_type": "code",
   "execution_count": 26,
   "metadata": {},
   "outputs": [
    {
     "name": "stdout",
     "output_type": "stream",
     "text": [
      "Relative Risk: 2.4961755293685197\n"
     ]
    }
   ],
   "source": [
    "young_prob = ( np.exp(-1.5255+1.30839) / (1 + np.exp(-1.5255+1.30839) ) ) \n",
    "\n",
    "age_rr = young_prob / control_prob\n",
    "\n",
    "print(\"Relative Risk:\", age_rr)"
   ]
  },
  {
   "cell_type": "markdown",
   "metadata": {},
   "source": [
    "Since the relative risk (the ratio of probabilities) is greater than 1, this indicates that if the defendant is **young**, he/she is **`150% more likely`** to receive a higher score than a defendant who is **middle-aged**, when other variables such as seriousness of their crime, previous arrests, and future criminal behavior is corrected (or controlled)."
   ]
  },
  {
   "cell_type": "markdown",
   "metadata": {},
   "source": [
    "## Conclusion"
   ]
  },
  {
   "cell_type": "markdown",
   "metadata": {},
   "source": [
    "This analysis is done to show how bias can creep in when creating a model and how we can identify bias before deploying our model for production. Sometimes, selecting a model that does the best job overall at predicting the target varible means selecting a model that contains bias. In is therefore important to examine how a model performs across various features of interest, including race, class, and age."
   ]
  },
  {
   "cell_type": "markdown",
   "metadata": {},
   "source": [
    "# Part-2: Review on your own (optional)"
   ]
  },
  {
   "cell_type": "markdown",
   "metadata": {},
   "source": [
    "# Risk of Violent Recidivism\n",
    "\n",
    "Compas also offers a score that aims to measure a persons risk of violent recidivism, which has a similar overall accuracy to the Recidivism score. As before, we can use a logistic regression to test for racial bias."
   ]
  },
  {
   "cell_type": "code",
   "execution_count": 27,
   "metadata": {},
   "outputs": [
    {
     "data": {
      "text/plain": [
       "(4743, 54)"
      ]
     },
     "execution_count": 27,
     "metadata": {},
     "output_type": "execute_result"
    }
   ],
   "source": [
    "df_raw_violent_data = pd.read_csv('https://github.com/propublica/compas-analysis/raw/master/compas-scores-two-years-violent.csv')\n",
    "df_raw_violent_data.shape\n"
   ]
  },
  {
   "cell_type": "code",
   "execution_count": 28,
   "metadata": {},
   "outputs": [
    {
     "data": {
      "text/html": [
       "<div>\n",
       "<style scoped>\n",
       "    .dataframe tbody tr th:only-of-type {\n",
       "        vertical-align: middle;\n",
       "    }\n",
       "\n",
       "    .dataframe tbody tr th {\n",
       "        vertical-align: top;\n",
       "    }\n",
       "\n",
       "    .dataframe thead th {\n",
       "        text-align: right;\n",
       "    }\n",
       "</style>\n",
       "<table border=\"1\" class=\"dataframe\">\n",
       "  <thead>\n",
       "    <tr style=\"text-align: right;\">\n",
       "      <th></th>\n",
       "      <th>id</th>\n",
       "      <th>name</th>\n",
       "      <th>first</th>\n",
       "      <th>last</th>\n",
       "      <th>compas_screening_date</th>\n",
       "      <th>sex</th>\n",
       "      <th>dob</th>\n",
       "      <th>age</th>\n",
       "      <th>age_cat</th>\n",
       "      <th>race</th>\n",
       "      <th>...</th>\n",
       "      <th>v_score_text</th>\n",
       "      <th>v_screening_date</th>\n",
       "      <th>in_custody</th>\n",
       "      <th>out_custody</th>\n",
       "      <th>priors_count.1</th>\n",
       "      <th>start</th>\n",
       "      <th>end</th>\n",
       "      <th>event</th>\n",
       "      <th>two_year_recid</th>\n",
       "      <th>two_year_recid.1</th>\n",
       "    </tr>\n",
       "  </thead>\n",
       "  <tbody>\n",
       "    <tr>\n",
       "      <th>0</th>\n",
       "      <td>1</td>\n",
       "      <td>miguel hernandez</td>\n",
       "      <td>miguel</td>\n",
       "      <td>hernandez</td>\n",
       "      <td>2013-08-14</td>\n",
       "      <td>Male</td>\n",
       "      <td>1947-04-18</td>\n",
       "      <td>69</td>\n",
       "      <td>Greater than 45</td>\n",
       "      <td>Other</td>\n",
       "      <td>...</td>\n",
       "      <td>Low</td>\n",
       "      <td>2013-08-14</td>\n",
       "      <td>2014-07-07</td>\n",
       "      <td>2014-07-14</td>\n",
       "      <td>0</td>\n",
       "      <td>0</td>\n",
       "      <td>327</td>\n",
       "      <td>0</td>\n",
       "      <td>0</td>\n",
       "      <td>0</td>\n",
       "    </tr>\n",
       "    <tr>\n",
       "      <th>1</th>\n",
       "      <td>3</td>\n",
       "      <td>kevon dixon</td>\n",
       "      <td>kevon</td>\n",
       "      <td>dixon</td>\n",
       "      <td>2013-01-27</td>\n",
       "      <td>Male</td>\n",
       "      <td>1982-01-22</td>\n",
       "      <td>34</td>\n",
       "      <td>25 - 45</td>\n",
       "      <td>African-American</td>\n",
       "      <td>...</td>\n",
       "      <td>Low</td>\n",
       "      <td>2013-01-27</td>\n",
       "      <td>2013-01-26</td>\n",
       "      <td>2013-02-05</td>\n",
       "      <td>0</td>\n",
       "      <td>9</td>\n",
       "      <td>159</td>\n",
       "      <td>1</td>\n",
       "      <td>1</td>\n",
       "      <td>1</td>\n",
       "    </tr>\n",
       "    <tr>\n",
       "      <th>2</th>\n",
       "      <td>5</td>\n",
       "      <td>marcu brown</td>\n",
       "      <td>marcu</td>\n",
       "      <td>brown</td>\n",
       "      <td>2013-01-13</td>\n",
       "      <td>Male</td>\n",
       "      <td>1993-01-21</td>\n",
       "      <td>23</td>\n",
       "      <td>Less than 25</td>\n",
       "      <td>African-American</td>\n",
       "      <td>...</td>\n",
       "      <td>Medium</td>\n",
       "      <td>2013-01-13</td>\n",
       "      <td>NaN</td>\n",
       "      <td>NaN</td>\n",
       "      <td>1</td>\n",
       "      <td>0</td>\n",
       "      <td>1174</td>\n",
       "      <td>0</td>\n",
       "      <td>0</td>\n",
       "      <td>0</td>\n",
       "    </tr>\n",
       "    <tr>\n",
       "      <th>3</th>\n",
       "      <td>6</td>\n",
       "      <td>bouthy pierrelouis</td>\n",
       "      <td>bouthy</td>\n",
       "      <td>pierrelouis</td>\n",
       "      <td>2013-03-26</td>\n",
       "      <td>Male</td>\n",
       "      <td>1973-01-22</td>\n",
       "      <td>43</td>\n",
       "      <td>25 - 45</td>\n",
       "      <td>Other</td>\n",
       "      <td>...</td>\n",
       "      <td>Low</td>\n",
       "      <td>2013-03-26</td>\n",
       "      <td>NaN</td>\n",
       "      <td>NaN</td>\n",
       "      <td>2</td>\n",
       "      <td>0</td>\n",
       "      <td>1102</td>\n",
       "      <td>0</td>\n",
       "      <td>0</td>\n",
       "      <td>0</td>\n",
       "    </tr>\n",
       "    <tr>\n",
       "      <th>4</th>\n",
       "      <td>7</td>\n",
       "      <td>marsha miles</td>\n",
       "      <td>marsha</td>\n",
       "      <td>miles</td>\n",
       "      <td>2013-11-30</td>\n",
       "      <td>Male</td>\n",
       "      <td>1971-08-22</td>\n",
       "      <td>44</td>\n",
       "      <td>25 - 45</td>\n",
       "      <td>Other</td>\n",
       "      <td>...</td>\n",
       "      <td>Low</td>\n",
       "      <td>2013-11-30</td>\n",
       "      <td>2013-11-30</td>\n",
       "      <td>2013-12-01</td>\n",
       "      <td>0</td>\n",
       "      <td>1</td>\n",
       "      <td>853</td>\n",
       "      <td>0</td>\n",
       "      <td>0</td>\n",
       "      <td>0</td>\n",
       "    </tr>\n",
       "  </tbody>\n",
       "</table>\n",
       "<p>5 rows × 54 columns</p>\n",
       "</div>"
      ],
      "text/plain": [
       "   id                name   first         last compas_screening_date   sex  \\\n",
       "0   1    miguel hernandez  miguel    hernandez            2013-08-14  Male   \n",
       "1   3         kevon dixon   kevon        dixon            2013-01-27  Male   \n",
       "2   5         marcu brown   marcu        brown            2013-01-13  Male   \n",
       "3   6  bouthy pierrelouis  bouthy  pierrelouis            2013-03-26  Male   \n",
       "4   7        marsha miles  marsha        miles            2013-11-30  Male   \n",
       "\n",
       "          dob  age          age_cat              race  ...  v_score_text  \\\n",
       "0  1947-04-18   69  Greater than 45             Other  ...           Low   \n",
       "1  1982-01-22   34          25 - 45  African-American  ...           Low   \n",
       "2  1993-01-21   23     Less than 25  African-American  ...        Medium   \n",
       "3  1973-01-22   43          25 - 45             Other  ...           Low   \n",
       "4  1971-08-22   44          25 - 45             Other  ...           Low   \n",
       "\n",
       "   v_screening_date  in_custody  out_custody  priors_count.1  start   end  \\\n",
       "0        2013-08-14  2014-07-07   2014-07-14               0      0   327   \n",
       "1        2013-01-27  2013-01-26   2013-02-05               0      9   159   \n",
       "2        2013-01-13         NaN          NaN               1      0  1174   \n",
       "3        2013-03-26         NaN          NaN               2      0  1102   \n",
       "4        2013-11-30  2013-11-30   2013-12-01               0      1   853   \n",
       "\n",
       "  event two_year_recid two_year_recid.1  \n",
       "0     0              0                0  \n",
       "1     1              1                1  \n",
       "2     0              0                0  \n",
       "3     0              0                0  \n",
       "4     0              0                0  \n",
       "\n",
       "[5 rows x 54 columns]"
      ]
     },
     "execution_count": 28,
     "metadata": {},
     "output_type": "execute_result"
    }
   ],
   "source": [
    "df_raw_violent_data.head(5)"
   ]
  },
  {
   "cell_type": "markdown",
   "metadata": {},
   "source": [
    "Just like before, let's do some Data Profiling before we move to Data Cleaning step"
   ]
  },
  {
   "cell_type": "markdown",
   "metadata": {},
   "source": [
    "#### Data Profiling"
   ]
  },
  {
   "cell_type": "code",
   "execution_count": 29,
   "metadata": {},
   "outputs": [
    {
     "data": {
      "text/plain": [
       "<matplotlib.axes._subplots.AxesSubplot at 0x7fb1f13aee50>"
      ]
     },
     "execution_count": 29,
     "metadata": {},
     "output_type": "execute_result"
    },
    {
     "data": {
      "image/png": "[encoded data removed]",
      "text/plain": [
       "<Figure size 432x288 with 1 Axes>"
      ]
     },
     "metadata": {
      "needs_background": "light"
     },
     "output_type": "display_data"
    }
   ],
   "source": [
    "df_raw_violent_data[\"age\"].hist()"
   ]
  },
  {
   "cell_type": "code",
   "execution_count": 30,
   "metadata": {},
   "outputs": [
    {
     "data": {
      "text/plain": [
       "<matplotlib.axes._subplots.AxesSubplot at 0x7fb1f1bb4290>"
      ]
     },
     "execution_count": 30,
     "metadata": {},
     "output_type": "execute_result"
    },
    {
     "data": {
      "image/png": "[encoded data removed]",
      "text/plain": [
       "<Figure size 432x288 with 1 Axes>"
      ]
     },
     "metadata": {
      "needs_background": "light"
     },
     "output_type": "display_data"
    }
   ],
   "source": [
    "df_raw_violent_data[\"race\"].value_counts().plot(kind='bar')"
   ]
  },
  {
   "cell_type": "code",
   "execution_count": 31,
   "metadata": {},
   "outputs": [
    {
     "data": {
      "text/plain": [
       "<matplotlib.axes._subplots.AxesSubplot at 0x7fb1f1b76510>"
      ]
     },
     "execution_count": 31,
     "metadata": {},
     "output_type": "execute_result"
    },
    {
     "data": {
      "image/png": "[encoded data removed]",
      "text/plain": [
       "<Figure size 432x288 with 1 Axes>"
      ]
     },
     "metadata": {
      "needs_background": "light"
     },
     "output_type": "display_data"
    }
   ],
   "source": [
    "df_raw_violent_data[\"sex\"].value_counts().plot(kind='bar')"
   ]
  },
  {
   "cell_type": "markdown",
   "metadata": {},
   "source": [
    "#### Data Cleaning"
   ]
  },
  {
   "cell_type": "code",
   "execution_count": 32,
   "metadata": {},
   "outputs": [
    {
     "name": "stdout",
     "output_type": "stream",
     "text": [
      "(4743, 11)\n"
     ]
    }
   ],
   "source": [
    "# projection: keep a subset of the columns in the original dataset\n",
    "df1_violent = df_raw_violent_data[['age', 'c_charge_degree', 'race', 'age_cat', 'v_score_text', 'sex', 'priors_count', \n",
    "                    'days_b_screening_arrest', 'v_decile_score', 'is_recid', 'two_year_recid']]\n",
    "\n",
    "print(df1_violent.shape)"
   ]
  },
  {
   "cell_type": "code",
   "execution_count": 38,
   "metadata": {},
   "outputs": [
    {
     "data": {
      "text/plain": [
       "(4020, 11)"
      ]
     },
     "execution_count": 38,
     "metadata": {},
     "output_type": "execute_result"
    }
   ],
   "source": [
    "# clean the data per ProPublica's methodology\n",
    "df2_violent = df1_violent[(df1_violent.c_charge_degree != 'O') & (df1_violent.v_score_text != 'N/A') & (df1_violent.is_recid != -1)\n",
    "               & (df1_violent.days_b_screening_arrest <= 30) & (df1_violent.days_b_screening_arrest >= -30)]\n",
    "\n",
    "df2_violent.shape\n"
   ]
  },
  {
   "cell_type": "code",
   "execution_count": 39,
   "metadata": {},
   "outputs": [
    {
     "name": "stdout",
     "output_type": "stream",
     "text": [
      "Original  4743\n",
      "Projected  4743\n",
      "Cleaned  4020\n"
     ]
    },
    {
     "data": {
      "text/html": [
       "<div>\n",
       "<style scoped>\n",
       "    .dataframe tbody tr th:only-of-type {\n",
       "        vertical-align: middle;\n",
       "    }\n",
       "\n",
       "    .dataframe tbody tr th {\n",
       "        vertical-align: top;\n",
       "    }\n",
       "\n",
       "    .dataframe thead th {\n",
       "        text-align: right;\n",
       "    }\n",
       "</style>\n",
       "<table border=\"1\" class=\"dataframe\">\n",
       "  <thead>\n",
       "    <tr style=\"text-align: right;\">\n",
       "      <th></th>\n",
       "      <th>age</th>\n",
       "      <th>c_charge_degree</th>\n",
       "      <th>race</th>\n",
       "      <th>age_cat</th>\n",
       "      <th>score_text</th>\n",
       "      <th>sex</th>\n",
       "      <th>priors_count</th>\n",
       "      <th>days_b_screening_arrest</th>\n",
       "      <th>decile_score</th>\n",
       "      <th>is_recid</th>\n",
       "      <th>two_year_recid</th>\n",
       "      <th>c_jail_in</th>\n",
       "      <th>c_jail_out</th>\n",
       "    </tr>\n",
       "  </thead>\n",
       "  <tbody>\n",
       "    <tr>\n",
       "      <th>0</th>\n",
       "      <td>69</td>\n",
       "      <td>F</td>\n",
       "      <td>Other</td>\n",
       "      <td>Greater than 45</td>\n",
       "      <td>Low</td>\n",
       "      <td>Male</td>\n",
       "      <td>0</td>\n",
       "      <td>-1.0</td>\n",
       "      <td>1</td>\n",
       "      <td>0</td>\n",
       "      <td>0</td>\n",
       "      <td>2013-08-13 06:03:42</td>\n",
       "      <td>2013-08-14 05:41:20</td>\n",
       "    </tr>\n",
       "    <tr>\n",
       "      <th>1</th>\n",
       "      <td>34</td>\n",
       "      <td>F</td>\n",
       "      <td>African-American</td>\n",
       "      <td>25 - 45</td>\n",
       "      <td>Low</td>\n",
       "      <td>Male</td>\n",
       "      <td>0</td>\n",
       "      <td>-1.0</td>\n",
       "      <td>3</td>\n",
       "      <td>1</td>\n",
       "      <td>1</td>\n",
       "      <td>2013-01-26 03:45:27</td>\n",
       "      <td>2013-02-05 05:36:53</td>\n",
       "    </tr>\n",
       "    <tr>\n",
       "      <th>2</th>\n",
       "      <td>24</td>\n",
       "      <td>F</td>\n",
       "      <td>African-American</td>\n",
       "      <td>Less than 25</td>\n",
       "      <td>Low</td>\n",
       "      <td>Male</td>\n",
       "      <td>4</td>\n",
       "      <td>-1.0</td>\n",
       "      <td>4</td>\n",
       "      <td>1</td>\n",
       "      <td>1</td>\n",
       "      <td>2013-04-13 04:58:34</td>\n",
       "      <td>2013-04-14 07:02:04</td>\n",
       "    </tr>\n",
       "    <tr>\n",
       "      <th>5</th>\n",
       "      <td>44</td>\n",
       "      <td>M</td>\n",
       "      <td>Other</td>\n",
       "      <td>25 - 45</td>\n",
       "      <td>Low</td>\n",
       "      <td>Male</td>\n",
       "      <td>0</td>\n",
       "      <td>0.0</td>\n",
       "      <td>1</td>\n",
       "      <td>0</td>\n",
       "      <td>0</td>\n",
       "      <td>2013-11-30 04:50:18</td>\n",
       "      <td>2013-12-01 12:28:56</td>\n",
       "    </tr>\n",
       "    <tr>\n",
       "      <th>6</th>\n",
       "      <td>41</td>\n",
       "      <td>F</td>\n",
       "      <td>Caucasian</td>\n",
       "      <td>25 - 45</td>\n",
       "      <td>Medium</td>\n",
       "      <td>Male</td>\n",
       "      <td>14</td>\n",
       "      <td>-1.0</td>\n",
       "      <td>6</td>\n",
       "      <td>1</td>\n",
       "      <td>1</td>\n",
       "      <td>2014-02-18 05:08:24</td>\n",
       "      <td>2014-02-24 12:18:30</td>\n",
       "    </tr>\n",
       "  </tbody>\n",
       "</table>\n",
       "</div>"
      ],
      "text/plain": [
       "   age c_charge_degree              race          age_cat score_text   sex  \\\n",
       "0   69               F             Other  Greater than 45        Low  Male   \n",
       "1   34               F  African-American          25 - 45        Low  Male   \n",
       "2   24               F  African-American     Less than 25        Low  Male   \n",
       "5   44               M             Other          25 - 45        Low  Male   \n",
       "6   41               F         Caucasian          25 - 45     Medium  Male   \n",
       "\n",
       "   priors_count  days_b_screening_arrest  decile_score  is_recid  \\\n",
       "0             0                     -1.0             1         0   \n",
       "1             0                     -1.0             3         1   \n",
       "2             4                     -1.0             4         1   \n",
       "5             0                      0.0             1         0   \n",
       "6            14                     -1.0             6         1   \n",
       "\n",
       "   two_year_recid            c_jail_in           c_jail_out  \n",
       "0               0  2013-08-13 06:03:42  2013-08-14 05:41:20  \n",
       "1               1  2013-01-26 03:45:27  2013-02-05 05:36:53  \n",
       "2               1  2013-04-13 04:58:34  2013-04-14 07:02:04  \n",
       "5               0  2013-11-30 04:50:18  2013-12-01 12:28:56  \n",
       "6               1  2014-02-18 05:08:24  2014-02-24 12:18:30  "
      ]
     },
     "execution_count": 39,
     "metadata": {},
     "output_type": "execute_result"
    }
   ],
   "source": [
    "print('Original ', len(df_raw_violent_data))\n",
    "print('Projected ', len(df1_violent))\n",
    "print ('Cleaned ', len(df2_violent))\n",
    "df2.head()"
   ]
  },
  {
   "cell_type": "markdown",
   "metadata": {},
   "source": [
    "#### Data Exploration"
   ]
  },
  {
   "cell_type": "code",
   "execution_count": 40,
   "metadata": {},
   "outputs": [
    {
     "data": {
      "text/plain": [
       "<matplotlib.axes._subplots.AxesSubplot at 0x7fb1f1af9d50>"
      ]
     },
     "execution_count": 40,
     "metadata": {},
     "output_type": "execute_result"
    },
    {
     "data": {
      "image/png": "[encoded data removed]",
      "text/plain": [
       "<Figure size 432x288 with 1 Axes>"
      ]
     },
     "metadata": {
      "needs_background": "light"
     },
     "output_type": "display_data"
    }
   ],
   "source": [
    "# compute score histograms by race and by gender \n",
    "df_f_violent = df2_violent[(df2_violent.sex == 'Female')]\n",
    "df_f_violent[\"v_decile_score\"].hist()"
   ]
  },
  {
   "cell_type": "code",
   "execution_count": 41,
   "metadata": {},
   "outputs": [
    {
     "data": {
      "text/plain": [
       "<matplotlib.axes._subplots.AxesSubplot at 0x7fb1f19b6a10>"
      ]
     },
     "execution_count": 41,
     "metadata": {},
     "output_type": "execute_result"
    },
    {
     "data": {
      "image/png": "[encoded data removed]",
      "text/plain": [
       "<Figure size 432x288 with 1 Axes>"
      ]
     },
     "metadata": {
      "needs_background": "light"
     },
     "output_type": "display_data"
    }
   ],
   "source": [
    "df_m_violent = df2_violent[(df2_violent.sex == 'Male')]\n",
    "df_m_violent[\"v_decile_score\"].hist()\n"
   ]
  },
  {
   "cell_type": "code",
   "execution_count": 42,
   "metadata": {},
   "outputs": [
    {
     "data": {
      "text/plain": [
       "<matplotlib.axes._subplots.AxesSubplot at 0x7fb1f22adad0>"
      ]
     },
     "execution_count": 42,
     "metadata": {},
     "output_type": "execute_result"
    },
    {
     "data": {
      "image/png": "[encoded data removed]",
      "text/plain": [
       "<Figure size 432x288 with 1 Axes>"
      ]
     },
     "metadata": {
      "needs_background": "light"
     },
     "output_type": "display_data"
    }
   ],
   "source": [
    "df_aa_violent = df2_violent[(df2_violent.race == 'African-American')]\n",
    "df_aa_violent[\"v_decile_score\"].hist()"
   ]
  },
  {
   "cell_type": "code",
   "execution_count": 43,
   "metadata": {},
   "outputs": [
    {
     "data": {
      "text/plain": [
       "<matplotlib.axes._subplots.AxesSubplot at 0x7fb1f239e6d0>"
      ]
     },
     "execution_count": 43,
     "metadata": {},
     "output_type": "execute_result"
    },
    {
     "data": {
      "image/png": "[encoded data removed]",
      "text/plain": [
       "<Figure size 432x288 with 1 Axes>"
      ]
     },
     "metadata": {
      "needs_background": "light"
     },
     "output_type": "display_data"
    }
   ],
   "source": [
    "df_wh_violent = df2_violent[(df2_violent.race == 'Caucasian')]\n",
    "df_wh_violent[\"v_decile_score\"].hist()"
   ]
  },
  {
   "cell_type": "code",
   "execution_count": 44,
   "metadata": {},
   "outputs": [
    {
     "data": {
      "text/plain": [
       "<matplotlib.axes._subplots.AxesSubplot at 0x7fb1f22a00d0>"
      ]
     },
     "execution_count": 44,
     "metadata": {},
     "output_type": "execute_result"
    },
    {
     "data": {
      "image/png": "[encoded data removed]",
      "text/plain": [
       "<Figure size 432x288 with 1 Axes>"
      ]
     },
     "metadata": {
      "needs_background": "light"
     },
     "output_type": "display_data"
    }
   ],
   "source": [
    "df_aa_violent[\"v_score_text\"].value_counts().plot(kind='bar')"
   ]
  },
  {
   "cell_type": "code",
   "execution_count": 45,
   "metadata": {},
   "outputs": [
    {
     "data": {
      "text/plain": [
       "<matplotlib.axes._subplots.AxesSubplot at 0x7fb1f24dc690>"
      ]
     },
     "execution_count": 45,
     "metadata": {},
     "output_type": "execute_result"
    },
    {
     "data": {
      "image/png": "[encoded data removed]",
      "text/plain": [
       "<Figure size 432x288 with 1 Axes>"
      ]
     },
     "metadata": {
      "needs_background": "light"
     },
     "output_type": "display_data"
    }
   ],
   "source": [
    "df_wh_violent[\"v_score_text\"].value_counts().plot(kind='bar')"
   ]
  },
  {
   "cell_type": "code",
   "execution_count": 46,
   "metadata": {},
   "outputs": [
    {
     "data": {
      "text/plain": [
       "25 - 45            2300\n",
       "Greater than 45     954\n",
       "Less than 25        766\n",
       "Name: age_cat, dtype: int64"
      ]
     },
     "execution_count": 46,
     "metadata": {},
     "output_type": "execute_result"
    }
   ],
   "source": [
    "df2_violent['age_cat'].value_counts()"
   ]
  },
  {
   "cell_type": "code",
   "execution_count": 47,
   "metadata": {},
   "outputs": [
    {
     "data": {
      "text/plain": [
       "African-American    1918\n",
       "Caucasian           1459\n",
       "Hispanic             355\n",
       "Other                255\n",
       "Asian                 26\n",
       "Native American        7\n",
       "Name: race, dtype: int64"
      ]
     },
     "execution_count": 47,
     "metadata": {},
     "output_type": "execute_result"
    }
   ],
   "source": [
    "df2_violent['race'].value_counts()"
   ]
  },
  {
   "cell_type": "markdown",
   "metadata": {},
   "source": [
    "After filtering we have the following demographic breakdown:"
   ]
  },
  {
   "cell_type": "code",
   "execution_count": 48,
   "metadata": {},
   "outputs": [
    {
     "name": "stdout",
     "output_type": "stream",
     "text": [
      "Black defendants: 47.71%\n",
      "White defendants: 36.29%\n",
      "Hispanic defendants: 8.83%\n",
      "Asian defendants: 0.65%\n",
      "Native American defendants: 0.17%\n"
     ]
    }
   ],
   "source": [
    "print(\"Black defendants: %.2f%%\" %            (1918 / 4020 * 100))\n",
    "print(\"White defendants: %.2f%%\" %            (1459 / 4020 * 100))\n",
    "print(\"Hispanic defendants: %.2f%%\" %         (355  / 4020 * 100))\n",
    "print(\"Asian defendants: %.2f%%\" %            (26   / 4020 * 100))\n",
    "print(\"Native American defendants: %.2f%%\" %  (7   / 4020 * 100))"
   ]
  },
  {
   "cell_type": "code",
   "execution_count": 49,
   "metadata": {},
   "outputs": [
    {
     "data": {
      "text/plain": [
       "Low       2913\n",
       "Medium     828\n",
       "High       279\n",
       "Name: v_score_text, dtype: int64"
      ]
     },
     "execution_count": 49,
     "metadata": {},
     "output_type": "execute_result"
    }
   ],
   "source": [
    "df2_violent['v_score_text'].value_counts()"
   ]
  },
  {
   "cell_type": "code",
   "execution_count": 50,
   "metadata": {},
   "outputs": [
    {
     "data": {
      "text/html": [
       "<div>\n",
       "<style scoped>\n",
       "    .dataframe tbody tr th:only-of-type {\n",
       "        vertical-align: middle;\n",
       "    }\n",
       "\n",
       "    .dataframe tbody tr th {\n",
       "        vertical-align: top;\n",
       "    }\n",
       "\n",
       "    .dataframe thead tr th {\n",
       "        text-align: left;\n",
       "    }\n",
       "\n",
       "    .dataframe thead tr:last-of-type th {\n",
       "        text-align: right;\n",
       "    }\n",
       "</style>\n",
       "<table border=\"1\" class=\"dataframe\">\n",
       "  <thead>\n",
       "    <tr>\n",
       "      <th></th>\n",
       "      <th colspan=\"6\" halign=\"left\">v_score_text</th>\n",
       "    </tr>\n",
       "    <tr>\n",
       "      <th>race</th>\n",
       "      <th>African-American</th>\n",
       "      <th>Asian</th>\n",
       "      <th>Caucasian</th>\n",
       "      <th>Hispanic</th>\n",
       "      <th>Native American</th>\n",
       "      <th>Other</th>\n",
       "    </tr>\n",
       "    <tr>\n",
       "      <th>sex</th>\n",
       "      <th></th>\n",
       "      <th></th>\n",
       "      <th></th>\n",
       "      <th></th>\n",
       "      <th></th>\n",
       "      <th></th>\n",
       "    </tr>\n",
       "  </thead>\n",
       "  <tbody>\n",
       "    <tr>\n",
       "      <th>Female</th>\n",
       "      <td>393.0</td>\n",
       "      <td>1.0</td>\n",
       "      <td>336.0</td>\n",
       "      <td>61.0</td>\n",
       "      <td>NaN</td>\n",
       "      <td>50.0</td>\n",
       "    </tr>\n",
       "    <tr>\n",
       "      <th>Male</th>\n",
       "      <td>1525.0</td>\n",
       "      <td>25.0</td>\n",
       "      <td>1123.0</td>\n",
       "      <td>294.0</td>\n",
       "      <td>7.0</td>\n",
       "      <td>205.0</td>\n",
       "    </tr>\n",
       "  </tbody>\n",
       "</table>\n",
       "</div>"
      ],
      "text/plain": [
       "           v_score_text                                                \n",
       "race   African-American Asian Caucasian Hispanic Native American  Other\n",
       "sex                                                                    \n",
       "Female            393.0   1.0     336.0     61.0             NaN   50.0\n",
       "Male             1525.0  25.0    1123.0    294.0             7.0  205.0"
      ]
     },
     "execution_count": 50,
     "metadata": {},
     "output_type": "execute_result"
    }
   ],
   "source": [
    "df2_violent.pivot_table(values=['v_score_text'], columns=['race'], index=['sex'],aggfunc=lambda x: len(x))"
   ]
  },
  {
   "cell_type": "code",
   "execution_count": 51,
   "metadata": {
    "scrolled": true
   },
   "outputs": [
    {
     "data": {
      "text/plain": [
       "Male      3179\n",
       "Female     841\n",
       "Name: sex, dtype: int64"
      ]
     },
     "execution_count": 51,
     "metadata": {},
     "output_type": "execute_result"
    }
   ],
   "source": [
    "df2_violent['sex'].value_counts()"
   ]
  },
  {
   "cell_type": "code",
   "execution_count": 52,
   "metadata": {},
   "outputs": [
    {
     "name": "stdout",
     "output_type": "stream",
     "text": [
      "Men: 79.08%\n",
      "Women: 13.63%\n"
     ]
    }
   ],
   "source": [
    "print(\"Men: %.2f%%\" %   (3179 / 4020 * 100))\n",
    "print(\"Women: %.2f%%\" % (841 / 6172 * 100))"
   ]
  },
  {
   "cell_type": "code",
   "execution_count": 53,
   "metadata": {},
   "outputs": [
    {
     "data": {
      "image/png": "[encoded data removed]",
      "text/plain": [
       "<Figure size 720x432 with 2 Axes>"
      ]
     },
     "metadata": {
      "needs_background": "light"
     },
     "output_type": "display_data"
    }
   ],
   "source": [
    "afr_violent = df2_violent[df2_violent['race'] == \"African-American\"].groupby(df2_violent['v_decile_score']).count()\n",
    "cau_violent = df2_violent[df2_violent['race'] == \"Caucasian\"].groupby(df2_violent['v_decile_score']).count()\n",
    "\n",
    "y_cau_violent = list(cau_violent['v_score_text'])\n",
    "y_afr_violent = list(afr_violent['v_score_text'])\n",
    "x = range(1,11)\n",
    "\n",
    "fig = plt.figure(figsize=(10,6))\n",
    "fig.add_subplot(121)\n",
    "plt.bar(x, y_afr_violent)\n",
    "plt.xlabel('Violent Decile Score')\n",
    "plt.ylabel('Count')\n",
    "plt.title(\"Black Defendant's Violent Decile Scores\")\n",
    "\n",
    "fig.add_subplot(122)\n",
    "plt.bar(x, y_cau_violent)\n",
    "plt.xlabel('Violent Decile Score')\n",
    "plt.ylabel('Count')\n",
    "plt.title(\"White Defendant's Violent Decile Scores\")\n",
    "\n",
    "# plt.tight_layout()\n",
    "plt.show()"
   ]
  },
  {
   "cell_type": "code",
   "execution_count": 54,
   "metadata": {},
   "outputs": [
    {
     "name": "stdout",
     "output_type": "stream",
     "text": [
      "age                           int64\n",
      "c_charge_degree            category\n",
      "race                       category\n",
      "age_cat                    category\n",
      "v_score_text               category\n",
      "sex                        category\n",
      "priors_count                  int64\n",
      "days_b_screening_arrest     float64\n",
      "v_decile_score                int64\n",
      "is_recid                      int64\n",
      "two_year_recid                int64\n",
      "dtype: object\n"
     ]
    }
   ],
   "source": [
    "df3_violent = df2_violent.copy(deep=True)\n",
    "\n",
    "df3_violent['c_charge_degree'] = df3_violent['c_charge_degree'].astype('category')\n",
    "df3_violent['age_cat'] = df3_violent['age_cat'].astype('category')\n",
    "df3_violent['race'] = df3_violent['race'].astype('category')\n",
    "df3_violent['sex'] = df3_violent['sex'].astype('category')\n",
    "df3_violent['v_score_text'] = df3_violent['v_score_text'].astype('category')\n",
    "\n",
    "print(df3_violent.dtypes)"
   ]
  },
  {
   "cell_type": "code",
   "execution_count": 55,
   "metadata": {},
   "outputs": [],
   "source": [
    "# explode c_charge_degree using get_dummies\n",
    "dummies_c_charge_degree = pd.get_dummies(df3_violent['c_charge_degree'])\n",
    "df3_violent = pd.concat([df3_violent, dummies_c_charge_degree], axis=1)\n",
    "df3_violent = df3_violent.drop(['c_charge_degree'], axis=1)\n",
    "\n",
    "# age_cat\n",
    "dummies_age_cat = pd.get_dummies(df3_violent['age_cat'])\n",
    "df3_violent = pd.concat([df3_violent, dummies_age_cat], axis=1)\n",
    "\n",
    "# Part of performing relevel after factor in R => Pro-Publica Analysis step\n",
    "df3_violent = df3_violent.drop(['age_cat', '25 - 45'], axis=1)\n",
    "\n",
    "# race\n",
    "dummies_race = pd.get_dummies(df3_violent['race'])\n",
    "df3_violent = pd.concat([df3_violent, dummies_race], axis=1)\n",
    "df3_violent = df3_violent.drop(['race', 'Caucasian'], axis=1)\n",
    "\n",
    "# sex\n",
    "dummies_sex = pd.get_dummies(df3_violent['sex'])\n",
    "df3_violent = pd.concat([df3_violent, dummies_sex], axis=1)\n",
    "df3_violent = df3_violent.drop(['sex', 'Male'], axis=1)\n",
    "\n",
    "\n",
    "df3_violent['v_score_text']= np.where(df3_violent['v_score_text'] == \"Low\", \"LowScore\", df3_violent['v_score_text'])\n",
    "\n",
    "df3_violent['v_score_text']= np.where(df3_violent['v_score_text'] != \"LowScore\", \"HighScore\", df3_violent['v_score_text'])\n",
    "\n",
    "df3_violent['v_score_text'] = df3_violent['v_score_text'].astype('category')\n"
   ]
  },
  {
   "cell_type": "code",
   "execution_count": 56,
   "metadata": {},
   "outputs": [],
   "source": [
    "df3_violent = df3_violent.rename(columns={'African-American':'African_American', 'Greater than 45':'Greater_than_45', 'Less than 25':'Less_than_25', 'Native American':'Native_American'})\n"
   ]
  },
  {
   "cell_type": "code",
   "execution_count": 57,
   "metadata": {},
   "outputs": [
    {
     "data": {
      "text/plain": [
       "age                           int64\n",
       "v_score_text               category\n",
       "priors_count                  int64\n",
       "days_b_screening_arrest     float64\n",
       "v_decile_score                int64\n",
       "is_recid                      int64\n",
       "two_year_recid                int64\n",
       "F                             uint8\n",
       "M                             uint8\n",
       "Greater_than_45               uint8\n",
       "Less_than_25                  uint8\n",
       "African_American              uint8\n",
       "Asian                         uint8\n",
       "Hispanic                      uint8\n",
       "Native_American               uint8\n",
       "Other                         uint8\n",
       "Female                        uint8\n",
       "dtype: object"
      ]
     },
     "execution_count": 57,
     "metadata": {},
     "output_type": "execute_result"
    }
   ],
   "source": [
    "df3_violent.dtypes"
   ]
  },
  {
   "cell_type": "code",
   "execution_count": 58,
   "metadata": {},
   "outputs": [
    {
     "data": {
      "text/plain": [
       "(4020, 17)"
      ]
     },
     "execution_count": 58,
     "metadata": {},
     "output_type": "execute_result"
    }
   ],
   "source": [
    "df3_violent.shape"
   ]
  },
  {
   "cell_type": "code",
   "execution_count": 59,
   "metadata": {
    "scrolled": false
   },
   "outputs": [
    {
     "data": {
      "text/html": [
       "<div>\n",
       "<style scoped>\n",
       "    .dataframe tbody tr th:only-of-type {\n",
       "        vertical-align: middle;\n",
       "    }\n",
       "\n",
       "    .dataframe tbody tr th {\n",
       "        vertical-align: top;\n",
       "    }\n",
       "\n",
       "    .dataframe thead th {\n",
       "        text-align: right;\n",
       "    }\n",
       "</style>\n",
       "<table border=\"1\" class=\"dataframe\">\n",
       "  <thead>\n",
       "    <tr style=\"text-align: right;\">\n",
       "      <th></th>\n",
       "      <th>age</th>\n",
       "      <th>v_score_text</th>\n",
       "      <th>priors_count</th>\n",
       "      <th>days_b_screening_arrest</th>\n",
       "      <th>v_decile_score</th>\n",
       "      <th>is_recid</th>\n",
       "      <th>two_year_recid</th>\n",
       "      <th>F</th>\n",
       "      <th>M</th>\n",
       "      <th>Greater_than_45</th>\n",
       "      <th>Less_than_25</th>\n",
       "      <th>African_American</th>\n",
       "      <th>Asian</th>\n",
       "      <th>Hispanic</th>\n",
       "      <th>Native_American</th>\n",
       "      <th>Other</th>\n",
       "      <th>Female</th>\n",
       "    </tr>\n",
       "  </thead>\n",
       "  <tbody>\n",
       "    <tr>\n",
       "      <th>0</th>\n",
       "      <td>69</td>\n",
       "      <td>LowScore</td>\n",
       "      <td>0</td>\n",
       "      <td>-1.0</td>\n",
       "      <td>1</td>\n",
       "      <td>0</td>\n",
       "      <td>0</td>\n",
       "      <td>1</td>\n",
       "      <td>0</td>\n",
       "      <td>1</td>\n",
       "      <td>0</td>\n",
       "      <td>0</td>\n",
       "      <td>0</td>\n",
       "      <td>0</td>\n",
       "      <td>0</td>\n",
       "      <td>1</td>\n",
       "      <td>0</td>\n",
       "    </tr>\n",
       "    <tr>\n",
       "      <th>1</th>\n",
       "      <td>34</td>\n",
       "      <td>LowScore</td>\n",
       "      <td>0</td>\n",
       "      <td>-1.0</td>\n",
       "      <td>1</td>\n",
       "      <td>1</td>\n",
       "      <td>1</td>\n",
       "      <td>1</td>\n",
       "      <td>0</td>\n",
       "      <td>0</td>\n",
       "      <td>0</td>\n",
       "      <td>1</td>\n",
       "      <td>0</td>\n",
       "      <td>0</td>\n",
       "      <td>0</td>\n",
       "      <td>0</td>\n",
       "      <td>0</td>\n",
       "    </tr>\n",
       "    <tr>\n",
       "      <th>4</th>\n",
       "      <td>44</td>\n",
       "      <td>LowScore</td>\n",
       "      <td>0</td>\n",
       "      <td>0.0</td>\n",
       "      <td>1</td>\n",
       "      <td>0</td>\n",
       "      <td>0</td>\n",
       "      <td>0</td>\n",
       "      <td>1</td>\n",
       "      <td>0</td>\n",
       "      <td>0</td>\n",
       "      <td>0</td>\n",
       "      <td>0</td>\n",
       "      <td>0</td>\n",
       "      <td>0</td>\n",
       "      <td>1</td>\n",
       "      <td>0</td>\n",
       "    </tr>\n",
       "    <tr>\n",
       "      <th>5</th>\n",
       "      <td>43</td>\n",
       "      <td>LowScore</td>\n",
       "      <td>3</td>\n",
       "      <td>-1.0</td>\n",
       "      <td>3</td>\n",
       "      <td>0</td>\n",
       "      <td>0</td>\n",
       "      <td>1</td>\n",
       "      <td>0</td>\n",
       "      <td>0</td>\n",
       "      <td>0</td>\n",
       "      <td>0</td>\n",
       "      <td>0</td>\n",
       "      <td>0</td>\n",
       "      <td>0</td>\n",
       "      <td>1</td>\n",
       "      <td>0</td>\n",
       "    </tr>\n",
       "    <tr>\n",
       "      <th>6</th>\n",
       "      <td>39</td>\n",
       "      <td>LowScore</td>\n",
       "      <td>0</td>\n",
       "      <td>-1.0</td>\n",
       "      <td>1</td>\n",
       "      <td>0</td>\n",
       "      <td>0</td>\n",
       "      <td>0</td>\n",
       "      <td>1</td>\n",
       "      <td>0</td>\n",
       "      <td>0</td>\n",
       "      <td>0</td>\n",
       "      <td>0</td>\n",
       "      <td>0</td>\n",
       "      <td>0</td>\n",
       "      <td>0</td>\n",
       "      <td>1</td>\n",
       "    </tr>\n",
       "  </tbody>\n",
       "</table>\n",
       "</div>"
      ],
      "text/plain": [
       "   age v_score_text  priors_count  days_b_screening_arrest  v_decile_score  \\\n",
       "0   69     LowScore             0                     -1.0               1   \n",
       "1   34     LowScore             0                     -1.0               1   \n",
       "4   44     LowScore             0                      0.0               1   \n",
       "5   43     LowScore             3                     -1.0               3   \n",
       "6   39     LowScore             0                     -1.0               1   \n",
       "\n",
       "   is_recid  two_year_recid  F  M  Greater_than_45  Less_than_25  \\\n",
       "0         0               0  1  0                1             0   \n",
       "1         1               1  1  0                0             0   \n",
       "4         0               0  0  1                0             0   \n",
       "5         0               0  1  0                0             0   \n",
       "6         0               0  0  1                0             0   \n",
       "\n",
       "   African_American  Asian  Hispanic  Native_American  Other  Female  \n",
       "0                 0      0         0                0      1       0  \n",
       "1                 1      0         0                0      0       0  \n",
       "4                 0      0         0                0      1       0  \n",
       "5                 0      0         0                0      1       0  \n",
       "6                 0      0         0                0      0       1  "
      ]
     },
     "execution_count": 59,
     "metadata": {},
     "output_type": "execute_result"
    }
   ],
   "source": [
    "df3_violent.head(5)"
   ]
  },
  {
   "cell_type": "code",
   "execution_count": 60,
   "metadata": {},
   "outputs": [],
   "source": [
    "attributes = ['priors_count', 'two_year_recid', 'M', 'Greater_than_45',\n",
    "       'Less_than_25', 'African_American', 'Asian', 'Hispanic',\n",
    "       'Native_American', 'Other', 'Female']\n",
    "target = ['v_score_text']"
   ]
  },
  {
   "cell_type": "code",
   "execution_count": 61,
   "metadata": {},
   "outputs": [
    {
     "name": "stdout",
     "output_type": "stream",
     "text": [
      "                                   Generalized Linear Model Regression Results                                   \n",
      "=================================================================================================================\n",
      "Dep. Variable:     ['v_score_text[HighScore]', 'v_score_text[LowScore]']   No. Observations:                 4020\n",
      "Model:                                                               GLM   Df Residuals:                     4008\n",
      "Model Family:                                                   Binomial   Df Model:                           11\n",
      "Link Function:                                                     logit   Scale:                          1.0000\n",
      "Method:                                                             IRLS   Log-Likelihood:                -1499.4\n",
      "Date:                                                   Tue, 21 Jan 2020   Deviance:                       2998.8\n",
      "Time:                                                           11:42:45   Pearson chi2:                 3.83e+03\n",
      "No. Iterations:                                                        6                                         \n",
      "Covariance Type:                                               nonrobust                                         \n",
      "====================================================================================\n",
      "                       coef    std err          z      P>|z|      [0.025      0.975]\n",
      "------------------------------------------------------------------------------------\n",
      "Intercept           -2.2427      0.113    -19.802      0.000      -2.465      -2.021\n",
      "priors_count         0.1376      0.012     11.854      0.000       0.115       0.160\n",
      "two_year_recid       0.9345      0.115      8.107      0.000       0.709       1.160\n",
      "M                   -0.1637      0.098     -1.669      0.095      -0.356       0.029\n",
      "Greater_than_45     -1.7421      0.184     -9.460      0.000      -2.103      -1.381\n",
      "Less_than_25         3.1459      0.115     27.259      0.000       2.920       3.372\n",
      "African_American     0.6589      0.108      6.093      0.000       0.447       0.871\n",
      "Asian               -0.9852      0.705     -1.397      0.162      -2.368       0.397\n",
      "Hispanic            -0.0642      0.191     -0.335      0.737      -0.439       0.311\n",
      "Native_American      0.4479      1.035      0.433      0.665      -1.582       2.477\n",
      "Other               -0.2054      0.225     -0.914      0.360      -0.646       0.235\n",
      "Female              -0.7289      0.127     -5.755      0.000      -0.977      -0.481\n",
      "====================================================================================\n"
     ]
    }
   ],
   "source": [
    "model_violent = sm.formula.glm('v_score_text ~ priors_count + two_year_recid + M + Greater_than_45 + Less_than_25 + African_American + Asian + Hispanic + Native_American + Other + Female'\n",
    "    , family=sm.families.Binomial(), data = df3_violent).fit()\n",
    "print(model_violent.summary())\n"
   ]
  },
  {
   "cell_type": "markdown",
   "metadata": {},
   "source": [
    "The violent score overpredicts recidivism for black defendants by 77.3% compared to white defendants."
   ]
  },
  {
   "cell_type": "code",
   "execution_count": 62,
   "metadata": {},
   "outputs": [
    {
     "data": {
      "text/plain": [
       "1.7739209589164604"
      ]
     },
     "execution_count": 62,
     "metadata": {},
     "output_type": "execute_result"
    }
   ],
   "source": [
    "control = math.exp(-2.24274) / (1 + math.exp(-2.24274))\n",
    "math.exp(0.65893) / (1 - control + (control * math.exp(0.65893)))"
   ]
  },
  {
   "cell_type": "markdown",
   "metadata": {},
   "source": [
    "Defendands under 25 are 7.4 times as likely to get a higher score as middle aged defendants."
   ]
  },
  {
   "cell_type": "code",
   "execution_count": 63,
   "metadata": {},
   "outputs": [
    {
     "data": {
      "text/plain": [
       "7.414239863565466"
      ]
     },
     "execution_count": 63,
     "metadata": {},
     "output_type": "execute_result"
    }
   ],
   "source": [
    "math.exp(3.14591) / (1 - control + (control * math.exp(3.14591)))"
   ]
  },
  {
   "cell_type": "code",
   "execution_count": null,
   "metadata": {},
   "outputs": [],
   "source": []
  }
 ],
 "metadata": {
  "kernelspec": {
   "display_name": "Python [conda env:rds_env]",
   "language": "python",
   "name": "conda-env-rds_env-py"
  },
  "language_info": {
   "codemirror_mode": {
    "name": "ipython",
    "version": 3
   },
   "file_extension": ".py",
   "mimetype": "text/x-python",
   "name": "python",
   "nbconvert_exporter": "python",
   "pygments_lexer": "ipython3",
   "version": "3.7.6"
  }
 },
 "nbformat": 4,
 "nbformat_minor": 2
}
