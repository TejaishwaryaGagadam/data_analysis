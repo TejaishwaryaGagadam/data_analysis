{
 "cells": [
  {
   "cell_type": "markdown",
   "metadata": {},
   "source": [
    "# RDS Lab 10: Case Study: Predicting employment outcomes based on mental health indictors\n",
    "\n",
    "For the next few weeks, we're going to be doing an in-depth case study of a single dataset and modelling efforts around that dataset. The process we'll go through should help you as you work on your projects.\n",
    "\n",
    "The dataset we're going to use is a survey designed to help draw a connection between mental health and employment outcomes. It was collected by Michael Cooley in partnership with SurveyMonkey and published on Kaggle.\n"
   ]
  },
  {
   "cell_type": "markdown",
   "metadata": {},
   "source": [
    "## Part 1: Data Collection\n",
    "\n",
    "The survey asks for responses to the following questions/statements:\n",
    "- I identify as having a mental illness \n",
    "- I have my own computer separate from a smart phone    \n",
    "- I have been hospitalized before for my mental illness    \n",
    "    - If yes: How many days were you hospitalized for your mental illness    \n",
    "- I am currently employed at least part-time    \n",
    "- I am legally disabled    \n",
    "- I have my regular access to the internet    \n",
    "- I live with my parents    \n",
    "- I have a gap in my resume    \n",
    "    - If yes: Total length of any gaps in my resume in months.    \n",
    "- Annual income (including any social welfare programs) in USD  \n",
    "- I am unemployed    \n",
    "- I read outside of work and school    \n",
    "- Annual income from social welfare programs  \n",
    "- I receive food stamps    \n",
    "- I am on section 8 housing    \n",
    "- I have one of the following issues in addition to my illness:\n",
    "    - Lack of concentration\n",
    "    - Anxiety\n",
    "    - Depression\n",
    "    - Obsessive thinking\n",
    "    - Mood swings\n",
    "    - Panic attacks\n",
    "    - Compulsive behavior\n",
    "    - Tiredness\n",
    "- Education level \n",
    "- Age    \n",
    "- Gender    \n",
    "- Household Income    \n",
    "- Region    \n",
    "- Device Type   \n"
   ]
  },
  {
   "cell_type": "markdown",
   "metadata": {},
   "source": [
    "### Ethical Issues\n",
    "\n",
    "This survey obviously includes numerous highly sensitive questions. We don't have any information about informed consent procedures, anonymization strategies, etc. that accompanied this data collection process, so we have to assume there were none. You can, however, read more about SurveyMonkey policies [here](https://help.surveymonkey.com/categories/Privacy_Legal).\n",
    "\n",
    "Recall the four principles of the Menlo Report:\n",
    "- Respect for persons: \"individuals should be treated as autonomous agents... \\[and\\] persons with diminished autonomy are entitled to protection\"\n",
    "- Beneficence \"(1) do not harm and (2) maximize possible benefits and minimize possible harms\"\n",
    "- Justice: the benefits and burdens of the research project should shared fairly \n",
    "- Respect for law and public interest\n",
    "\n",
    "**Poll: Which of the four principles of the Menlo Report do you think is most relevant to *collecting* this data?**\n",
    "\n",
    "There's no right answer here! Just be ready to explain your thought process.\n",
    "\n",
    "When collecting data, we should also think about all the possible ways in which it could be used. Let's take a minute to brainstorm some such ways. \n",
    "\n",
    "**Poll: Which of the four principles of the Menlo Report do you think is most relevant to *using* this data?**\n"
   ]
  },
  {
   "cell_type": "markdown",
   "metadata": {},
   "source": [
    "### Data Quality Issues\n",
    "\n",
    "Before we even look at the data, we should think about potential data quality issues that are intrinsic to the data collection process. \n",
    "\n",
    "What should we be wary of when we look at this data?"
   ]
  },
  {
   "cell_type": "markdown",
   "metadata": {},
   "source": [
    "## Part 2: Data Cleaning and Profiling"
   ]
  },
  {
   "cell_type": "code",
   "execution_count": 2,
   "metadata": {},
   "outputs": [],
   "source": [
    "import pandas as pd\n",
    "import numpy as np\n",
    "np.random.seed(10)"
   ]
  },
  {
   "cell_type": "code",
   "execution_count": 3,
   "metadata": {},
   "outputs": [
    {
     "name": "stdout",
     "output_type": "stream",
     "text": [
      "Index(['Respondent ID', 'Collector ID', 'Start Date', 'End Date', 'IP Address',\n",
      "       'Email Address', 'First Name', 'Last Name', 'Custom Data 1',\n",
      "       'I identify as having a mental illness', 'Education',\n",
      "       'I have my own computer separate from a smart phone',\n",
      "       'I have been hospitalized before for my mental illness',\n",
      "       'How many days were you hospitalized for your mental illness',\n",
      "       'I am currently employed at least part-time', 'I am legally disabled',\n",
      "       'I have my regular access to the internet', 'I live with my parents',\n",
      "       'I have a gap in my resume',\n",
      "       'Total length of any gaps in my resume in months.',\n",
      "       'Annual income (including any social welfare programs) in USD',\n",
      "       'I am unemployed', 'I read outside of work and school',\n",
      "       'Annual income from social welfare programs', 'I receive food stamps',\n",
      "       'I am on section 8 housing',\n",
      "       'How many times were you hospitalized for your mental illness',\n",
      "       'Lack of concentration', 'Anxiety', 'Depression', 'Obsessive thinking',\n",
      "       'Mood swings', 'Panic attacks', 'Compulsive behavior', 'Tiredness',\n",
      "       'Age', 'Gender', 'Household Income', 'Region', 'Device Type'],\n",
      "      dtype='object')\n"
     ]
    },
    {
     "data": {
      "text/html": [
       "<div>\n",
       "<style scoped>\n",
       "    .dataframe tbody tr th:only-of-type {\n",
       "        vertical-align: middle;\n",
       "    }\n",
       "\n",
       "    .dataframe tbody tr th {\n",
       "        vertical-align: top;\n",
       "    }\n",
       "\n",
       "    .dataframe thead th {\n",
       "        text-align: right;\n",
       "    }\n",
       "</style>\n",
       "<table border=\"1\" class=\"dataframe\">\n",
       "  <thead>\n",
       "    <tr style=\"text-align: right;\">\n",
       "      <th></th>\n",
       "      <th>Respondent ID</th>\n",
       "      <th>Collector ID</th>\n",
       "      <th>Start Date</th>\n",
       "      <th>End Date</th>\n",
       "      <th>IP Address</th>\n",
       "      <th>Email Address</th>\n",
       "      <th>First Name</th>\n",
       "      <th>Last Name</th>\n",
       "      <th>Custom Data 1</th>\n",
       "      <th>I identify as having a mental illness</th>\n",
       "      <th>...</th>\n",
       "      <th>Obsessive thinking</th>\n",
       "      <th>Mood swings</th>\n",
       "      <th>Panic attacks</th>\n",
       "      <th>Compulsive behavior</th>\n",
       "      <th>Tiredness</th>\n",
       "      <th>Age</th>\n",
       "      <th>Gender</th>\n",
       "      <th>Household Income</th>\n",
       "      <th>Region</th>\n",
       "      <th>Device Type</th>\n",
       "    </tr>\n",
       "  </thead>\n",
       "  <tbody>\n",
       "    <tr>\n",
       "      <th>0</th>\n",
       "      <td>NaN</td>\n",
       "      <td>NaN</td>\n",
       "      <td>NaN</td>\n",
       "      <td>NaN</td>\n",
       "      <td>NaN</td>\n",
       "      <td>NaN</td>\n",
       "      <td>NaN</td>\n",
       "      <td>NaN</td>\n",
       "      <td>NaN</td>\n",
       "      <td>Response</td>\n",
       "      <td>...</td>\n",
       "      <td>Obsessive thinking</td>\n",
       "      <td>Mood swings</td>\n",
       "      <td>Panic attacks</td>\n",
       "      <td>Compulsive behavior</td>\n",
       "      <td>Tiredness</td>\n",
       "      <td>Response</td>\n",
       "      <td>Response</td>\n",
       "      <td>Response</td>\n",
       "      <td>Response</td>\n",
       "      <td>Response</td>\n",
       "    </tr>\n",
       "    <tr>\n",
       "      <th>1</th>\n",
       "      <td>6.630447e+09</td>\n",
       "      <td>168522804.0</td>\n",
       "      <td>01/15/2018 03:45:16 AM</td>\n",
       "      <td>01/15/2018 03:48:24 AM</td>\n",
       "      <td>NaN</td>\n",
       "      <td>NaN</td>\n",
       "      <td>NaN</td>\n",
       "      <td>NaN</td>\n",
       "      <td>06f645d7ea5af372d50a62bd17</td>\n",
       "      <td>No</td>\n",
       "      <td>...</td>\n",
       "      <td>Obsessive thinking</td>\n",
       "      <td>NaN</td>\n",
       "      <td>Panic attacks</td>\n",
       "      <td>NaN</td>\n",
       "      <td>NaN</td>\n",
       "      <td>30-44</td>\n",
       "      <td>Male</td>\n",
       "      <td>$25,000-$49,999</td>\n",
       "      <td>Mountain</td>\n",
       "      <td>Android Phone / Tablet</td>\n",
       "    </tr>\n",
       "    <tr>\n",
       "      <th>2</th>\n",
       "      <td>6.630410e+09</td>\n",
       "      <td>168522804.0</td>\n",
       "      <td>01/15/2018 03:17:52 AM</td>\n",
       "      <td>01/15/2018 03:18:57 AM</td>\n",
       "      <td>NaN</td>\n",
       "      <td>NaN</td>\n",
       "      <td>NaN</td>\n",
       "      <td>NaN</td>\n",
       "      <td>abca2776418ff1fe24bb85e21f</td>\n",
       "      <td>Yes</td>\n",
       "      <td>...</td>\n",
       "      <td>NaN</td>\n",
       "      <td>NaN</td>\n",
       "      <td>Panic attacks</td>\n",
       "      <td>NaN</td>\n",
       "      <td>Tiredness</td>\n",
       "      <td>18-29</td>\n",
       "      <td>Male</td>\n",
       "      <td>$50,000-$74,999</td>\n",
       "      <td>East South Central</td>\n",
       "      <td>MacOS Desktop / Laptop</td>\n",
       "    </tr>\n",
       "    <tr>\n",
       "      <th>3</th>\n",
       "      <td>6.630402e+09</td>\n",
       "      <td>168522804.0</td>\n",
       "      <td>01/15/2018 03:10:28 AM</td>\n",
       "      <td>01/15/2018 03:12:49 AM</td>\n",
       "      <td>NaN</td>\n",
       "      <td>NaN</td>\n",
       "      <td>NaN</td>\n",
       "      <td>NaN</td>\n",
       "      <td>3800088cf4e55278b38bbe67f3</td>\n",
       "      <td>No</td>\n",
       "      <td>...</td>\n",
       "      <td>NaN</td>\n",
       "      <td>NaN</td>\n",
       "      <td>NaN</td>\n",
       "      <td>NaN</td>\n",
       "      <td>NaN</td>\n",
       "      <td>30-44</td>\n",
       "      <td>Male</td>\n",
       "      <td>$150,000-$174,999</td>\n",
       "      <td>Pacific</td>\n",
       "      <td>MacOS Desktop / Laptop</td>\n",
       "    </tr>\n",
       "    <tr>\n",
       "      <th>4</th>\n",
       "      <td>6.630335e+09</td>\n",
       "      <td>168522804.0</td>\n",
       "      <td>01/15/2018 02:11:16 AM</td>\n",
       "      <td>01/15/2018 02:12:33 AM</td>\n",
       "      <td>NaN</td>\n",
       "      <td>NaN</td>\n",
       "      <td>NaN</td>\n",
       "      <td>NaN</td>\n",
       "      <td>84585803a3cec189f89fe43d44</td>\n",
       "      <td>No</td>\n",
       "      <td>...</td>\n",
       "      <td>NaN</td>\n",
       "      <td>NaN</td>\n",
       "      <td>NaN</td>\n",
       "      <td>NaN</td>\n",
       "      <td>NaN</td>\n",
       "      <td>30-44</td>\n",
       "      <td>Male</td>\n",
       "      <td>$25,000-$49,999</td>\n",
       "      <td>New England</td>\n",
       "      <td>Windows Desktop / Laptop</td>\n",
       "    </tr>\n",
       "  </tbody>\n",
       "</table>\n",
       "<p>5 rows × 40 columns</p>\n",
       "</div>"
      ],
      "text/plain": [
       "   Respondent ID  Collector ID              Start Date  \\\n",
       "0            NaN           NaN                     NaN   \n",
       "1   6.630447e+09   168522804.0  01/15/2018 03:45:16 AM   \n",
       "2   6.630410e+09   168522804.0  01/15/2018 03:17:52 AM   \n",
       "3   6.630402e+09   168522804.0  01/15/2018 03:10:28 AM   \n",
       "4   6.630335e+09   168522804.0  01/15/2018 02:11:16 AM   \n",
       "\n",
       "                 End Date  IP Address  Email Address  First Name  Last Name  \\\n",
       "0                     NaN         NaN            NaN         NaN        NaN   \n",
       "1  01/15/2018 03:48:24 AM         NaN            NaN         NaN        NaN   \n",
       "2  01/15/2018 03:18:57 AM         NaN            NaN         NaN        NaN   \n",
       "3  01/15/2018 03:12:49 AM         NaN            NaN         NaN        NaN   \n",
       "4  01/15/2018 02:12:33 AM         NaN            NaN         NaN        NaN   \n",
       "\n",
       "                Custom Data 1 I identify as having a mental illness  ...  \\\n",
       "0                         NaN                              Response  ...   \n",
       "1  06f645d7ea5af372d50a62bd17                                    No  ...   \n",
       "2  abca2776418ff1fe24bb85e21f                                   Yes  ...   \n",
       "3  3800088cf4e55278b38bbe67f3                                    No  ...   \n",
       "4  84585803a3cec189f89fe43d44                                    No  ...   \n",
       "\n",
       "   Obsessive thinking  Mood swings  Panic attacks  Compulsive behavior  \\\n",
       "0  Obsessive thinking  Mood swings  Panic attacks  Compulsive behavior   \n",
       "1  Obsessive thinking          NaN  Panic attacks                  NaN   \n",
       "2                 NaN          NaN  Panic attacks                  NaN   \n",
       "3                 NaN          NaN            NaN                  NaN   \n",
       "4                 NaN          NaN            NaN                  NaN   \n",
       "\n",
       "   Tiredness       Age    Gender   Household Income              Region  \\\n",
       "0  Tiredness  Response  Response           Response            Response   \n",
       "1        NaN     30-44      Male    $25,000-$49,999            Mountain   \n",
       "2  Tiredness     18-29      Male    $50,000-$74,999  East South Central   \n",
       "3        NaN     30-44      Male  $150,000-$174,999             Pacific   \n",
       "4        NaN     30-44      Male    $25,000-$49,999         New England   \n",
       "\n",
       "                Device Type  \n",
       "0                  Response  \n",
       "1    Android Phone / Tablet  \n",
       "2    MacOS Desktop / Laptop  \n",
       "3    MacOS Desktop / Laptop  \n",
       "4  Windows Desktop / Laptop  \n",
       "\n",
       "[5 rows x 40 columns]"
      ]
     },
     "execution_count": 3,
     "metadata": {},
     "output_type": "execute_result"
    }
   ],
   "source": [
    "student_path = \"../shared/Lab 10/mental_health_employment_survey.csv\"\n",
    "instructor_path = \"../../shared/Lab 10/mental_health_employment_survey.csv\"\n",
    "survey = pd.read_csv(instructor_path)\n",
    "print(survey.columns)\n",
    "survey.head()"
   ]
  },
  {
   "cell_type": "markdown",
   "metadata": {},
   "source": [
    "First, it looks like the first row repeats the column names for some features and doesn't contain real data. We can drop it. "
   ]
  },
  {
   "cell_type": "code",
   "execution_count": 4,
   "metadata": {},
   "outputs": [],
   "source": [
    "survey = survey.loc[1:, ]"
   ]
  },
  {
   "cell_type": "markdown",
   "metadata": {},
   "source": [
    "Second, it looks like there are some identifying variables that have been removed. Recall that this is not enough to preserve privacy.\n",
    "\n",
    "Let's start by making these column names easier to work with."
   ]
  },
  {
   "cell_type": "code",
   "execution_count": 5,
   "metadata": {},
   "outputs": [],
   "source": [
    "features = ['respondent_id', 'collector_id', 'survey_start', 'survey_end', 'ip', 'email', 'first_name', 'last_name', \n",
    " 'custom_data', 'has_mental_illness', 'education', 'has_computer', 'hospitalized', 'days_hospitalized', \n",
    " 'employed', 'legally_disabled', 'internet_access', 'lives_with_parents', 'resume_gap', 'resume_gap_months',\n",
    " 'total_income', 'unemployed', 'reads', 'welfare_income', 'gets_food_stamps', 'gets_section8', 'times_hospitalized',\n",
    " 'lack_of_concentration', 'anxiety', 'depression', 'obsessive_thinking', 'mood_swings',  'panic_attacks', \n",
    " 'compulsive_behavior', 'tiredness', 'age', 'gender', 'household_income', 'region', 'device_type']\n",
    "# Create a dictionary to store the new feature name as well as the originl feature name, \n",
    "# so that we can easily look up the full original question if we forget what the feature name represents\n",
    "feat_dict = {}\n",
    "for i in range(len(features)):\n",
    "    feat_dict[features[i]] = survey.columns[i]\n",
    "survey.columns = features"
   ]
  },
  {
   "cell_type": "markdown",
   "metadata": {},
   "source": [
    "Third, let's see if we can drop any columns that aren't useful."
   ]
  },
  {
   "cell_type": "code",
   "execution_count": 6,
   "metadata": {},
   "outputs": [],
   "source": [
    "# Let's try to figure out what custom_data is \n",
    "survey.custom_data.value_counts() \n",
    "# Looks like we can drop this\n",
    "survey.drop([\"custom_data\"], axis=1, inplace=True)"
   ]
  },
  {
   "cell_type": "code",
   "execution_count": 7,
   "metadata": {},
   "outputs": [],
   "source": [
    "# Let's confirm that all the \"identifying\" variables are actually all missing, and if so, we'll drop them.\n",
    "for var in [ 'ip', 'email', 'first_name', 'last_name']:\n",
    "    # Confirm all rows are missing\n",
    "    assert sum(survey[var].notna())==0\n",
    "    # Drop the variable\n",
    "    survey.drop([var], axis=1, inplace=True)"
   ]
  },
  {
   "cell_type": "markdown",
   "metadata": {},
   "source": [
    "Fourth, let's confirm that respondent_id is a unique identifier"
   ]
  },
  {
   "cell_type": "code",
   "execution_count": 8,
   "metadata": {},
   "outputs": [],
   "source": [
    "# Your code here\n"
   ]
  },
  {
   "cell_type": "markdown",
   "metadata": {},
   "source": [
    "Fifth, let's make sure all numeric variables are stored as numbers. (We won't worry about dummies yet.)"
   ]
  },
  {
   "cell_type": "code",
   "execution_count": 9,
   "metadata": {},
   "outputs": [
    {
     "data": {
      "text/plain": [
       "respondent_id            float64\n",
       "collector_id             float64\n",
       "survey_start              object\n",
       "survey_end                object\n",
       "has_mental_illness        object\n",
       "education                 object\n",
       "has_computer              object\n",
       "hospitalized              object\n",
       "days_hospitalized         object\n",
       "employed                  object\n",
       "legally_disabled          object\n",
       "internet_access           object\n",
       "lives_with_parents        object\n",
       "resume_gap                object\n",
       "resume_gap_months         object\n",
       "total_income              object\n",
       "unemployed                object\n",
       "reads                     object\n",
       "welfare_income            object\n",
       "gets_food_stamps          object\n",
       "gets_section8             object\n",
       "times_hospitalized        object\n",
       "lack_of_concentration     object\n",
       "anxiety                   object\n",
       "depression                object\n",
       "obsessive_thinking        object\n",
       "mood_swings               object\n",
       "panic_attacks             object\n",
       "compulsive_behavior       object\n",
       "tiredness                 object\n",
       "age                       object\n",
       "gender                    object\n",
       "household_income          object\n",
       "region                    object\n",
       "device_type               object\n",
       "dtype: object"
      ]
     },
     "execution_count": 9,
     "metadata": {},
     "output_type": "execute_result"
    }
   ],
   "source": [
    "survey.dtypes"
   ]
  },
  {
   "cell_type": "code",
   "execution_count": 10,
   "metadata": {},
   "outputs": [
    {
     "name": "stdout",
     "output_type": "stream",
     "text": [
      "\n",
      "days_hospitalized is all numeric.\n",
      "\n",
      "resume_gap_months is all numeric.\n",
      "\n",
      "total_income is all numeric.\n",
      "\n",
      "welfare_income is all numeric.\n",
      "\n",
      "times_hospitalized is all numeric.\n",
      "\n",
      "age has non numeric values:\n",
      "['30-44' '18-29' '45-60' '> 60']\n",
      "\n",
      "household_income has non numeric values:\n",
      "['$25,000-$49,999' '$50,000-$74,999' '$150,000-$174,999' '$0-$9,999'\n",
      " '$100,000-$124,999' '$125,000-$149,999' 'Prefer not to answer'\n",
      " '$10,000-$24,999' '$75,000-$99,999' '$200,000+' '$175,000-$199,999']\n"
     ]
    }
   ],
   "source": [
    "# Try to cast each variable that we suspect might be numeric, \n",
    "# flagging the variable if that doesn't work\n",
    "for var in [\"days_hospitalized\", \"resume_gap_months\", \"total_income\", \"welfare_income\", \"times_hospitalized\", \"age\", \"household_income\"]:\n",
    "    try:\n",
    "        survey[var]=pd.to_numeric(survey[var])\n",
    "        print(\"\\n{} is all numeric.\".format(var))\n",
    "    except:\n",
    "        print(\"\\n{} has non numeric values:\".format(var))\n",
    "        print(survey[var].unique())"
   ]
  },
  {
   "cell_type": "markdown",
   "metadata": {},
   "source": [
    "Seventh, let's examine variables that seem to overlap for any inconsistencies. "
   ]
  },
  {
   "cell_type": "code",
   "execution_count": 11,
   "metadata": {},
   "outputs": [
    {
     "name": "stdout",
     "output_type": "stream",
     "text": [
      "I have been hospitalized before for my mental illness\n",
      "How many days were you hospitalized for your mental illness\n",
      "How many times were you hospitalized for your mental illness\n"
     ]
    }
   ],
   "source": [
    "# Let's look back at how some of these questions were described. Do you spot any potential issues?\n",
    "print(feat_dict['hospitalized'])\n",
    "print(feat_dict['days_hospitalized'])\n",
    "print(feat_dict['times_hospitalized'])"
   ]
  },
  {
   "cell_type": "markdown",
   "metadata": {},
   "source": [
    "Let's confirm that responses to these questions are consistent with each other. "
   ]
  },
  {
   "cell_type": "code",
   "execution_count": 12,
   "metadata": {},
   "outputs": [
    {
     "data": {
      "text/plain": [
       "array([ 0., nan, 20., 78., 44.,  1., 99.,  6.,  3.,  2.])"
      ]
     },
     "execution_count": 12,
     "metadata": {},
     "output_type": "execute_result"
    }
   ],
   "source": [
    "survey.loc[survey.hospitalized==\"No\", \"days_hospitalized\"].unique()"
   ]
  },
  {
   "cell_type": "code",
   "execution_count": 13,
   "metadata": {},
   "outputs": [
    {
     "data": {
      "text/plain": [
       "array([ 0, 19,  1,  3, 69])"
      ]
     },
     "execution_count": 13,
     "metadata": {},
     "output_type": "execute_result"
    }
   ],
   "source": [
    "survey.loc[survey.hospitalized==\"No\", \"times_hospitalized\"].unique()"
   ]
  },
  {
   "cell_type": "markdown",
   "metadata": {},
   "source": [
    "These responses are inconsistent, so we have to decide what to trust. Let's recode the data for consistency."
   ]
  },
  {
   "cell_type": "code",
   "execution_count": 14,
   "metadata": {},
   "outputs": [],
   "source": [
    "# Your code here"
   ]
  },
  {
   "cell_type": "markdown",
   "metadata": {},
   "source": [
    "How about these variables? Do they mean the same thing?"
   ]
  },
  {
   "cell_type": "code",
   "execution_count": 15,
   "metadata": {},
   "outputs": [
    {
     "name": "stdout",
     "output_type": "stream",
     "text": [
      "I am currently employed at least part-time\n",
      "I am unemployed\n"
     ]
    }
   ],
   "source": [
    "print(feat_dict['employed'])\n",
    "print(feat_dict['unemployed'])"
   ]
  },
  {
   "cell_type": "code",
   "execution_count": 16,
   "metadata": {},
   "outputs": [
    {
     "data": {
      "text/html": [
       "<div>\n",
       "<style scoped>\n",
       "    .dataframe tbody tr th:only-of-type {\n",
       "        vertical-align: middle;\n",
       "    }\n",
       "\n",
       "    .dataframe tbody tr th {\n",
       "        vertical-align: top;\n",
       "    }\n",
       "\n",
       "    .dataframe thead th {\n",
       "        text-align: right;\n",
       "    }\n",
       "</style>\n",
       "<table border=\"1\" class=\"dataframe\">\n",
       "  <thead>\n",
       "    <tr style=\"text-align: right;\">\n",
       "      <th>unemployed</th>\n",
       "      <th>No</th>\n",
       "      <th>Yes</th>\n",
       "    </tr>\n",
       "    <tr>\n",
       "      <th>employed</th>\n",
       "      <th></th>\n",
       "      <th></th>\n",
       "    </tr>\n",
       "  </thead>\n",
       "  <tbody>\n",
       "    <tr>\n",
       "      <th>No</th>\n",
       "      <td>29</td>\n",
       "      <td>78</td>\n",
       "    </tr>\n",
       "    <tr>\n",
       "      <th>Yes</th>\n",
       "      <td>219</td>\n",
       "      <td>8</td>\n",
       "    </tr>\n",
       "  </tbody>\n",
       "</table>\n",
       "</div>"
      ],
      "text/plain": [
       "unemployed   No  Yes\n",
       "employed            \n",
       "No           29   78\n",
       "Yes         219    8"
      ]
     },
     "execution_count": 16,
     "metadata": {},
     "output_type": "execute_result"
    }
   ],
   "source": [
    "pd.crosstab(survey.employed, survey.unemployed)"
   ]
  },
  {
   "cell_type": "markdown",
   "metadata": {},
   "source": [
    "Again, we should probably recode the data for consistency. What should we trust?"
   ]
  },
  {
   "cell_type": "code",
   "execution_count": 19,
   "metadata": {},
   "outputs": [],
   "source": [
    "# Your code here"
   ]
  },
  {
   "cell_type": "markdown",
   "metadata": {},
   "source": [
    "Finally, let's recode yes-no variables as booleans"
   ]
  },
  {
   "cell_type": "code",
   "execution_count": 20,
   "metadata": {},
   "outputs": [],
   "source": [
    "for var in ['has_mental_illness', 'has_computer', 'hospitalized','employed', 'legally_disabled', \n",
    "            'internet_access', 'lives_with_parents', 'resume_gap', 'unemployed', 'reads',\n",
    "            'gets_food_stamps', 'gets_section8']:\n",
    "    survey[var] = survey[var].map({'Yes': True, 'No': False})\n",
    "    \n",
    "for var in ['lack_of_concentration', 'anxiety', 'depression', 'obsessive_thinking', \n",
    "            'mood_swings',  'panic_attacks', 'compulsive_behavior', 'tiredness']:\n",
    "    survey[var] = survey[var].notna()"
   ]
  },
  {
   "cell_type": "code",
   "execution_count": 21,
   "metadata": {},
   "outputs": [
    {
     "data": {
      "text/html": [
       "<div>\n",
       "<style scoped>\n",
       "    .dataframe tbody tr th:only-of-type {\n",
       "        vertical-align: middle;\n",
       "    }\n",
       "\n",
       "    .dataframe tbody tr th {\n",
       "        vertical-align: top;\n",
       "    }\n",
       "\n",
       "    .dataframe thead th {\n",
       "        text-align: right;\n",
       "    }\n",
       "</style>\n",
       "<table border=\"1\" class=\"dataframe\">\n",
       "  <thead>\n",
       "    <tr style=\"text-align: right;\">\n",
       "      <th></th>\n",
       "      <th>respondent_id</th>\n",
       "      <th>collector_id</th>\n",
       "      <th>survey_start</th>\n",
       "      <th>survey_end</th>\n",
       "      <th>has_mental_illness</th>\n",
       "      <th>education</th>\n",
       "      <th>has_computer</th>\n",
       "      <th>hospitalized</th>\n",
       "      <th>days_hospitalized</th>\n",
       "      <th>employed</th>\n",
       "      <th>...</th>\n",
       "      <th>obsessive_thinking</th>\n",
       "      <th>mood_swings</th>\n",
       "      <th>panic_attacks</th>\n",
       "      <th>compulsive_behavior</th>\n",
       "      <th>tiredness</th>\n",
       "      <th>age</th>\n",
       "      <th>gender</th>\n",
       "      <th>household_income</th>\n",
       "      <th>region</th>\n",
       "      <th>device_type</th>\n",
       "    </tr>\n",
       "  </thead>\n",
       "  <tbody>\n",
       "    <tr>\n",
       "      <th>1</th>\n",
       "      <td>6.630447e+09</td>\n",
       "      <td>168522804.0</td>\n",
       "      <td>01/15/2018 03:45:16 AM</td>\n",
       "      <td>01/15/2018 03:48:24 AM</td>\n",
       "      <td>False</td>\n",
       "      <td>High School or GED</td>\n",
       "      <td>False</td>\n",
       "      <td>False</td>\n",
       "      <td>0.0</td>\n",
       "      <td>False</td>\n",
       "      <td>...</td>\n",
       "      <td>True</td>\n",
       "      <td>False</td>\n",
       "      <td>True</td>\n",
       "      <td>False</td>\n",
       "      <td>False</td>\n",
       "      <td>30-44</td>\n",
       "      <td>Male</td>\n",
       "      <td>$25,000-$49,999</td>\n",
       "      <td>Mountain</td>\n",
       "      <td>Android Phone / Tablet</td>\n",
       "    </tr>\n",
       "    <tr>\n",
       "      <th>2</th>\n",
       "      <td>6.630410e+09</td>\n",
       "      <td>168522804.0</td>\n",
       "      <td>01/15/2018 03:17:52 AM</td>\n",
       "      <td>01/15/2018 03:18:57 AM</td>\n",
       "      <td>True</td>\n",
       "      <td>Some Phd</td>\n",
       "      <td>True</td>\n",
       "      <td>False</td>\n",
       "      <td>0.0</td>\n",
       "      <td>True</td>\n",
       "      <td>...</td>\n",
       "      <td>False</td>\n",
       "      <td>False</td>\n",
       "      <td>True</td>\n",
       "      <td>False</td>\n",
       "      <td>True</td>\n",
       "      <td>18-29</td>\n",
       "      <td>Male</td>\n",
       "      <td>$50,000-$74,999</td>\n",
       "      <td>East South Central</td>\n",
       "      <td>MacOS Desktop / Laptop</td>\n",
       "    </tr>\n",
       "    <tr>\n",
       "      <th>3</th>\n",
       "      <td>6.630402e+09</td>\n",
       "      <td>168522804.0</td>\n",
       "      <td>01/15/2018 03:10:28 AM</td>\n",
       "      <td>01/15/2018 03:12:49 AM</td>\n",
       "      <td>False</td>\n",
       "      <td>Completed Undergraduate</td>\n",
       "      <td>True</td>\n",
       "      <td>False</td>\n",
       "      <td>0.0</td>\n",
       "      <td>True</td>\n",
       "      <td>...</td>\n",
       "      <td>False</td>\n",
       "      <td>False</td>\n",
       "      <td>False</td>\n",
       "      <td>False</td>\n",
       "      <td>False</td>\n",
       "      <td>30-44</td>\n",
       "      <td>Male</td>\n",
       "      <td>$150,000-$174,999</td>\n",
       "      <td>Pacific</td>\n",
       "      <td>MacOS Desktop / Laptop</td>\n",
       "    </tr>\n",
       "    <tr>\n",
       "      <th>4</th>\n",
       "      <td>6.630335e+09</td>\n",
       "      <td>168522804.0</td>\n",
       "      <td>01/15/2018 02:11:16 AM</td>\n",
       "      <td>01/15/2018 02:12:33 AM</td>\n",
       "      <td>False</td>\n",
       "      <td>Some Undergraduate</td>\n",
       "      <td>True</td>\n",
       "      <td>False</td>\n",
       "      <td>NaN</td>\n",
       "      <td>False</td>\n",
       "      <td>...</td>\n",
       "      <td>False</td>\n",
       "      <td>False</td>\n",
       "      <td>False</td>\n",
       "      <td>False</td>\n",
       "      <td>False</td>\n",
       "      <td>30-44</td>\n",
       "      <td>Male</td>\n",
       "      <td>$25,000-$49,999</td>\n",
       "      <td>New England</td>\n",
       "      <td>Windows Desktop / Laptop</td>\n",
       "    </tr>\n",
       "    <tr>\n",
       "      <th>5</th>\n",
       "      <td>6.630290e+09</td>\n",
       "      <td>168522804.0</td>\n",
       "      <td>01/15/2018 01:24:12 AM</td>\n",
       "      <td>01/15/2018 01:26:34 AM</td>\n",
       "      <td>True</td>\n",
       "      <td>Completed Undergraduate</td>\n",
       "      <td>True</td>\n",
       "      <td>True</td>\n",
       "      <td>35.0</td>\n",
       "      <td>True</td>\n",
       "      <td>...</td>\n",
       "      <td>True</td>\n",
       "      <td>True</td>\n",
       "      <td>True</td>\n",
       "      <td>True</td>\n",
       "      <td>True</td>\n",
       "      <td>30-44</td>\n",
       "      <td>Male</td>\n",
       "      <td>$25,000-$49,999</td>\n",
       "      <td>East North Central</td>\n",
       "      <td>iOS Phone / Tablet</td>\n",
       "    </tr>\n",
       "  </tbody>\n",
       "</table>\n",
       "<p>5 rows × 35 columns</p>\n",
       "</div>"
      ],
      "text/plain": [
       "   respondent_id  collector_id            survey_start  \\\n",
       "1   6.630447e+09   168522804.0  01/15/2018 03:45:16 AM   \n",
       "2   6.630410e+09   168522804.0  01/15/2018 03:17:52 AM   \n",
       "3   6.630402e+09   168522804.0  01/15/2018 03:10:28 AM   \n",
       "4   6.630335e+09   168522804.0  01/15/2018 02:11:16 AM   \n",
       "5   6.630290e+09   168522804.0  01/15/2018 01:24:12 AM   \n",
       "\n",
       "               survey_end  has_mental_illness                education  \\\n",
       "1  01/15/2018 03:48:24 AM               False       High School or GED   \n",
       "2  01/15/2018 03:18:57 AM                True                 Some Phd   \n",
       "3  01/15/2018 03:12:49 AM               False  Completed Undergraduate   \n",
       "4  01/15/2018 02:12:33 AM               False       Some Undergraduate   \n",
       "5  01/15/2018 01:26:34 AM                True  Completed Undergraduate   \n",
       "\n",
       "   has_computer  hospitalized  days_hospitalized  employed  ...  \\\n",
       "1         False         False                0.0     False  ...   \n",
       "2          True         False                0.0      True  ...   \n",
       "3          True         False                0.0      True  ...   \n",
       "4          True         False                NaN     False  ...   \n",
       "5          True          True               35.0      True  ...   \n",
       "\n",
       "   obsessive_thinking  mood_swings  panic_attacks  compulsive_behavior  \\\n",
       "1                True        False           True                False   \n",
       "2               False        False           True                False   \n",
       "3               False        False          False                False   \n",
       "4               False        False          False                False   \n",
       "5                True         True           True                 True   \n",
       "\n",
       "   tiredness    age  gender   household_income              region  \\\n",
       "1      False  30-44    Male    $25,000-$49,999            Mountain   \n",
       "2       True  18-29    Male    $50,000-$74,999  East South Central   \n",
       "3      False  30-44    Male  $150,000-$174,999             Pacific   \n",
       "4      False  30-44    Male    $25,000-$49,999         New England   \n",
       "5       True  30-44    Male    $25,000-$49,999  East North Central   \n",
       "\n",
       "                device_type  \n",
       "1    Android Phone / Tablet  \n",
       "2    MacOS Desktop / Laptop  \n",
       "3    MacOS Desktop / Laptop  \n",
       "4  Windows Desktop / Laptop  \n",
       "5        iOS Phone / Tablet  \n",
       "\n",
       "[5 rows x 35 columns]"
      ]
     },
     "execution_count": 21,
     "metadata": {},
     "output_type": "execute_result"
    }
   ],
   "source": [
    "survey.head()"
   ]
  },
  {
   "cell_type": "markdown",
   "metadata": {},
   "source": [
    "Now that the data's a little cleaner, we should do some profiling. Take a look at the distribution of values of some variables that you think are interesting. \n"
   ]
  },
  {
   "cell_type": "code",
   "execution_count": 75,
   "metadata": {},
   "outputs": [],
   "source": [
    "# Your code here"
   ]
  },
  {
   "cell_type": "markdown",
   "metadata": {},
   "source": [
    "How about the overlap of certain variables? Are there any relationships that are worth keeping in mind when we proceed to analyze the data?"
   ]
  },
  {
   "cell_type": "code",
   "execution_count": 76,
   "metadata": {},
   "outputs": [],
   "source": [
    "# Your code here"
   ]
  },
  {
   "cell_type": "markdown",
   "metadata": {},
   "source": [
    "## Part 3: Auditing Fairness in the Data\n",
    "\n",
    "It's always useful to look at disparate outcomes in the data itself *before* worrying about disparate predictions that arise as a result of modeling.\n",
    "\n",
    "Pick a protected charactaristic that's interesting to you, as well as an outcome variable. Then, implement the following fairness measures. Don't worry, you don't need to use AIF360.\n",
    "\n",
    "**Disparate impact:**\n",
    "$$\\frac{Pr(Y = 1 | D = \\text{unprivileged})}\n",
    "{Pr(Y = 1 | D = \\text{privileged})}$$"
   ]
  },
  {
   "cell_type": "code",
   "execution_count": 31,
   "metadata": {},
   "outputs": [
    {
     "data": {
      "text/plain": [
       "0.8968926553672316"
      ]
     },
     "execution_count": 31,
     "metadata": {},
     "output_type": "execute_result"
    }
   ],
   "source": [
    "# Your code here\n"
   ]
  },
  {
   "cell_type": "markdown",
   "metadata": {},
   "source": [
    "**Statistical parity difference:**\n",
    "\n",
    "$$Pr(Y = 1 | D = \\text{unprivileged})- Pr(Y = 1 | D = \\text{privileged})$$"
   ]
  },
  {
   "cell_type": "code",
   "execution_count": 33,
   "metadata": {},
   "outputs": [
    {
     "data": {
      "text/plain": [
       "-0.07185039370078738"
      ]
     },
     "execution_count": 33,
     "metadata": {},
     "output_type": "execute_result"
    }
   ],
   "source": [
    "# Your code here\n"
   ]
  },
  {
   "cell_type": "markdown",
   "metadata": {},
   "source": [
    "**Your choice!** \n",
    "\n",
    "Come up with another interesting number to explore. "
   ]
  },
  {
   "cell_type": "code",
   "execution_count": null,
   "metadata": {},
   "outputs": [],
   "source": [
    "# Your code here"
   ]
  }
 ],
 "metadata": {
  "kernelspec": {
   "display_name": "Python [conda env:rds_env]",
   "language": "python",
   "name": "conda-env-rds_env-py"
  },
  "language_info": {
   "codemirror_mode": {
    "name": "ipython",
    "version": 3
   },
   "file_extension": ".py",
   "mimetype": "text/x-python",
   "name": "python",
   "nbconvert_exporter": "python",
   "pygments_lexer": "ipython3",
   "version": "3.7.1"
  }
 },
 "nbformat": 4,
 "nbformat_minor": 4
}
