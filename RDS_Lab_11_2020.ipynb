{
 "cells": [
  {
   "cell_type": "markdown",
   "metadata": {},
   "source": [
    "# RDS Lab 11: Case Study: Predicting employment outcomes based on mental health indictors\n",
    "\n",
    "We're going to be continuing our case study of a single dataset. The process we'll go through should help you as you work on your projects. The dataset is a survey designed to help draw a connection between mental health and employment outcomes. It was collected by Michael Corley in partnership with SurveyMonkey and published on Kaggle.\n"
   ]
  },
  {
   "cell_type": "code",
   "execution_count": 1,
   "metadata": {},
   "outputs": [],
   "source": [
    "import pandas as pd\n",
    "import numpy as np\n",
    "np.random.seed(10)\n",
    "\n",
    "from sklearn.ensemble import RandomForestClassifier\n",
    "from sklearn.preprocessing import LabelEncoder, OneHotEncoder\n",
    "from sklearn.compose import ColumnTransformer\n",
    "from sklearn.model_selection import train_test_split\n",
    "from sklearn.metrics import accuracy_score, roc_auc_score\n",
    "\n",
    "import matplotlib.pyplot as plt\n",
    "%matplotlib inline\n",
    "\n",
    "import lime\n",
    "import lime.lime_tabular"
   ]
  },
  {
   "cell_type": "markdown",
   "metadata": {},
   "source": [
    "## Part 1: Preprocessing the data\n",
    "\n",
    "We went through the data cleaning process last week, so feel free to just tab through this code. "
   ]
  },
  {
   "cell_type": "code",
   "execution_count": 2,
   "metadata": {},
   "outputs": [],
   "source": [
    "# Read in the data \n",
    "student_path = \"../shared/Lab 10/mental_health_employment_survey.csv\"\n",
    "instructor_path = \"../../shared/Lab 10/mental_health_employment_survey.csv\"\n",
    "survey = pd.read_csv(student_path)\n",
    "survey = survey.loc[1:, ]\n",
    "\n",
    "# Rename the columns\n",
    "features = ['respondent_id', 'collector_id', 'survey_start', 'survey_end', 'ip', 'email', 'first_name', 'last_name', \n",
    " 'custom_data', 'has_mental_illness', 'education', 'has_computer', 'hospitalized', 'days_hospitalized', \n",
    " 'employed', 'legally_disabled', 'internet_access', 'lives_with_parents', 'resume_gap', 'resume_gap_months',\n",
    " 'total_income', 'unemployed', 'reads', 'welfare_income', 'gets_food_stamps', 'gets_section8', 'times_hospitalized',\n",
    " 'lack_of_concentration', 'anxiety', 'depression', 'obsessive_thinking', 'mood_swings',  'panic_attacks', \n",
    " 'compulsive_behavior', 'tiredness', 'age', 'gender', 'household_income', 'region', 'device_type']\n",
    "# Create a dictionary to store the new feature name as well as the originl feature name, \n",
    "# so that we can easily look up the full original question if we forget what the feature name represents\n",
    "feat_dict = {}\n",
    "for i in range(len(features)):\n",
    "    feat_dict[features[i]] = survey.columns[i]\n",
    "survey.columns = features\n",
    "\n",
    "# Drop columns we don't need\n",
    "survey.drop([\"custom_data\"], axis=1, inplace=True)\n",
    "for var in [ 'ip', 'email', 'first_name', 'last_name']:\n",
    "    # Confirm all rows are missing\n",
    "    assert sum(survey[var].notna())==0\n",
    "    # Drop the variable\n",
    "    survey.drop([var], axis=1, inplace=True)"
   ]
  },
  {
   "cell_type": "code",
   "execution_count": 3,
   "metadata": {},
   "outputs": [
    {
     "name": "stdout",
     "output_type": "stream",
     "text": [
      "days_hospitalized is all numeric.\n",
      "resume_gap_months is all numeric.\n",
      "total_income is all numeric.\n",
      "welfare_income is all numeric.\n",
      "times_hospitalized is all numeric.\n",
      "age has non numeric values:\n",
      "['30-44' '18-29' '45-60' '> 60']\n",
      "household_income has non numeric values:\n",
      "['$25,000-$49,999' '$50,000-$74,999' '$150,000-$174,999' '$0-$9,999'\n",
      " '$100,000-$124,999' '$125,000-$149,999' 'Prefer not to answer'\n",
      " '$10,000-$24,999' '$75,000-$99,999' '$200,000+' '$175,000-$199,999']\n"
     ]
    }
   ],
   "source": [
    "# Try to cast each variable that we suspect might be numeric, \n",
    "# flagging the variable if that doesn't work\n",
    "for var in [\"days_hospitalized\", \"resume_gap_months\", \"total_income\", \"welfare_income\", \"times_hospitalized\", \"age\", \"household_income\"]:\n",
    "    try:\n",
    "        survey[var]=pd.to_numeric(survey[var])\n",
    "        print(\"{} is all numeric.\".format(var))\n",
    "    except:\n",
    "        print(\"{} has non numeric values:\".format(var))\n",
    "        print(survey[var].unique())"
   ]
  },
  {
   "cell_type": "code",
   "execution_count": 4,
   "metadata": {},
   "outputs": [],
   "source": [
    "# Recode hospitalization variables for consistency \n",
    "survey.loc[survey.days_hospitalized>0, 'hospitalized' ] = 'Yes'\n",
    "survey.loc[survey.times_hospitalized>0, 'hospitalized' ] = 'Yes'\n",
    "\n",
    "# Drop unemployment because it is not consistent with employment\n",
    "survey.drop('unemployed', axis=1, inplace=True)"
   ]
  },
  {
   "cell_type": "code",
   "execution_count": 5,
   "metadata": {},
   "outputs": [],
   "source": [
    "# Recode yes-no variables as dummies\n",
    "for var in ['has_mental_illness', 'has_computer', 'hospitalized','employed', 'legally_disabled', \n",
    "            'internet_access', 'lives_with_parents', 'resume_gap', 'reads','gets_food_stamps', 'gets_section8']:\n",
    "    survey[var] = (survey[var] == 'Yes')\n",
    "    \n",
    "for var in ['lack_of_concentration', 'anxiety', 'depression', 'obsessive_thinking', \n",
    "            'mood_swings',  'panic_attacks', 'compulsive_behavior', 'tiredness']:\n",
    "    survey[var] = (survey[var].notna())"
   ]
  },
  {
   "cell_type": "code",
   "execution_count": 6,
   "metadata": {},
   "outputs": [],
   "source": [
    "# Clean missing values\n",
    "\n",
    "# For region, treat \"missing\" as its own category\n",
    "survey.region = survey.region.fillna(\"Missing\")\n",
    "\n",
    "# For \"days_hospitalized,\" treat missing as zero\n",
    "survey.days_hospitalized = survey.days_hospitalized.fillna(0)\n"
   ]
  },
  {
   "cell_type": "code",
   "execution_count": 7,
   "metadata": {},
   "outputs": [
    {
     "data": {
      "text/html": [
       "<div>\n",
       "<style scoped>\n",
       "    .dataframe tbody tr th:only-of-type {\n",
       "        vertical-align: middle;\n",
       "    }\n",
       "\n",
       "    .dataframe tbody tr th {\n",
       "        vertical-align: top;\n",
       "    }\n",
       "\n",
       "    .dataframe thead th {\n",
       "        text-align: right;\n",
       "    }\n",
       "</style>\n",
       "<table border=\"1\" class=\"dataframe\">\n",
       "  <thead>\n",
       "    <tr style=\"text-align: right;\">\n",
       "      <th></th>\n",
       "      <th>respondent_id</th>\n",
       "      <th>collector_id</th>\n",
       "      <th>survey_start</th>\n",
       "      <th>survey_end</th>\n",
       "      <th>has_mental_illness</th>\n",
       "      <th>education</th>\n",
       "      <th>has_computer</th>\n",
       "      <th>hospitalized</th>\n",
       "      <th>days_hospitalized</th>\n",
       "      <th>employed</th>\n",
       "      <th>...</th>\n",
       "      <th>obsessive_thinking</th>\n",
       "      <th>mood_swings</th>\n",
       "      <th>panic_attacks</th>\n",
       "      <th>compulsive_behavior</th>\n",
       "      <th>tiredness</th>\n",
       "      <th>age</th>\n",
       "      <th>gender</th>\n",
       "      <th>household_income</th>\n",
       "      <th>region</th>\n",
       "      <th>device_type</th>\n",
       "    </tr>\n",
       "  </thead>\n",
       "  <tbody>\n",
       "    <tr>\n",
       "      <th>1</th>\n",
       "      <td>6.630447e+09</td>\n",
       "      <td>168522804.0</td>\n",
       "      <td>01/15/2018 03:45:16 AM</td>\n",
       "      <td>01/15/2018 03:48:24 AM</td>\n",
       "      <td>False</td>\n",
       "      <td>High School or GED</td>\n",
       "      <td>False</td>\n",
       "      <td>False</td>\n",
       "      <td>0.0</td>\n",
       "      <td>False</td>\n",
       "      <td>...</td>\n",
       "      <td>True</td>\n",
       "      <td>False</td>\n",
       "      <td>True</td>\n",
       "      <td>False</td>\n",
       "      <td>False</td>\n",
       "      <td>30-44</td>\n",
       "      <td>Male</td>\n",
       "      <td>$25,000-$49,999</td>\n",
       "      <td>Mountain</td>\n",
       "      <td>Android Phone / Tablet</td>\n",
       "    </tr>\n",
       "    <tr>\n",
       "      <th>2</th>\n",
       "      <td>6.630410e+09</td>\n",
       "      <td>168522804.0</td>\n",
       "      <td>01/15/2018 03:17:52 AM</td>\n",
       "      <td>01/15/2018 03:18:57 AM</td>\n",
       "      <td>True</td>\n",
       "      <td>Some Phd</td>\n",
       "      <td>True</td>\n",
       "      <td>False</td>\n",
       "      <td>0.0</td>\n",
       "      <td>True</td>\n",
       "      <td>...</td>\n",
       "      <td>False</td>\n",
       "      <td>False</td>\n",
       "      <td>True</td>\n",
       "      <td>False</td>\n",
       "      <td>True</td>\n",
       "      <td>18-29</td>\n",
       "      <td>Male</td>\n",
       "      <td>$50,000-$74,999</td>\n",
       "      <td>East South Central</td>\n",
       "      <td>MacOS Desktop / Laptop</td>\n",
       "    </tr>\n",
       "    <tr>\n",
       "      <th>3</th>\n",
       "      <td>6.630402e+09</td>\n",
       "      <td>168522804.0</td>\n",
       "      <td>01/15/2018 03:10:28 AM</td>\n",
       "      <td>01/15/2018 03:12:49 AM</td>\n",
       "      <td>False</td>\n",
       "      <td>Completed Undergraduate</td>\n",
       "      <td>True</td>\n",
       "      <td>False</td>\n",
       "      <td>0.0</td>\n",
       "      <td>True</td>\n",
       "      <td>...</td>\n",
       "      <td>False</td>\n",
       "      <td>False</td>\n",
       "      <td>False</td>\n",
       "      <td>False</td>\n",
       "      <td>False</td>\n",
       "      <td>30-44</td>\n",
       "      <td>Male</td>\n",
       "      <td>$150,000-$174,999</td>\n",
       "      <td>Pacific</td>\n",
       "      <td>MacOS Desktop / Laptop</td>\n",
       "    </tr>\n",
       "    <tr>\n",
       "      <th>4</th>\n",
       "      <td>6.630335e+09</td>\n",
       "      <td>168522804.0</td>\n",
       "      <td>01/15/2018 02:11:16 AM</td>\n",
       "      <td>01/15/2018 02:12:33 AM</td>\n",
       "      <td>False</td>\n",
       "      <td>Some Undergraduate</td>\n",
       "      <td>True</td>\n",
       "      <td>False</td>\n",
       "      <td>0.0</td>\n",
       "      <td>False</td>\n",
       "      <td>...</td>\n",
       "      <td>False</td>\n",
       "      <td>False</td>\n",
       "      <td>False</td>\n",
       "      <td>False</td>\n",
       "      <td>False</td>\n",
       "      <td>30-44</td>\n",
       "      <td>Male</td>\n",
       "      <td>$25,000-$49,999</td>\n",
       "      <td>New England</td>\n",
       "      <td>Windows Desktop / Laptop</td>\n",
       "    </tr>\n",
       "    <tr>\n",
       "      <th>5</th>\n",
       "      <td>6.630290e+09</td>\n",
       "      <td>168522804.0</td>\n",
       "      <td>01/15/2018 01:24:12 AM</td>\n",
       "      <td>01/15/2018 01:26:34 AM</td>\n",
       "      <td>True</td>\n",
       "      <td>Completed Undergraduate</td>\n",
       "      <td>True</td>\n",
       "      <td>True</td>\n",
       "      <td>35.0</td>\n",
       "      <td>True</td>\n",
       "      <td>...</td>\n",
       "      <td>True</td>\n",
       "      <td>True</td>\n",
       "      <td>True</td>\n",
       "      <td>True</td>\n",
       "      <td>True</td>\n",
       "      <td>30-44</td>\n",
       "      <td>Male</td>\n",
       "      <td>$25,000-$49,999</td>\n",
       "      <td>East North Central</td>\n",
       "      <td>iOS Phone / Tablet</td>\n",
       "    </tr>\n",
       "  </tbody>\n",
       "</table>\n",
       "<p>5 rows × 34 columns</p>\n",
       "</div>"
      ],
      "text/plain": [
       "   respondent_id  collector_id            survey_start  \\\n",
       "1   6.630447e+09   168522804.0  01/15/2018 03:45:16 AM   \n",
       "2   6.630410e+09   168522804.0  01/15/2018 03:17:52 AM   \n",
       "3   6.630402e+09   168522804.0  01/15/2018 03:10:28 AM   \n",
       "4   6.630335e+09   168522804.0  01/15/2018 02:11:16 AM   \n",
       "5   6.630290e+09   168522804.0  01/15/2018 01:24:12 AM   \n",
       "\n",
       "               survey_end  has_mental_illness                education  \\\n",
       "1  01/15/2018 03:48:24 AM               False       High School or GED   \n",
       "2  01/15/2018 03:18:57 AM                True                 Some Phd   \n",
       "3  01/15/2018 03:12:49 AM               False  Completed Undergraduate   \n",
       "4  01/15/2018 02:12:33 AM               False       Some Undergraduate   \n",
       "5  01/15/2018 01:26:34 AM                True  Completed Undergraduate   \n",
       "\n",
       "   has_computer  hospitalized  days_hospitalized  employed  ...  \\\n",
       "1         False         False                0.0     False  ...   \n",
       "2          True         False                0.0      True  ...   \n",
       "3          True         False                0.0      True  ...   \n",
       "4          True         False                0.0     False  ...   \n",
       "5          True          True               35.0      True  ...   \n",
       "\n",
       "   obsessive_thinking  mood_swings  panic_attacks  compulsive_behavior  \\\n",
       "1                True        False           True                False   \n",
       "2               False        False           True                False   \n",
       "3               False        False          False                False   \n",
       "4               False        False          False                False   \n",
       "5                True         True           True                 True   \n",
       "\n",
       "   tiredness    age  gender   household_income              region  \\\n",
       "1      False  30-44    Male    $25,000-$49,999            Mountain   \n",
       "2       True  18-29    Male    $50,000-$74,999  East South Central   \n",
       "3      False  30-44    Male  $150,000-$174,999             Pacific   \n",
       "4      False  30-44    Male    $25,000-$49,999         New England   \n",
       "5       True  30-44    Male    $25,000-$49,999  East North Central   \n",
       "\n",
       "                device_type  \n",
       "1    Android Phone / Tablet  \n",
       "2    MacOS Desktop / Laptop  \n",
       "3    MacOS Desktop / Laptop  \n",
       "4  Windows Desktop / Laptop  \n",
       "5        iOS Phone / Tablet  \n",
       "\n",
       "[5 rows x 34 columns]"
      ]
     },
     "execution_count": 7,
     "metadata": {},
     "output_type": "execute_result"
    }
   ],
   "source": [
    "survey.head()"
   ]
  },
  {
   "cell_type": "markdown",
   "metadata": {},
   "source": [
    "## Part 2:  Building a Model\n",
    "\n",
    "**The scenario:** You work for a nonprofit organization whose mission is to help individuals with mental health conditions find stable employment. However, you have limited resources, and there are more people seeking your organization’s assistance than you can help. You want your staff to put their time where it will do the most good, so **you decide to help those individuals with the least likelihood of finding employment on their own.** \n",
    "\n",
    "To do so, you come across this survey online that relates mental illness and other socioeconomic data points to employment outcomes. You decide to build a model to **predict an individual’s likelihood of being employed based on this survey.** You figure that you can ask individuals seeking your organization’s help to take the survey, generate a prediction based on this model, and decide who to help based on who has the lowest predicted probability of being employed. \n"
   ]
  },
  {
   "cell_type": "code",
   "execution_count": 8,
   "metadata": {},
   "outputs": [],
   "source": [
    "# First, remove total_income and household_income to avoid leakages\n",
    "survey.drop(['respondent_id', 'household_income', 'total_income'], axis=1, inplace=True)\n",
    "\n",
    "# Also remove survey-related variables that don't matter as predictors\n",
    "survey.drop([ 'collector_id', 'survey_start', 'survey_end', 'device_type'], axis=1, inplace=True)"
   ]
  },
  {
   "cell_type": "code",
   "execution_count": 9,
   "metadata": {},
   "outputs": [],
   "source": [
    "x = survey.drop(\"employed\", axis=1)\n",
    "y = survey.employed"
   ]
  },
  {
   "cell_type": "code",
   "execution_count": 10,
   "metadata": {},
   "outputs": [],
   "source": [
    "# Pre-process categorical features in a LIME-friendly way, storing their individual values (see Lab 8)\n",
    "categorical_features = [\"age\", \"education\", \"gender\", \"region\"]\n",
    "categorical_features  = [i for i in range(len(x.dtypes)) if x.dtypes[i]=='object']\n",
    "\n",
    "categorical_names = {}\n",
    "for feature in categorical_features:\n",
    "    # Use label encoder to map categories to numbers\n",
    "    le = LabelEncoder()\n",
    "    le.fit(x.iloc[:, feature])\n",
    "    # Replace the categories with corresponding numbers in the original data\n",
    "    x.iloc[:, feature] = le.transform(x.iloc[:, feature])\n",
    "    # Store and print the mappings for reference later\n",
    "    categorical_names[feature] = le.classes_\n",
    "    \n",
    "encoder = ColumnTransformer(transformers=[('get_dummies', OneHotEncoder(), categorical_features)], remainder='passthrough')\n",
    "encoder = encoder.fit(x)\n"
   ]
  },
  {
   "cell_type": "code",
   "execution_count": 11,
   "metadata": {},
   "outputs": [
    {
     "name": "stdout",
     "output_type": "stream",
     "text": [
      "Train size:  233\n",
      "Val size:  50\n",
      "Test size:  51\n"
     ]
    }
   ],
   "source": [
    "# Split into train/val/test 70/15/15 \n",
    "x_train, x_test, y_train, y_test = train_test_split(x, y, train_size=0.85, random_state=16)\n",
    "x_train, x_val, y_train, y_val = train_test_split(x_train, y_train, train_size=(0.70/0.85), random_state=16)\n",
    "print(\"Train size: \", len(x_train))\n",
    "print(\"Val size: \", len(x_val))\n",
    "print(\"Test size: \", len(x_test))"
   ]
  },
  {
   "cell_type": "markdown",
   "metadata": {},
   "source": [
    "Okay, now we're ready to train a random forest model, tuning over min_samples_split and the criterion used for splitting"
   ]
  },
  {
   "cell_type": "code",
   "execution_count": 12,
   "metadata": {},
   "outputs": [
    {
     "name": "stdout",
     "output_type": "stream",
     "text": [
      "Best model AUC:  0.8685714285714285\n",
      "Best model parameters:  {'criterion': 'gini', 'min_samples_split': 4}\n"
     ]
    }
   ],
   "source": [
    "# Set up hyperparamter tuning \n",
    "criterion_values =  [\"gini\", \"entropy\"]\n",
    "min_samples_split_values = [2, 3, 4, 5, 6, 7, 8, 9, 10, 11, 12]\n",
    "val_aucs = []\n",
    "max_val_auc = 0\n",
    "\n",
    "for criterion in criterion_values:\n",
    "    \n",
    "    for min_samples_split in min_samples_split_values:\n",
    "        \n",
    "        # Fit a random forest clssifier with these hyperparamters\n",
    "        model = RandomForestClassifier(criterion=criterion, min_samples_split=min_samples_split, random_state=10)\n",
    "        model = model.fit(encoder.transform(x_train), y_train)\n",
    "        \n",
    "        # Evaluate on the validation set\n",
    "        y_pred = model.predict_proba(encoder.transform(x_val))[:,1]\n",
    "        val_auc = roc_auc_score(y_val, y_pred)\n",
    "        val_aucs.append(val_auc)\n",
    "        \n",
    "        # Update best model if this model has the best AUC that we've seen thus far\n",
    "        if val_auc > max_val_auc:\n",
    "            \n",
    "            best_model = model\n",
    "            best_model_params = {'criterion': criterion, \n",
    "                                 'min_samples_split': min_samples_split}\n",
    "            max_val_auc = val_auc\n",
    "\n",
    "print(\"Best model AUC: \", max_val_auc)\n",
    "print(\"Best model parameters: \", best_model_params)"
   ]
  },
  {
   "cell_type": "code",
   "execution_count": 13,
   "metadata": {},
   "outputs": [
    {
     "data": {
      "image/png": "[encoded data removed]",
      "text/plain": [
       "<Figure size 432x288 with 1 Axes>"
      ]
     },
     "metadata": {
      "needs_background": "light"
     },
     "output_type": "display_data"
    }
   ],
   "source": [
    "fig, ax = plt.subplots()\n",
    "\n",
    "for i, criterion in enumerate(criterion_values):\n",
    "    val_aucs_to_plot = val_aucs[i*int(len(val_aucs)/2):(i+1)*int(len(val_aucs)/2)]\n",
    "    ax.plot(min_samples_split_values, val_aucs_to_plot, marker='.', markersize=12, linewidth=4, label=criterion)\n",
    "    \n",
    "ax.set_xlabel(\"Min Samples Split\")\n",
    "ax.set_ylabel(\"Validation AUC\")\n",
    "plt.legend()\n",
    "plt.show()"
   ]
  },
  {
   "cell_type": "markdown",
   "metadata": {},
   "source": [
    "## Part 3: Auditing Fairness in the Model Predictions\n",
    "\n",
    "We're going to explore a few different types of fairness for this model. \n",
    "\n",
    "#### Accuracy by Subclass\n",
    "\n",
    "First, we want to make sure that the model is at *least* as accurate for those with mental illnesses as those without.  Below, calculate the following:\n",
    "- the overall accuracy \n",
    "- the accuracy for those who reported having a mental illness\n",
    "- the accuracy for those who did not"
   ]
  },
  {
   "cell_type": "code",
   "execution_count": 14,
   "metadata": {},
   "outputs": [
    {
     "name": "stdout",
     "output_type": "stream",
     "text": [
      "Overall accuracy:  0.82\n",
      "With mental illness accuracy:  0.7142857142857143\n",
      "No mental illness accuracy:  0.8611111111111112\n"
     ]
    }
   ],
   "source": [
    "# Your code here\n",
    "y_pred = best_model.predict_proba(encoder.transform(x_val))[:,1]\n",
    "\n",
    "# Overall accuracy\n",
    "\n",
    "# Those with has_mental_illness=True\n",
    "\n",
    "# Those with has_mental_illness=False\n"
   ]
  },
  {
   "cell_type": "markdown",
   "metadata": {},
   "source": [
    "Is this gap in accuracy too big? Probably. (Do keep in mind, however, that our validation set is tiny and thus this estimate is noisy.)\n",
    "\n",
    "Let's try re-tuning the model, except this time, we'll pick the model that leads the lowest discrepancy in accuracies between the two groups. "
   ]
  },
  {
   "cell_type": "code",
   "execution_count": 15,
   "metadata": {},
   "outputs": [
    {
     "name": "stdout",
     "output_type": "stream",
     "text": [
      "Best model accuracy gap between the two groups:  0.019841269841269882\n",
      "Best model parameters:  {'criterion': 'entropy', 'min_samples_split': 9}\n"
     ]
    }
   ],
   "source": [
    "# Set up hyperparamter tuning \n",
    "criterion_values =  [\"gini\", \"entropy\"]\n",
    "min_samples_split_values = [2, 3, 4, 5, 6, 7, 8, 9, 10 ]\n",
    "acc_gaps = []\n",
    "min_acc_gap = float('inf')\n",
    "\n",
    "for criterion in criterion_values:\n",
    "    \n",
    "    for min_samples_split in min_samples_split_values:\n",
    "        \n",
    "        # Fit a random forest clssifier with these hyperparamters\n",
    "        model = RandomForestClassifier(criterion=criterion, min_samples_split=min_samples_split, random_state=10)\n",
    "        model = model.fit(encoder.transform(x_train), y_train)\n",
    "        \n",
    "        # Evaluate on the validation set\n",
    "        y_pred = model.predict_proba(encoder.transform(x_val))[:,1]\n",
    "        # Calculate accuracy separately for those with and without mental illnesses \n",
    "        mi_acc = accuracy_score(y_pred[x_val.has_mental_illness==1]>0.5, y_val[x_val.has_mental_illness==1])\n",
    "        no_mi_acc = accuracy_score(y_pred[x_val.has_mental_illness==0]>0.5, y_val[x_val.has_mental_illness==0])\n",
    "        # Calculate the gap between the accuracy for those two groups\n",
    "        gap = no_mi_acc - mi_acc\n",
    "        acc_gaps.append(gap)\n",
    "        \n",
    "        # Update best model if this model has the smallest difference between accuracies that we've seen thus far\n",
    "        if gap < min_acc_gap:\n",
    "            best_model = model\n",
    "            best_model_params = {'criterion': criterion, \n",
    "                                 'min_samples_split': min_samples_split}\n",
    "            min_acc_gap = gap\n",
    "\n",
    "print(\"Best model accuracy gap between the two groups: \", min_acc_gap)\n",
    "print(\"Best model parameters: \", best_model_params)"
   ]
  },
  {
   "cell_type": "markdown",
   "metadata": {},
   "source": [
    "Let's re-evaluate accuracy with this new model. "
   ]
  },
  {
   "cell_type": "code",
   "execution_count": 16,
   "metadata": {},
   "outputs": [
    {
     "name": "stdout",
     "output_type": "stream",
     "text": [
      "Overall accuracy:  0.8\n",
      "With mental illness accuracy:  0.7857142857142857\n",
      "No mental illness accuracy:  0.8055555555555556\n"
     ]
    }
   ],
   "source": [
    "y_pred = best_model.predict_proba(encoder.transform(x_val))[:,1]\n",
    "\n",
    "# Overall accuracy\n",
    "print(\"Overall accuracy: \", accuracy_score(y_pred>0.5, y_val))\n",
    "\n",
    "# Those with has_mental_illness=True\n",
    "print(\"With mental illness accuracy: \",  accuracy_score(y_pred[x_val.has_mental_illness==1]>0.5, y_val[x_val.has_mental_illness==1]))\n",
    "\n",
    "# Those with has_mental_illness=False\n",
    "print(\"No mental illness accuracy: \",  accuracy_score(y_pred[x_val.has_mental_illness==0]>0.5, y_val[x_val.has_mental_illness==0]))\n"
   ]
  },
  {
   "cell_type": "markdown",
   "metadata": {},
   "source": [
    "Overall accuracy has fallen, but now the model does much better for individuals with mental illness.\n",
    "\n",
    "What are some potential pitfalls of this method of pursuing equal accuracy across subclasses? "
   ]
  },
  {
   "cell_type": "markdown",
   "metadata": {},
   "source": [
    "#### Disparate Impact for Sensitive Groups\n",
    "\n",
    "First, think back to our scenario. *What outcome class is desirable?*\n",
    "\n",
    "Now, let's see how predictions for that outcome vary by sensitive class. Pick any sensitive characteristic that's of interest to you -- there are lots of options in this dataset! Then calculate the false positive rate ratio and the false negative rate ratio. As you do, think about\n",
    "\n",
    "- What is the range of these metrics? \n",
    "- What is their ideal value?\n",
    "- What does a false positive and a false negative in this context? Which do you think is worse?\n",
    "\n",
    "*False Positive Rate Ratio*\n",
    "\n",
    "$$\\frac{FNR_{D = \\text{unprivileged}}}{FNR_{D = \\text{privileged}}}$$\n",
    "\n",
    "*False Negative Rate Ratio*\n",
    "\n",
    "$$\\frac{FPR_{D = \\text{unprivileged}}}{FPR_{D = \\text{privileged}}}$$"
   ]
  },
  {
   "cell_type": "code",
   "execution_count": 17,
   "metadata": {},
   "outputs": [],
   "source": [
    "def get_ratios(feat, privileged):\n",
    "    '''Returns the false positive rate and false negative rate, \n",
    "       treating feat as the sensitive feature\n",
    "       and privileged as the privileged class'''\n",
    "    \n",
    "    # Get boolean vector marking which observations are of the privileged class\n",
    "    privileged_obs = x_val[feat] == privileged\n",
    "\n",
    "    # False negative rate ratio\n",
    "    fnr_privileged = sum((y_pred[privileged_obs]>0.5) & (y_val[privileged_obs]==0)) / sum(y_val[privileged_obs]==0)\n",
    "    fnr_unprivileged = sum((y_pred[~privileged_obs]>0.5) & (y_val[~privileged_obs]==0)) / sum(y_val[~privileged_obs]==0)\n",
    "    print(\"FNR Ratio: \",  fnr_unprivileged/fnr_privileged)\n",
    "    \n",
    "    # False positive rate ratio\n",
    "    fpr_privileged = sum((y_pred[privileged_obs]<0.5) & (y_val[privileged_obs]==1)) / sum(y_val[privileged_obs]==1)\n",
    "    fpr_unprivileged = sum((y_pred[~privileged_obs]<0.5) & (y_val[~privileged_obs]==1)) / sum(y_val[~privileged_obs]==1)\n",
    "    print(\"FPR Ratio: \", fpr_unprivileged/fpr_privileged)\n",
    "    return"
   ]
  },
  {
   "cell_type": "code",
   "execution_count": 18,
   "metadata": {},
   "outputs": [
    {
     "name": "stdout",
     "output_type": "stream",
     "text": [
      "FNR Ratio:  2.0\n",
      "FPR Ratio:  0.59375\n"
     ]
    }
   ],
   "source": [
    "# Try out some features that are interesting to you here. \n",
    "\n",
    "# Pick a feature name\n",
    "sensitive_feature_name = \"\"\n",
    "# Pick a value of that feature that is privileged (treating the feature as binary)\n",
    "# Recall that we've recoded categorical features using numerical labels, and stored the results in categorical_names\n",
    "privilege_value = \n",
    "\n",
    "get_ratios(sensitive_feature_name, privilege_value)"
   ]
  },
  {
   "cell_type": "markdown",
   "metadata": {},
   "source": [
    "Which is more important to you? Rectifying any disparities we found, or preserving the (already low) accuracy of this model for all those with mental illness?"
   ]
  },
  {
   "cell_type": "markdown",
   "metadata": {},
   "source": [
    "## Part 4: Explaining the Model Predictions\n",
    "\n",
    "In this scenario, we know we're going to need to be able explain to someone why they will or will not receive employment assistance from our nonprofit. LIME can help us do that.\n",
    "\n",
    "Let's look at the predictions for some individuals in the test set who have a mental illness. "
   ]
  },
  {
   "cell_type": "code",
   "execution_count": 19,
   "metadata": {},
   "outputs": [],
   "source": [
    "# Initialize the explainer\n",
    "explainer = lime.lime_tabular.LimeTabularExplainer(x_train.values, \n",
    "                                                   feature_names=x_train.columns,\n",
    "                                                   class_names=['Unemployed', 'Employed'],\n",
    "                                                   categorical_features=categorical_features, \n",
    "                                                   categorical_names=categorical_names)\n",
    "\n",
    "predict_fn = lambda x: model.predict_proba(encoder.transform(x)).astype(float)\n",
    "\n",
    "# Get test set predictions\n",
    "y_test_pred =  best_model.predict_proba(encoder.transform(x_test[x_test.has_mental_illness]))[:,1]\n"
   ]
  },
  {
   "cell_type": "code",
   "execution_count": 20,
   "metadata": {},
   "outputs": [
    {
     "name": "stdout",
     "output_type": "stream",
     "text": [
      "Prediction:  Employed\n"
     ]
    },
    {
     "data": {
      "image/png": "[encoded data removed]",
      "text/plain": [
       "<Figure size 432x288 with 1 Axes>"
      ]
     },
     "metadata": {
      "needs_background": "light"
     },
     "output_type": "display_data"
    }
   ],
   "source": [
    "i = 5\n",
    "exp = explainer.explain_instance((x_test[x_test.has_mental_illness].values[i]), predict_fn, num_features=5)\n",
    "print(\"Prediction: \", \"Employed\" if y_test_pred[i] > 0.5 else \"Unemployed\")\n",
    "fig = exp.as_pyplot_figure()"
   ]
  }
 ],
 "metadata": {
  "kernelspec": {
   "display_name": "Python [conda env:rds_env]",
   "language": "python",
   "name": "conda-env-rds_env-py"
  },
  "language_info": {
   "codemirror_mode": {
    "name": "ipython",
    "version": 3
   },
   "file_extension": ".py",
   "mimetype": "text/x-python",
   "name": "python",
   "nbconvert_exporter": "python",
   "pygments_lexer": "ipython3",
   "version": "3.7.1"
  }
 },
 "nbformat": 4,
 "nbformat_minor": 4
}
