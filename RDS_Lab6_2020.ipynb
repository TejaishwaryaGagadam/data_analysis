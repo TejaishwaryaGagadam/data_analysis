{
 "cells": [
  {
   "cell_type": "markdown",
   "metadata": {},
   "source": [
    "# RDS Lab 6\n",
    "\n",
    "Today we will be talking about a privacy-preserving way to create synthetic data that (optionally) retains some useful characteristics of the original dataset. You can read about the DataSynthesizer in [Ping, Stoyanovich, and Howe (2017)](https://faculty.washington.edu/billhowe/publications/pdfs/ping17datasynthesizer.pdf)\n",
    "\n",
    "## Import DataSynthesizer\n",
    "\n",
    "The original code can be downloaded from [Github](https://github.com/DataResponsibly/DataSynthesizer), but we have it set up on Jupyter Hub for today. "
   ]
  },
  {
   "cell_type": "code",
   "execution_count": null,
   "metadata": {},
   "outputs": [],
   "source": [
    "import os, sys\n",
    "# Add the direcotry of DataSynthesizer into sys.path before importing the code\n",
    "instructor_path = os.getcwd() + '/../../shared/Lab 6/DataSynthesizer/DataSynthesizer'\n",
    "student_path = os.getcwd() + '/../shared/Lab 6/DataSynthesizer/DataSynthesizer'\n",
    "path = student_path # change this during lab!\n",
    "sys.path.append(path)"
   ]
  },
  {
   "cell_type": "code",
   "execution_count": null,
   "metadata": {},
   "outputs": [],
   "source": [
    "import json\n",
    "import pandas as pd\n",
    "import matplotlib.pyplot as plt\n",
    "%matplotlib inline\n",
    "from IPython.display import Image"
   ]
  },
  {
   "cell_type": "code",
   "execution_count": null,
   "metadata": {},
   "outputs": [],
   "source": [
    "from DataDescriber import DataDescriber\n",
    "from DataGenerator import DataGenerator\n",
    "from ModelInspector import ModelInspector\n",
    "from lib.utils import read_json_file"
   ]
  },
  {
   "cell_type": "code",
   "execution_count": null,
   "metadata": {},
   "outputs": [],
   "source": [
    "# Intialize a describer and a generator\n",
    "describer = DataDescriber()\n",
    "generator = DataGenerator()"
   ]
  },
  {
   "cell_type": "markdown",
   "metadata": {},
   "source": [
    "## Preparation\n"
   ]
  },
  {
   "cell_type": "code",
   "execution_count": null,
   "metadata": {},
   "outputs": [],
   "source": [
    "# Set up some paths\n",
    "sensitive_data_file = path + '/../data/adult_reduced.csv'\n",
    "description_files = {'random mode':                   'description(random).json', \n",
    "                     'independent attribute mode':    'description(independent).json', \n",
    "                     'correlated attribute mode':     'description(correlated).json'}\n",
    "synthetic_data_files = {'random mode':                'synthetic data(random).csv', \n",
    "                        'independent attribute mode': 'synthetic data(independent).csv', \n",
    "                        'correlated attribute mode':  'synthetic data(correlated).csv'}\n",
    "\n",
    "\n",
    "output_data_size = 1000"
   ]
  },
  {
   "cell_type": "code",
   "execution_count": null,
   "metadata": {},
   "outputs": [],
   "source": [
    "# Read in the data\n",
    "real_data = pd.read_csv(sensitive_data_file)\n",
    "real_data.head()"
   ]
  },
  {
   "cell_type": "markdown",
   "metadata": {},
   "source": [
    "## Random mode\n",
    "\n",
    "In random mode, we replace the feature that we want to protect with random values drawn from a uniform distribution"
   ]
  },
  {
   "cell_type": "code",
   "execution_count": null,
   "metadata": {},
   "outputs": [],
   "source": [
    "describer.describe_dataset_in_random_mode(sensitive_data_file)"
   ]
  },
  {
   "cell_type": "code",
   "execution_count": null,
   "metadata": {},
   "outputs": [],
   "source": [
    "describer.save_dataset_description_to_file(description_files['random mode'])"
   ]
  },
  {
   "cell_type": "markdown",
   "metadata": {},
   "source": [
    "#### Important parameters here\n",
    "\n",
    "- __seed__: initialize the random number generator for both `random` and `np.random`\n",
    "- __mininum__, __maxmimum__: determines the min and max of the random distribution from which we will draw the new values"
   ]
  },
  {
   "cell_type": "code",
   "execution_count": null,
   "metadata": {},
   "outputs": [],
   "source": [
    "generator.generate_dataset_in_random_mode(n=output_data_size, \n",
    "                                          description_file=description_files['random mode'], \n",
    "                                          seed=0, \n",
    "                                          minimum=0, \n",
    "                                          maximum=100)"
   ]
  },
  {
   "cell_type": "code",
   "execution_count": null,
   "metadata": {},
   "outputs": [],
   "source": [
    "generator.save_synthetic_data(synthetic_data_files['random mode'])"
   ]
  },
  {
   "cell_type": "code",
   "execution_count": null,
   "metadata": {},
   "outputs": [],
   "source": [
    "synthetic_random = pd.read_csv(synthetic_data_files['random mode'])"
   ]
  },
  {
   "cell_type": "code",
   "execution_count": null,
   "metadata": {},
   "outputs": [],
   "source": [
    "real_data.head()"
   ]
  },
  {
   "cell_type": "code",
   "execution_count": null,
   "metadata": {},
   "outputs": [],
   "source": [
    "synthetic_random.head()"
   ]
  },
  {
   "cell_type": "code",
   "execution_count": null,
   "metadata": {},
   "outputs": [],
   "source": [
    "fig, axes = plt.subplots(1, 2, figsize=(8,3), dpi=100)\n",
    "axes[0].hist(real_data['age'])\n",
    "axes[1].hist(synthetic_random['age'])\n",
    "axes[0].set_xlabel('age')\n",
    "axes[1].set_xlabel('age')\n",
    "axes[0].set_title('real data')\n",
    "axes[1].set_title('random mode');"
   ]
  },
  {
   "cell_type": "code",
   "execution_count": null,
   "metadata": {},
   "outputs": [],
   "source": [
    "relationship_real = real_data['relationship'].value_counts()\n",
    "relationship_random = synthetic_random['relationship'].value_counts()\n",
    "relationship_both = pd.merge(relationship_real.to_frame(), \n",
    "                             relationship_random.to_frame(), \n",
    "                             left_index=True, \n",
    "                             right_index=True, \n",
    "                             suffixes=('_real', '_random_mode'))\n",
    "relationship_both"
   ]
  },
  {
   "cell_type": "code",
   "execution_count": null,
   "metadata": {},
   "outputs": [],
   "source": [
    "fig, axes = plt.subplots(1, 2, figsize=(6,3), dpi=120)\n",
    "axes[0].bar(relationship_both.index, relationship_both['relationship_real'])\n",
    "axes[1].bar(relationship_both.index, relationship_both['relationship_random_mode'])\n",
    "axes[0].set_title('real data')\n",
    "axes[1].set_title('random mode')\n",
    "fig.autofmt_xdate()"
   ]
  },
  {
   "cell_type": "code",
   "execution_count": null,
   "metadata": {},
   "outputs": [],
   "source": [
    "with open(description_files['random mode']) as f:\n",
    "    description_json = json.load(f)"
   ]
  },
  {
   "cell_type": "code",
   "execution_count": null,
   "metadata": {},
   "outputs": [],
   "source": [
    "description_json.keys()"
   ]
  },
  {
   "cell_type": "code",
   "execution_count": null,
   "metadata": {},
   "outputs": [],
   "source": [
    "print(json.dumps(description_json['attribute_description']['relationship'], indent=4))"
   ]
  },
  {
   "cell_type": "markdown",
   "metadata": {},
   "source": [
    "## Independent attribute mode\n",
    "\n",
    "In independent attribute mode, we replace the feature we want to protect with values that follow the same distribution as the original data. However, we do not consider any other features when determining the new value for the sensitive feature. "
   ]
  },
  {
   "cell_type": "code",
   "execution_count": null,
   "metadata": {},
   "outputs": [],
   "source": [
    "describer.describe_dataset_in_independent_attribute_mode(sensitive_data_file, epsilon=0.1)"
   ]
  },
  {
   "cell_type": "code",
   "execution_count": null,
   "metadata": {},
   "outputs": [],
   "source": [
    "describer.save_dataset_description_to_file(description_files['independent attribute mode'])"
   ]
  },
  {
   "cell_type": "code",
   "execution_count": null,
   "metadata": {},
   "outputs": [],
   "source": [
    "generator.generate_dataset_in_independent_mode(n=output_data_size, \n",
    "                                               description_file=description_files['independent attribute mode'], \n",
    "                                               seed=0)"
   ]
  },
  {
   "cell_type": "code",
   "execution_count": null,
   "metadata": {},
   "outputs": [],
   "source": [
    "generator.save_synthetic_data(synthetic_data_files['independent attribute mode'])"
   ]
  },
  {
   "cell_type": "code",
   "execution_count": null,
   "metadata": {},
   "outputs": [],
   "source": [
    "synthetic_independent = pd.read_csv(synthetic_data_files['independent attribute mode'])"
   ]
  },
  {
   "cell_type": "code",
   "execution_count": null,
   "metadata": {},
   "outputs": [],
   "source": [
    "synthetic_independent.head()"
   ]
  },
  {
   "cell_type": "code",
   "execution_count": null,
   "metadata": {},
   "outputs": [],
   "source": [
    "# Plot age before and after being protected using indepenent attribute mode\n",
    "fig, axes = plt.subplots(1, 2, figsize=(8,3), dpi=100)\n",
    "axes[0].hist(real_data['age'])\n",
    "axes[1].hist(synthetic_independent['age'])\n",
    "axes[0].set_xlabel('age')\n",
    "axes[1].set_xlabel('age')\n",
    "axes[0].set_title('real data')\n",
    "axes[1].set_title('independent attribute mode');"
   ]
  },
  {
   "cell_type": "code",
   "execution_count": null,
   "metadata": {},
   "outputs": [],
   "source": [
    "# Plot the relationship between two variables to see if changes after protecting age\n",
    "real_data.groupby(['income']).age.plot(kind=\"hist\",  title='real data', legend=True)\n",
    "plt.show()\n",
    "synthetic_independent.groupby(['income']).age.plot(kind=\"hist\",  title='independent attribute mode', legend=True)\n",
    "plt.show()\n"
   ]
  },
  {
   "cell_type": "code",
   "execution_count": null,
   "metadata": {},
   "outputs": [],
   "source": [
    "relationship_real = real_data['relationship'].value_counts()\n",
    "relationship_independent = synthetic_independent['relationship'].value_counts()\n",
    "relationship_both = pd.merge(relationship_real.to_frame(), \n",
    "                             relationship_independent.to_frame(), \n",
    "                             left_index=True, \n",
    "                             right_index=True, \n",
    "                             suffixes=('_real', '_independent_attribute_mode'))\n",
    "\n",
    "fig, axes = plt.subplots(1, 2, figsize=(6,3), dpi=120)\n",
    "axes[0].bar(relationship_both.index, relationship_both['relationship_real'])\n",
    "axes[1].bar(relationship_both.index, relationship_both['relationship_independent_attribute_mode'])\n",
    "axes[0].set_title('real data')\n",
    "axes[1].set_title('independent attribute mode')\n",
    "fig.autofmt_xdate()"
   ]
  },
  {
   "cell_type": "markdown",
   "metadata": {},
   "source": [
    "## Correlated attribute mode\n",
    "\n",
    "The correlated attribute mode replaces the feature we want to protect with values based on the *conditional* distribution of all the features in the database. This is calculated using a Bayesian network."
   ]
  },
  {
   "cell_type": "code",
   "execution_count": null,
   "metadata": {},
   "outputs": [],
   "source": [
    "describer.describe_dataset_in_correlated_attribute_mode(sensitive_data_file, \n",
    "                                                        epsilon=0.1, \n",
    "                                                        k=2)"
   ]
  },
  {
   "cell_type": "code",
   "execution_count": null,
   "metadata": {},
   "outputs": [],
   "source": [
    "from lib.utils import display_bayesian_network"
   ]
  },
  {
   "cell_type": "code",
   "execution_count": null,
   "metadata": {},
   "outputs": [],
   "source": [
    "display_bayesian_network(describer.bayesian_network)"
   ]
  },
  {
   "cell_type": "code",
   "execution_count": null,
   "metadata": {},
   "outputs": [],
   "source": [
    "describer.save_dataset_description_to_file(description_files['correlated attribute mode'])"
   ]
  },
  {
   "cell_type": "code",
   "execution_count": null,
   "metadata": {},
   "outputs": [],
   "source": [
    "generator.generate_dataset_in_correlated_attribute_mode(n=output_data_size, \n",
    "                                                        description_file=description_files['correlated attribute mode'],\n",
    "                                                        seed=0)"
   ]
  },
  {
   "cell_type": "code",
   "execution_count": null,
   "metadata": {},
   "outputs": [],
   "source": [
    "generator.save_synthetic_data(synthetic_data_files['correlated attribute mode'])"
   ]
  },
  {
   "cell_type": "code",
   "execution_count": null,
   "metadata": {},
   "outputs": [],
   "source": [
    "synthetic_correlated = pd.read_csv(synthetic_data_files['correlated attribute mode'])"
   ]
  },
  {
   "cell_type": "code",
   "execution_count": null,
   "metadata": {},
   "outputs": [],
   "source": [
    "fig, axes = plt.subplots(1, 2, figsize=(8,3), dpi=100)\n",
    "axes[0].hist(real_data['age'])\n",
    "axes[1].hist(synthetic_correlated['age'])\n",
    "axes[0].set_xlabel('age')\n",
    "axes[1].set_xlabel('age')\n",
    "axes[0].set_title('real data')\n",
    "axes[1].set_title('correlated attribute mode');"
   ]
  },
  {
   "cell_type": "code",
   "execution_count": null,
   "metadata": {},
   "outputs": [],
   "source": [
    "# Plot the relationship between two variables to see if changes after protecting age\n",
    "real_data.groupby(['income']).age.plot(kind=\"hist\",  title='real data', legend=True)\n",
    "plt.show()\n",
    "synthetic_correlated.groupby(['income']).age.plot(kind=\"hist\",  title='correlated attribute mode', legend=True)\n",
    "plt.show()\n"
   ]
  },
  {
   "cell_type": "code",
   "execution_count": null,
   "metadata": {},
   "outputs": [],
   "source": [
    "relationship_real = real_data['relationship'].value_counts()\n",
    "relationship_correlated = synthetic_correlated['relationship'].value_counts()\n",
    "relationship_both = pd.merge(relationship_real.to_frame(), \n",
    "                             relationship_correlated.to_frame(), \n",
    "                             left_index=True, \n",
    "                             right_index=True, \n",
    "                             suffixes=('_real', '_correlated_attribute_mode'))\n",
    "\n",
    "fig, axes = plt.subplots(1, 2, figsize=(6,3), dpi=120)\n",
    "axes[0].bar(relationship_both.index, relationship_both['relationship_real'])\n",
    "axes[1].bar(relationship_both.index, relationship_both['relationship_correlated_attribute_mode'])\n",
    "axes[0].set_title('real data')\n",
    "axes[1].set_title('correlated attribute mode')\n",
    "fig.autofmt_xdate()"
   ]
  },
  {
   "cell_type": "markdown",
   "metadata": {},
   "source": [
    "## Statistical measures\n",
    "\n",
    "### Mutual information"
   ]
  },
  {
   "cell_type": "markdown",
   "metadata": {},
   "source": [
    "We can use mutual information to further understand how the relationships between features are similar/different in the real data and the synthetic data. Mutual information is defined as follows for two discrete variables X and Y:\n",
    "\n",
    "\n",
    "$$I(X; Y) = \\sum_{y \\in Y} \\sum_{x \\in X} p(x,y) \\log(\\frac{p(x,y)}{p(x)p(y)})$$\n",
    "\n",
    "Higher values indicate greater levels of mutual information. For two independent variables, the value will be zero (look at the logged term). This metric works for categorical variables *or* continuous variables. "
   ]
  },
  {
   "cell_type": "code",
   "execution_count": null,
   "metadata": {},
   "outputs": [],
   "source": [
    "from sklearn.metrics import normalized_mutual_info_score"
   ]
  },
  {
   "cell_type": "code",
   "execution_count": null,
   "metadata": {},
   "outputs": [],
   "source": [
    "normalized_mutual_info_score(real_data['marital-status'], \n",
    "                             real_data['relationship'], \n",
    "                             average_method='arithmetic')"
   ]
  },
  {
   "cell_type": "code",
   "execution_count": null,
   "metadata": {},
   "outputs": [],
   "source": [
    "normalized_mutual_info_score(real_data['marital-status'], \n",
    "                             real_data['education'], \n",
    "                             average_method='arithmetic')"
   ]
  },
  {
   "cell_type": "markdown",
   "metadata": {},
   "source": [
    "We can even plot the mutual information between all pairs of features in the dataset."
   ]
  },
  {
   "cell_type": "code",
   "execution_count": null,
   "metadata": {},
   "outputs": [],
   "source": [
    "attribute_description = read_json_file(description_files['correlated attribute mode'])['attribute_description']\n",
    "ModelInspector(real_data, \n",
    "               synthetic_correlated, \n",
    "               attribute_description).mutual_information_heatmap()"
   ]
  },
  {
   "cell_type": "markdown",
   "metadata": {},
   "source": [
    "### Two-sample Kolmogorov–Smirnov test\n",
    "\n",
    "The Kolmogorov-Smirnov test quantifies the similarity between the empirical distribution functions two sets of data. We can use it to measure how well the distribution of our synthetic data mimics the distribution of the original dataset. \n",
    "\n",
    "For two empirical distributions P and Q, the Kolmogorov–Smirnov test statistic is defined as:\n",
    "\n",
    "$$D = \\max_x |P(x) - Q(x)|$$\n",
    "\n",
    "Intuitively, think of plotting the CDF of each dataset. The Kolmogorov–Smirnov test statistic is the maxium distance between the two CDFs. \n",
    "\n",
    "<img src=\"https://upload.wikimedia.org/wikipedia/commons/c/cf/KS_Example.png\">\n",
    "\n",
    "This metric only works for continuous variables. "
   ]
  },
  {
   "cell_type": "code",
   "execution_count": null,
   "metadata": {},
   "outputs": [],
   "source": [
    "from scipy.stats import ks_2samp"
   ]
  },
  {
   "cell_type": "code",
   "execution_count": null,
   "metadata": {},
   "outputs": [],
   "source": [
    "def ks_test(df_in: pd.DataFrame, df_out: pd.DataFrame, attr: str):\n",
    "    \"\"\"\n",
    "    df_in: the sensitive dataset\n",
    "    df_out: the synthetic dataset\n",
    "    attr: the attribute that will be calculated for Two-sample Kolmogorov–Smirnov test.\n",
    "    \"\"\"\n",
    "    return ks_2samp(df_in[attr], df_out[attr])[0]"
   ]
  },
  {
   "cell_type": "code",
   "execution_count": null,
   "metadata": {},
   "outputs": [],
   "source": [
    "ks_test(real_data, synthetic_random, 'age')"
   ]
  },
  {
   "cell_type": "code",
   "execution_count": null,
   "metadata": {},
   "outputs": [],
   "source": [
    "ks_test(real_data, synthetic_independent, 'age')"
   ]
  },
  {
   "cell_type": "code",
   "execution_count": null,
   "metadata": {},
   "outputs": [],
   "source": [
    "ks_test(real_data, synthetic_correlated, 'age')"
   ]
  },
  {
   "cell_type": "markdown",
   "metadata": {},
   "source": [
    "### KL-divergence\n",
    "\n",
    "The KL-divergence is an alternative way to measure the difference between two distributions. For two distributions P and Q, the KL-divergence is defined as \n",
    "\n",
    "$$D = \\sum_x P(x) \\log (\\frac{P(x)}{Q(X)})$$\n",
    "\n",
    "This metric works on discrete/categorical variables.\n"
   ]
  },
  {
   "cell_type": "code",
   "execution_count": null,
   "metadata": {},
   "outputs": [],
   "source": [
    "from scipy.stats import entropy"
   ]
  },
  {
   "cell_type": "code",
   "execution_count": null,
   "metadata": {},
   "outputs": [],
   "source": [
    "def get_distribution_of_categorical_attribute(attribute: pd.Series, indicies=None):\n",
    "    distribution = attribute.dropna().value_counts()\n",
    "    if indicies is not None:\n",
    "        for idx in set(indicies) - set(distribution.index):\n",
    "            distribution.loc[idx] = 0\n",
    "    distribution.sort_index(inplace=True)\n",
    "    return distribution/sum(distribution)\n",
    "\n",
    "def kl_test(df_in: pd.DataFrame, df_out: pd.DataFrame, attr: str):\n",
    "    \"\"\"\n",
    "    df_in: the sensitive dataset\n",
    "    df_out: the synthetic dataset\n",
    "    attr: the attribute that will be calculated for KL-divergence.\n",
    "    \"\"\"\n",
    "    distribution_in = get_distribution_of_categorical_attribute(df_in[attr])\n",
    "    distribution_out = get_distribution_of_categorical_attribute(df_out[attr], distribution_in.index)\n",
    "    return entropy(distribution_out, distribution_in)"
   ]
  },
  {
   "cell_type": "code",
   "execution_count": null,
   "metadata": {},
   "outputs": [],
   "source": [
    "kl_test(real_data, synthetic_random, 'relationship')"
   ]
  },
  {
   "cell_type": "code",
   "execution_count": null,
   "metadata": {},
   "outputs": [],
   "source": [
    "kl_test(real_data, synthetic_independent, 'relationship')"
   ]
  },
  {
   "cell_type": "code",
   "execution_count": null,
   "metadata": {},
   "outputs": [],
   "source": [
    "kl_test(real_data, synthetic_correlated, 'relationship')"
   ]
  },
  {
   "cell_type": "markdown",
   "metadata": {},
   "source": [
    "### Boxplot"
   ]
  },
  {
   "cell_type": "code",
   "execution_count": null,
   "metadata": {},
   "outputs": [],
   "source": [
    "import seaborn as sns"
   ]
  },
  {
   "cell_type": "code",
   "execution_count": null,
   "metadata": {},
   "outputs": [],
   "source": [
    "real_data.head()"
   ]
  },
  {
   "cell_type": "code",
   "execution_count": null,
   "metadata": {},
   "outputs": [],
   "source": [
    "plt.figure(dpi=100)\n",
    "sns.boxplot(x='income', y='age', data=real_data, linewidth=0.5, fliersize=2);"
   ]
  },
  {
   "cell_type": "code",
   "execution_count": null,
   "metadata": {},
   "outputs": [],
   "source": []
  }
 ],
 "metadata": {
  "kernelspec": {
   "display_name": "Python [conda env:rds_env]",
   "language": "python",
   "name": "conda-env-rds_env-py"
  },
  "language_info": {
   "codemirror_mode": {
    "name": "ipython",
    "version": 3
   },
   "file_extension": ".py",
   "mimetype": "text/x-python",
   "name": "python",
   "nbconvert_exporter": "python",
   "pygments_lexer": "ipython3",
   "version": "3.7.6"
  }
 },
 "nbformat": 4,
 "nbformat_minor": 4
}
